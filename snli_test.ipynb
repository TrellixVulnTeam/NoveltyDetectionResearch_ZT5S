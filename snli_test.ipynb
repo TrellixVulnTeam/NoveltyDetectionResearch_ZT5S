{
 "metadata": {
  "language_info": {
   "codemirror_mode": {
    "name": "ipython",
    "version": 3
   },
   "file_extension": ".py",
   "mimetype": "text/x-python",
   "name": "python",
   "nbconvert_exporter": "python",
   "pygments_lexer": "ipython3",
   "version": "3.6.9-final"
  },
  "orig_nbformat": 2,
  "kernelspec": {
   "name": "python3",
   "display_name": "Python 3.6.9 64-bit",
   "metadata": {
    "interpreter": {
     "hash": "31f2aee4e71d21fbe5cf8b01ff0e069b9275f58929596ceb00d14d90e3e16cd6"
    }
   }
  }
 },
 "nbformat": 4,
 "nbformat_minor": 2,
 "cells": [
  {
   "cell_type": "code",
   "execution_count": 1,
   "metadata": {},
   "outputs": [],
   "source": [
    "from src.datasets.nli import *\n",
    "from src.model.nli_models import *\n",
    "from src.utils.nli_utils import *"
   ]
  },
  {
   "cell_type": "code",
   "execution_count": 3,
   "metadata": {},
   "outputs": [],
   "source": [
    "snli_conf = {\"batch_size\":128,\"max_len\":50,\"device\":'cuda',\"tokenizer\":'bert',\"use_char_emb\":False,\"max_word_len\":10}\n",
    "dataset = snli_module(snli_conf)"
   ]
  },
  {
   "cell_type": "code",
   "execution_count": 4,
   "metadata": {},
   "outputs": [],
   "source": [
    "dataset.prepare_data()"
   ]
  },
  {
   "cell_type": "code",
   "execution_count": 10,
   "metadata": {},
   "outputs": [],
   "source": [
    "import torch\n",
    "import torch.nn as nn\n",
    "import torch.nn.functional as F\n",
    "import torch.optim as optim\n",
    "import numpy as np\n",
    "\n",
    "\"\"\"\n",
    "++++++++++++++++++++++++++++++++++++++++++++++++++++++++++++++++\n",
    "BiLSTM + Attention based SNLI model\n",
    "++++++++++++++++++++++++++++++++++++++++++++++++++++++++++++++++\n",
    "\"\"\"\n",
    "\n",
    "\n",
    "class Attention(nn.Module):\n",
    "    def __init__(self, conf):\n",
    "        super(Attention, self).__init__()\n",
    "        self.Ws = nn.Linear(\n",
    "            2 * conf[\"hidden_size\"],\n",
    "            conf[\"attention_layer_param\"],\n",
    "            bias=False,\n",
    "        )\n",
    "        self.Wa = nn.Linear(conf[\"attention_layer_param\"], 1, bias=False)\n",
    "\n",
    "    def forward(self, hid):\n",
    "        opt = self.Ws(hid)\n",
    "        opt = torch.tanh(opt)\n",
    "        opt = self.Wa(opt)\n",
    "        opt = F.softmax(opt, dim=1)\n",
    "        return opt\n",
    "\n",
    "\n",
    "class Attn_Encoder(nn.Module):\n",
    "    def __init__(self, conf):\n",
    "        super(Attn_Encoder, self).__init__()\n",
    "        self.embedding = nn.Embedding(\n",
    "            num_embeddings=conf[\"vocab_size\"],\n",
    "            embedding_dim=conf[\"embedding_dim\"],\n",
    "            padding_idx=conf[\"padding_idx\"],\n",
    "        )\n",
    "        self.translate = nn.Linear(\n",
    "            (\n",
    "                conf[\"embedding_dim\"]\n",
    "                + int(conf[\"use_char_emb\"]) * conf[\"char_embedding_dim\"]\n",
    "            ),\n",
    "            conf[\"hidden_size\"],\n",
    "        )\n",
    "        self.relu = nn.ReLU()\n",
    "        self.dropout = nn.Dropout(p=conf[\"dropout\"])\n",
    "\n",
    "        if conf[\"use_glove\"]:\n",
    "            self.embedding = nn.Embedding.from_pretrained(\n",
    "                torch.load(\".vector_cache/{}_vectors.pt\".format(conf[\"dataset\"]))\n",
    "            )\n",
    "\n",
    "        if conf[\"use_char_emb\"]:\n",
    "            self.char_embedding = nn.Embedding(\n",
    "                num_embeddings=conf[\"char_vocab_size\"],\n",
    "                embedding_dim=conf[\"char_embedding_dim\"],\n",
    "                padding_idx=0,\n",
    "            )\n",
    "            self.char_cnn = nn.Conv2d(\n",
    "                conf[\"max_word_len\"],\n",
    "                conf[\"char_embedding_dim\"],\n",
    "                (1, 6),\n",
    "                stride=(1, 1),\n",
    "                padding=0,\n",
    "                bias=True,\n",
    "            )\n",
    "        self.lstm_layer = nn.LSTM(\n",
    "            input_size=conf[\"hidden_size\"],\n",
    "            hidden_size=conf[\"hidden_size\"],\n",
    "            num_layers=conf[\"num_layers\"],\n",
    "            dropout=conf[\"dropout\"],\n",
    "            bidirectional=True,\n",
    "            batch_first=True,\n",
    "        )\n",
    "        self.attention = Attention(conf)\n",
    "\n",
    "    def char_embedding_forward(self, x):\n",
    "        # X - [batch_size, seq_len, char_emb_size])\n",
    "        batch_size, seq_len, char_emb_size = x.shape\n",
    "        x = x.view(-1, char_emb_size)\n",
    "        x = self.char_embedding(x)  # (batch_size * seq_len, char_emb_size, emb_size)\n",
    "        x = x.view(batch_size, -1, seq_len, char_emb_size)\n",
    "        x = x.permute(0, 3, 2, 1)\n",
    "        x = self.char_cnn(x)\n",
    "        x = torch.max(F.relu(x), 3)[0]\n",
    "        return x.view(batch_size, seq_len, -1)\n",
    "\n",
    "    def forward(self, inp, char_vec):\n",
    "        batch_size = inp.shape[0]\n",
    "        embedded = self.embedding(inp)\n",
    "        if char_vec != None:\n",
    "            char_emb = self.char_embedding_forward(char_vec)\n",
    "            embedded = torch.cat([embedded, char_emb], dim=2)\n",
    "        embedded = self.relu(self.translate(embedded))\n",
    "        all_, (_, _) = self.lstm_layer(embedded)\n",
    "        attn = self.attention(all_)\n",
    "        cont = torch.bmm(attn.permute(0, 2, 1), all_)\n",
    "        cont = cont.squeeze(1)\n",
    "        return cont\n",
    "\n",
    "\n",
    "class AttnBiLSTM_snli(nn.Module):\n",
    "    def __init__(self, conf):\n",
    "        super(AttnBiLSTM_snli, self).__init__()\n",
    "        self.conf = conf\n",
    "        self.encoder = Attn_Encoder(conf)\n",
    "        self.fc_in = nn.Linear(\n",
    "            2 * 4 * self.conf[\"hidden_size\"],\n",
    "            self.conf[\"hidden_size\"],\n",
    "        )\n",
    "        self.fcs = nn.ModuleList(\n",
    "            [\n",
    "                nn.Linear(self.conf[\"hidden_size\"], self.conf[\"hidden_size\"])\n",
    "                for i in range(self.conf[\"fcs\"])\n",
    "            ]\n",
    "        )\n",
    "        self.fc_out = nn.Linear(self.conf[\"hidden_size\"], 3)\n",
    "        self.relu = nn.ReLU()\n",
    "        self.softmax = nn.Softmax(dim=2)\n",
    "        self.dropout = nn.Dropout(p=self.conf[\"dropout\"])\n",
    "\n",
    "    def forward(self, x0, x1,**kwargs):\n",
    "        char_vec_x0 = kwargs.get(\"char_premise\",None)\n",
    "        char_vec_x1 = kwargs.get(\"char_hypothesis\",None)\n",
    "        x0_enc = self.encoder(x0,char_vec_x0)\n",
    "        x1_enc = self.encoder(x1,char_vec_x1)\n",
    "        cont = torch.cat(\n",
    "            [x0_enc, x1_enc, torch.abs(x0_enc - x1_enc), x0_enc * x1_enc], dim=1\n",
    "        )\n",
    "        opt = self.fc_in(cont)\n",
    "        opt = self.dropout(opt)\n",
    "        for fc in self.fcs:\n",
    "            opt = self.relu(self.dropout(fc(opt)))\n",
    "        opt = self.fc_out(opt)\n",
    "        return opt\n",
    "\n",
    "\n",
    "def attn_bilstm_snli(options):\n",
    "    return AttnBiLSTM_snli(options)\n"
   ]
  },
  {
   "cell_type": "code",
   "execution_count": 11,
   "metadata": {},
   "outputs": [],
   "source": [
    "model_conf = {\n",
    "    \"hidden_size\":300,\n",
    "    \"embedding_dim\":300,\n",
    "    \"char_embedding_dim\":100,\n",
    "    \"dropout\":0.3,\n",
    "    \"use_glove\":True,\n",
    "    \"num_layers\":1,\n",
    "    \"dataset\":\"snli\",\n",
    "    \"fcs\":1,\n",
    "    \"use_char_emb\":True,\n",
    "    \"vocab_size\":dataset.vocab_size(),\n",
    "    \"char_vocab_size\":dataset.char_vocab_size(),\n",
    "    \"max_word_len\": dataset.char_word_len(),\n",
    "    \"tokenizer\":\"spacy\",\n",
    "    \"padding_idx\":dataset.padding_idx(),\n",
    "    \"attention_layer_param\":200,\n",
    "    # \"r\":3,\n",
    "    # \"gated_embedding_dim\":150,\n",
    "    # \"pool_strategy\":'max',\n",
    "    # \"gated\":True\n",
    "}\n",
    "\n",
    "hparams = {\n",
    "    \"optimizer_base\": {\n",
    "        \"optim\": \"adamw\",\n",
    "        \"lr\": 0.0010039910781394373,\n",
    "        \"scheduler\": \"const\",\n",
    "    },\n",
    "    \"optimizer_tune\": {\n",
    "        \"optim\": \"adam\",\n",
    "        \"lr\": 0.0010039910781394373,\n",
    "        \"weight_decay\": 0.1,\n",
    "        \"scheduler\": \"lambda\",\n",
    "    },\n",
    "    \"switch_epoch\": 5,\n",
    "}\n",
    "\n",
    "model = AttnBiLSTM_snli(model_conf)\n",
    "# model = SNLI_model(attn_bilstm_snli,model_conf,hparams=hparams)"
   ]
  },
  {
   "cell_type": "code",
   "execution_count": 7,
   "metadata": {},
   "outputs": [
    {
     "output_type": "stream",
     "name": "stdout",
     "text": [
      "\n[torchtext.data.batch.Batch of size 128 from SNLI]\n\t[.premise]:[torch.cuda.LongTensor of size 128x50 (GPU 0)]\n\t[.hypothesis]:[torch.cuda.LongTensor of size 128x50 (GPU 0)]\n\t[.label]:[torch.cuda.LongTensor of size 128 (GPU 0)]\n"
     ]
    }
   ],
   "source": [
    "for i in dataset.train_dataloader():\n",
    "    print(i)\n",
    "    break\n"
   ]
  },
  {
   "cell_type": "code",
   "execution_count": 6,
   "metadata": {},
   "outputs": [],
   "source": [
    "TEXT = dataset.data.TEXT"
   ]
  },
  {
   "cell_type": "code",
   "execution_count": 7,
   "metadata": {},
   "outputs": [],
   "source": [
    "import dill\n",
    "\n",
    "with open(\"./temp/TEXT.Field\",\"wb\")as f:\n",
    "     dill.dump(TEXT,f)\n",
    "\n"
   ]
  },
  {
   "cell_type": "code",
   "execution_count": 1,
   "metadata": {},
   "outputs": [],
   "source": [
    "import dill\n",
    "\n",
    "with open(\"temp/TEXT.Field\",\"rb\")as f:\n",
    "     TEXT=dill.load(f)"
   ]
  },
  {
   "cell_type": "code",
   "execution_count": 5,
   "metadata": {},
   "outputs": [
    {
     "output_type": "execute_result",
     "data": {
      "text/plain": [
       "['hello how are you']"
      ]
     },
     "metadata": {},
     "execution_count": 5
    }
   ],
   "source": [
    "TEXT.preprocess([\"Hello how are you\"])"
   ]
  },
  {
   "cell_type": "code",
   "execution_count": 6,
   "metadata": {},
   "outputs": [
    {
     "output_type": "execute_result",
     "data": {
      "text/plain": [
       "tensor([[    2, 13656,  6344,  9152,  9152,  3294,   517, 13656,  3294,  8023,\n",
       "           517,     4,  5711,  6344,   517, 17802,  3294,  7047,     3,     1,\n",
       "             1,     1,     1,     1,     1,     1,     1,     1,     1,     1,\n",
       "             1,     1,     1,     1,     1,     1,     1,     1,     1,     1,\n",
       "             1,     1,     1,     1,     1,     1,     1,     1,     1,     1]])"
      ]
     },
     "metadata": {},
     "execution_count": 6
    }
   ],
   "source": [
    "TEXT.process(TEXT.preprocess([\"Hello how are you\"]))"
   ]
  },
  {
   "cell_type": "code",
   "execution_count": 1,
   "metadata": {},
   "outputs": [],
   "source": [
    "from src.utils.download_utils import download_from_url"
   ]
  },
  {
   "cell_type": "code",
   "execution_count": 2,
   "metadata": {},
   "outputs": [
    {
     "output_type": "stream",
     "name": "stdout",
     "text": [
      "downloading from Google Drive; may take a few minutes\n"
     ]
    }
   ],
   "source": [
    "download_from_url('https://drive.google.com/file/d/1q-P3ReGf-yWnKrhb6XQAuMGo39hXlhYG/view?usp=sharing','./.data/dlnd/dlnd.zip')"
   ]
  },
  {
   "cell_type": "code",
   "execution_count": 3,
   "metadata": {},
   "outputs": [],
   "source": [
    "import shutil"
   ]
  },
  {
   "cell_type": "code",
   "execution_count": 5,
   "metadata": {},
   "outputs": [],
   "source": [
    "shutil.unpack_archive('/content/NoveltyDetectionResearch/.data/dlnd/dlnd.zip','/content/NoveltyDetectionResearch/.data/dlnd','zip')"
   ]
  },
  {
   "cell_type": "code",
   "execution_count": 10,
   "metadata": {},
   "outputs": [
    {
     "output_type": "execute_result",
     "data": {
      "text/plain": [
       "'1q-P3ReGf-yWnKrhb6XQAuMGo39hXlhYG'"
      ],
      "application/vnd.google.colaboratory.intrinsic+json": {
       "type": "string"
      }
     },
     "metadata": {},
     "execution_count": 10
    }
   ],
   "source": [
    "import re\n",
    "a = \"https://drive.google.com/file/d/1q-P3ReGf-yWnKrhb6XQAuMGo39hXlhYG/view?usp=sharing\"\n",
    "\n",
    "a.split('/')[-2]"
   ]
  },
  {
   "cell_type": "code",
   "execution_count": 11,
   "metadata": {},
   "outputs": [],
   "source": [
    "import glob\n",
    "import re\n",
    "import os\n",
    "import numpy as np\n",
    "import pandas as pd\n",
    "import xml.etree.ElementTree as ET\n",
    "import joblib\n",
    "import random\n",
    "import torch\n",
    "import json\n",
    "from tqdm import tqdm\n",
    "\n",
    "\n",
    "def create_dlnd_json(path):\n",
    "    def get_sources(source):\n",
    "        source_meta = [\n",
    "            \"/\".join(i.split(\"/\")[:-1]) + \"/\" + i.split(\"/\")[-1].split(\".\")[0] + \".xml\"\n",
    "            for i in source\n",
    "        ]\n",
    "        sources = list(zip(source, source_meta))\n",
    "        data = []\n",
    "        for x in sources:\n",
    "            with open(x[0], mode=\"r\", errors=\"ignore\") as f:\n",
    "                source_text = f.read()\n",
    "            root = ET.parse(x[1]).getroot()\n",
    "            title = root.findall(\"feature\")[0].get(\"title\")\n",
    "            eventname = root.findall(\"feature\")[1].get(\"eventname\")\n",
    "            id = x[0].split(\"/\")[-1].split(\".\")[0]\n",
    "            data.append(\n",
    "                {\n",
    "                    \"id\": id,\n",
    "                    \"eventname\": eventname,\n",
    "                    \"title\": title,\n",
    "                    \"source_text\": source_text,\n",
    "                }\n",
    "            )\n",
    "        return data\n",
    "\n",
    "    def get_targets(target):\n",
    "        target_meta = [\n",
    "            \"/\".join(i.split(\"/\")[:-1]) + \"/\" + i.split(\"/\")[-1].split(\".\")[0] + \".xml\"\n",
    "            for i in target\n",
    "        ]\n",
    "        targets = list(zip(target, target_meta))\n",
    "        data = []\n",
    "        for x in targets:\n",
    "            with open(x[0], mode=\"r\", errors=\"ignore\") as f:\n",
    "                target_text = f.read()\n",
    "            # with open(x[1],mode='r',errors='ignore') as f:\n",
    "            #     print(f.read())\n",
    "            root = ET.parse(x[1]).getroot()\n",
    "            novel = root.findall(\"feature\")[2].get(\"DLA\")\n",
    "            src_id = root.findall(\"feature\")[0].get(\"sourceid\").split(\",\")\n",
    "            id = x[0].split(\"/\")[-1].split(\".\")[0]\n",
    "            eventname = root.findall(\"feature\")[1].get(\"eventname\")\n",
    "            data.append(\n",
    "                {\n",
    "                    \"id\": id,\n",
    "                    \"eventname\": eventname,\n",
    "                    \"target_text\": target_text,\n",
    "                    \"src_id\": src_id,\n",
    "                    \"DLA\": novel,\n",
    "                }\n",
    "            )\n",
    "        return data\n",
    "\n",
    "    categories = glob.glob(os.path.join(path, \"TAP-DLND-1.0_LREC2018_modified/*\"))\n",
    "    sources = []\n",
    "    targets = []\n",
    "    for cat in categories:\n",
    "        if os.path.isdir(cat):\n",
    "            topics = glob.glob(cat + \"/*\")\n",
    "            for topic in topics:\n",
    "                source = topic + \"/source/*.txt\"\n",
    "                target = topic + \"/target/*.txt\"\n",
    "                event_id = topic + \"/EventId.txt\"\n",
    "                sources += get_sources(glob.glob(source))\n",
    "                targets += get_targets(glob.glob(target))\n",
    "\n",
    "    source_set = {}\n",
    "    for i in sources:\n",
    "        source_set[i[\"id\"]] = i\n",
    "    target_set = {}\n",
    "    for i in targets:\n",
    "        target_set[i[\"id\"]] = i\n",
    "\n",
    "    dataset = {}\n",
    "    i = 0\n",
    "    for target in target_set.keys():\n",
    "        source_text = []\n",
    "        if len(target_set[target][\"src_id\"]) > 0 and target_set[target][\"src_id\"] != [\n",
    "            \"\"\n",
    "        ]:\n",
    "            for src_id in target_set[target][\"src_id\"]:\n",
    "                source_text.append(source_set[src_id][\"source_text\"])\n",
    "            dataset[i] = {\n",
    "                \"target_text\": target_set[target][\"target_text\"],\n",
    "                \"source\": source_text,\n",
    "                \"DLA\": target_set[target][\"DLA\"],\n",
    "            }\n",
    "            i += 1\n",
    "\n",
    "    with open(os.path.join(path, \"dlnd.jsonl\"), \"w\") as f:\n",
    "        json.dump(list(dataset.values()), f)\n"
   ]
  },
  {
   "cell_type": "code",
   "execution_count": 12,
   "metadata": {},
   "outputs": [],
   "source": [
    "create_dlnd_json('.data/dlnd')"
   ]
  },
  {
   "cell_type": "code",
   "execution_count": null,
   "metadata": {},
   "outputs": [],
   "source": []
  }
 ]
}