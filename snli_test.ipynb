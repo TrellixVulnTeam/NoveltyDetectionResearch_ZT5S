{
 "metadata": {
  "language_info": {
   "codemirror_mode": {
    "name": "ipython",
    "version": 3
   },
   "file_extension": ".py",
   "mimetype": "text/x-python",
   "name": "python",
   "nbconvert_exporter": "python",
   "pygments_lexer": "ipython3",
   "version": "3.6.9-final"
  },
  "orig_nbformat": 2,
  "kernelspec": {
   "name": "python3",
   "display_name": "Python 3.6.9 64-bit",
   "metadata": {
    "interpreter": {
     "hash": "31f2aee4e71d21fbe5cf8b01ff0e069b9275f58929596ceb00d14d90e3e16cd6"
    }
   }
  }
 },
 "nbformat": 4,
 "nbformat_minor": 2,
 "cells": [
  {
   "cell_type": "code",
   "execution_count": 1,
   "metadata": {},
   "outputs": [],
   "source": [
    "from src.datasets.nli import *\n",
    "from src.model.nli_models import *\n",
    "from src.utils.nli_utils import *"
   ]
  },
  {
   "cell_type": "code",
   "execution_count": 2,
   "metadata": {},
   "outputs": [],
   "source": [
    "snli_conf = {\"batch_size\":128,\"max_len\":50,\"device\":'cuda',\"tokenizer\":'spacy',\"use_char_emb\":False,\"max_word_len\":10}\n",
    "dataset = snli_module(snli_conf)"
   ]
  },
  {
   "cell_type": "code",
   "execution_count": 3,
   "metadata": {},
   "outputs": [],
   "source": [
    "dataset.prepare_data()"
   ]
  },
  {
   "cell_type": "code",
   "execution_count": 28,
   "metadata": {},
   "outputs": [],
   "source": [
    "import torch\n",
    "import torch.nn as nn\n",
    "import torch.nn.functional as F\n",
    "import torch.optim as optim\n",
    "import numpy as np\n",
    "\n",
    "class MwAN_Encoder(nn.Module):\n",
    "    def __init__(self,conf):\n",
    "        super().__init__()\n",
    "        self.dropout = nn.Dropout(conf[\"dropout\"])\n",
    "        self.embedding = nn.Embedding(\n",
    "            num_embeddings=conf[\"vocab_size\"],\n",
    "            embedding_dim=conf[\"embedding_dim\"],\n",
    "            padding_idx=conf[\"padding_idx\"],\n",
    "        )\n",
    "        \n",
    "        if conf[\"use_glove\"]:\n",
    "            self.embedding = nn.Embedding.from_pretrained(\n",
    "                torch.load(\".vector_cache/{}_vectors.pt\".format(conf[\"dataset\"]))\n",
    "            )\n",
    "\n",
    "        if conf[\"use_char_emb\"]:\n",
    "            self.char_embedding = nn.Embedding(\n",
    "                num_embeddings=conf[\"char_vocab_size\"],\n",
    "                embedding_dim=conf[\"char_embedding_dim\"],\n",
    "                padding_idx=0,\n",
    "            )\n",
    "            self.char_cnn = nn.Conv2d(\n",
    "                conf[\"max_word_len\"],\n",
    "                conf[\"char_embedding_dim\"],\n",
    "                (1, 6),\n",
    "                stride=(1, 1),\n",
    "                padding=0,\n",
    "                bias=True,\n",
    "            )\n",
    "\n",
    "        self.projection = nn.Linear(\n",
    "            (\n",
    "                conf[\"embedding_dim\"]\n",
    "                + int(conf[\"use_char_emb\"]) * conf[\"char_embedding_dim\"]\n",
    "            ),\n",
    "            conf[\"hidden_size\"],\n",
    "        )\n",
    "\n",
    "        self.gru = nn.GRU(\n",
    "            input_size=conf[\"hidden_size\"],\n",
    "            hidden_size=conf[\"hidden_size\"],\n",
    "            batch_first=True,\n",
    "            bidirectional=True,\n",
    "        )\n",
    "\n",
    "    def char_embedding_forward(self, x):\n",
    "        # X - [batch_size, seq_len, char_emb_size])\n",
    "        batch_size, seq_len, char_emb_size = x.shape\n",
    "        x = x.view(-1, char_emb_size)\n",
    "        x = self.char_embedding(x)  # (batch_size * seq_len, char_emb_size, emb_size)\n",
    "        x = x.view(batch_size, -1, seq_len, char_emb_size)\n",
    "        x = x.permute(0, 3, 2, 1)\n",
    "        x = self.char_cnn(x)\n",
    "        x = torch.max(F.relu(x), 3)[0]\n",
    "        return x.view(batch_size, seq_len, -1)\n",
    "\n",
    "    def forward(self, inp, char_vec):\n",
    "        embedded = self.embedding(inp)\n",
    "        if char_vec != None:\n",
    "            char_emb = self.char_embedding_forward(char_vec)\n",
    "            embedded = torch.cat([embedded, char_emb], dim=2)\n",
    "        embedded = self.dropout(self.projection(embedded))\n",
    "        all_, _ = self.gru(embedded)\n",
    "        return all_\n",
    "\n",
    "class MwAN(nn.Module):\n",
    "    def __init__(self, conf):\n",
    "        super().__init__()\n",
    "        self.dropout = nn.Dropout(conf[\"dropout\"])\n",
    "\n",
    "        \n",
    "        self.embedding = nn.Embedding(\n",
    "            num_embeddings=conf[\"vocab_size\"],\n",
    "            embedding_dim=conf[\"embedding_dim\"],\n",
    "            padding_idx=conf[\"padding_idx\"],\n",
    "        )\n",
    "        \n",
    "        if conf[\"use_glove\"]:\n",
    "            self.embedding = nn.Embedding.from_pretrained(\n",
    "                torch.load(\".vector_cache/{}_vectors.pt\".format(conf[\"dataset\"]))\n",
    "            )\n",
    "\n",
    "        if conf[\"use_char_emb\"]:\n",
    "            self.char_embedding = nn.Embedding(\n",
    "                num_embeddings=conf[\"char_vocab_size\"],\n",
    "                embedding_dim=conf[\"char_embedding_dim\"],\n",
    "                padding_idx=0,\n",
    "            )\n",
    "            self.char_cnn = nn.Conv2d(\n",
    "                conf[\"max_word_len\"],\n",
    "                conf[\"char_embedding_dim\"],\n",
    "                (1, 6),\n",
    "                stride=(1, 1),\n",
    "                padding=0,\n",
    "                bias=True,\n",
    "            )\n",
    "\n",
    "        \n",
    "\n",
    "        self.prem_gru = nn.GRU(\n",
    "            input_size=(\n",
    "                conf[\"embedding_dim\"]\n",
    "                + int(conf[\"use_char_emb\"]) * conf[\"char_embedding_dim\"]\n",
    "            ),\n",
    "            hidden_size=conf[\"hidden_size\"],\n",
    "            batch_first=True,\n",
    "            bidirectional=True,\n",
    "        )\n",
    "\n",
    "        self.hypo_gru = nn.GRU(\n",
    "            input_size=(\n",
    "                conf[\"embedding_dim\"]\n",
    "                + int(conf[\"use_char_emb\"]) * conf[\"char_embedding_dim\"]\n",
    "            ),\n",
    "            hidden_size=conf[\"hidden_size\"],\n",
    "            batch_first=True,\n",
    "            bidirectional=True,\n",
    "        )\n",
    "\n",
    "        # Concat Attention\n",
    "        self.Wc1 = nn.Linear(2 * conf[\"hidden_size\"], conf[\"hidden_size\"], bias=False)\n",
    "        self.Wc2 = nn.Linear(2 * conf[\"hidden_size\"], conf[\"hidden_size\"], bias=False)\n",
    "        self.vc = nn.Linear(conf[\"hidden_size\"], 1, bias=False)\n",
    "        # Bilinear Attention\n",
    "        self.Wb = nn.Linear(\n",
    "            2 * conf[\"hidden_size\"], 2 * conf[\"hidden_size\"], bias=False\n",
    "        )\n",
    "        # Dot Attention :\n",
    "        self.Wd = nn.Linear(2 * conf[\"hidden_size\"], conf[\"hidden_size\"], bias=False)\n",
    "        self.vd = nn.Linear(conf[\"hidden_size\"], 1, bias=False)\n",
    "        # Minus Attention :\n",
    "        self.Wm = nn.Linear(2 * conf[\"hidden_size\"], conf[\"hidden_size\"], bias=False)\n",
    "        self.vm = nn.Linear(conf[\"hidden_size\"], 1, bias=False)\n",
    "\n",
    "        self.Ws = nn.Linear(2 * conf[\"hidden_size\"], conf[\"hidden_size\"], bias=False)\n",
    "        self.vs = nn.Linear(conf[\"hidden_size\"], 1, bias=False)\n",
    "\n",
    "        self.gru_agg = nn.GRU(\n",
    "            12 * conf[\"hidden_size\"],\n",
    "            conf[\"hidden_size\"],\n",
    "            batch_first=True,\n",
    "            bidirectional=True,\n",
    "        )\n",
    "\n",
    "        self.Wq = nn.Linear(2 * conf[\"hidden_size\"], conf[\"hidden_size\"], bias=False)\n",
    "        self.vq = nn.Linear(conf[\"hidden_size\"], 1, bias=False)\n",
    "        self.Wp1 = nn.Linear(2 * conf[\"hidden_size\"], conf[\"hidden_size\"], bias=False)\n",
    "        self.Wp2 = nn.Linear(2 * conf[\"hidden_size\"], conf[\"hidden_size\"], bias=False)\n",
    "        self.vp = nn.Linear(conf[\"hidden_size\"], 1, bias=False)\n",
    "\n",
    "        self.prediction = nn.Linear(2 * conf[\"hidden_size\"], 2, bias=False)\n",
    "\n",
    "\n",
    "    def char_embedding_forward(self, x):\n",
    "        # X - [batch_size, seq_len, char_emb_size])\n",
    "        batch_size, seq_len, char_emb_size = x.shape\n",
    "        x = x.view(-1, char_emb_size)\n",
    "        x = self.char_embedding(x)  # (batch_size * seq_len, char_emb_size, emb_size)\n",
    "        x = x.view(batch_size, -1, seq_len, char_emb_size)\n",
    "        x = x.permute(0, 3, 2, 1)\n",
    "        x = self.char_cnn(x)\n",
    "        x = torch.max(F.relu(x), 3)[0]\n",
    "        return x.view(batch_size, seq_len, -1)\n",
    "\n",
    "    def forward(self, premise, hypothesis,**kwargs):\n",
    "        char_vec_x0 = kwargs.get(\"char_premise\", None)\n",
    "        char_vec_x1 = kwargs.get(\"char_hypothesis\", None)\n",
    "\n",
    "        hp = self.embedding(premise)\n",
    "        hh = self.embedding(hypothesis)\n",
    "\n",
    "        if char_vec_x0 != None:\n",
    "            char_emb_hp = self.char_embedding_forward(char_vec_x0)\n",
    "            hp = torch.cat([hp, char_emb_hp], dim=2)\n",
    "\n",
    "        if char_vec_x1 != None:\n",
    "            char_emb_hh = self.char_embedding_forward(char_vec_x1)\n",
    "            hh = torch.cat([hh, char_emb_hh], dim=2)\n",
    "\n",
    "        hp,_ = self.prem_gru(hp)\n",
    "        hh,_ = self.hypo_gru(hh)\n",
    "\n",
    "        print(hp.shape,hh.shape)\n",
    "\n",
    "        _s1 = self.Wc1(hp).unsqueeze(1)\n",
    "        print(_s1.shape)\n",
    "        _s2 = self.Wc2(hh).unsqueeze(2)\n",
    "        print(_s1.shape)\n",
    "        sjt = self.vc(torch.tanh(_s1 + _s2)).squeeze()\n",
    "        print(sjt.shape)\n",
    "        ait = F.softmax(sjt, 2)\n",
    "        print(ait.shape)\n",
    "        qtc = ait.bmm(hp)\n",
    "        _s1 = self.Wb(hp).transpose(2, 1)\n",
    "        sjt = hh.bmm(_s1)\n",
    "        ait = F.softmax(sjt, 2)\n",
    "        qtb = ait.bmm(hp)\n",
    "        _s1 = hp.unsqueeze(1)\n",
    "        _s2 = hh.unsqueeze(2)\n",
    "        sjt = self.vd(torch.tanh(self.Wd(_s1 * _s2))).squeeze()\n",
    "        ait = F.softmax(sjt, 2)\n",
    "        qtd = ait.bmm(hp)\n",
    "        sjt = self.vm(torch.tanh(self.Wm(_s1 - _s2))).squeeze()\n",
    "        ait = F.softmax(sjt, 2)\n",
    "        qtm = ait.bmm(hp)\n",
    "        _s1 = hh.unsqueeze(1)\n",
    "        _s2 = hh.unsqueeze(2)\n",
    "        sjt = self.vs(torch.tanh(self.Ws(_s1 * _s2))).squeeze()\n",
    "        ait = F.softmax(sjt, 2)\n",
    "        qts = ait.bmm(hh)\n",
    "        aggregation = torch.cat([hh, qts, qtc, qtd, qtb, qtm], 2)\n",
    "        aggregation_representation, _ = self.gru_agg(aggregation)\n",
    "        sj = self.vq(torch.tanh(self.Wq(hp))).transpose(2, 1)\n",
    "        rq = F.softmax(sj, 2).bmm(hp)\n",
    "        sj = F.softmax(\n",
    "            self.vp(self.Wp1(aggregation_representation) + self.Wp2(rq)).transpose(\n",
    "                2, 1\n",
    "            ),\n",
    "            2,\n",
    "        )\n",
    "        rp = sj.bmm(aggregation_representation)\n",
    "        encoder_output = self.dropout(F.leaky_relu(self.prediction(rp)))\n",
    "        encoder_output = encoder_output.squeeze(1)\n",
    "        return encoder_output\n"
   ]
  },
  {
   "cell_type": "code",
   "execution_count": 29,
   "metadata": {},
   "outputs": [],
   "source": [
    "model_conf = {\n",
    "    \"hidden_size\":200,\n",
    "    \"embedding_dim\":300,\n",
    "    \"char_embedding_dim\":100,\n",
    "    \"dropout\":0.3,\n",
    "    \"use_glove\":True,\n",
    "    \"num_layers\":1,\n",
    "    \"dataset\":\"snli\",\n",
    "    \"fcs\":1,\n",
    "    \"use_char_emb\":False,\n",
    "    \"vocab_size\":dataset.vocab_size(),\n",
    "    # \"char_vocab_size\":dataset.char_vocab_size(),\n",
    "    # \"max_word_len\": dataset.char_word_len(),\n",
    "    \"tokenizer\":\"spacy\",\n",
    "    \"padding_idx\":dataset.padding_idx(),\n",
    "    \"attention_layer_param\":200,\n",
    "    # \"r\":3,\n",
    "    # \"gated_embedding_dim\":150,\n",
    "    # \"pool_strategy\":'max',\n",
    "    # \"gated\":True\n",
    "}\n",
    "\n",
    "hparams = {\n",
    "    \"optimizer_base\": {\n",
    "        \"optim\": \"adamw\",\n",
    "        \"lr\": 0.0010039910781394373,\n",
    "        \"scheduler\": \"const\",\n",
    "    },\n",
    "    \"optimizer_tune\": {\n",
    "        \"optim\": \"adam\",\n",
    "        \"lr\": 0.0010039910781394373,\n",
    "        \"weight_decay\": 0.1,\n",
    "        \"scheduler\": \"lambda\",\n",
    "    },\n",
    "    \"switch_epoch\": 5,\n",
    "}\n",
    "\n",
    "model = MwAN(model_conf)\n",
    "# model = SNLI_model(attn_bilstm_snli,model_conf,hparams=hparams)"
   ]
  },
  {
   "cell_type": "code",
   "execution_count": 30,
   "metadata": {},
   "outputs": [
    {
     "output_type": "stream",
     "name": "stdout",
     "text": [
      "torch.Size([128, 50, 400]) torch.Size([128, 50, 400])\n",
      "torch.Size([128, 1, 50, 200])\n",
      "torch.Size([128, 50, 50])\n",
      "torch.Size([128, 50, 50])\n"
     ]
    }
   ],
   "source": [
    "opt = model(i.premise.cpu(),i.hypothesis.cpu(),**{})"
   ]
  },
  {
   "cell_type": "code",
   "execution_count": 20,
   "metadata": {},
   "outputs": [
    {
     "output_type": "execute_result",
     "data": {
      "text/plain": [
       "2525250"
      ]
     },
     "metadata": {},
     "execution_count": 20
    }
   ],
   "source": [
    "def count_parameters(model):\n",
    "    return sum(p.numel() for p in model.parameters() if p.requires_grad)\n",
    "count_parameters(model)"
   ]
  },
  {
   "cell_type": "code",
   "execution_count": 4,
   "metadata": {},
   "outputs": [
    {
     "output_type": "stream",
     "name": "stdout",
     "text": [
      "\n[torchtext.data.batch.Batch of size 128 from SNLI]\n\t[.premise]:[torch.cuda.LongTensor of size 128x50 (GPU 0)]\n\t[.hypothesis]:[torch.cuda.LongTensor of size 128x50 (GPU 0)]\n\t[.label]:[torch.cuda.LongTensor of size 128 (GPU 0)]\n"
     ]
    }
   ],
   "source": [
    "for i in dataset.train_dataloader():\n",
    "    print(i)\n",
    "    break"
   ]
  },
  {
   "cell_type": "code",
   "execution_count": 5,
   "metadata": {},
   "outputs": [
    {
     "output_type": "execute_result",
     "data": {
      "text/plain": [
       "tensor([[   2,   17,  133,  ...,    1,    1,    1],\n",
       "        [   2,    4,    9,  ...,    1,    1,    1],\n",
       "        [   2,   16, 2119,  ...,    1,    1,    1],\n",
       "        ...,\n",
       "        [   2,    4,   30,  ...,    1,    1,    1],\n",
       "        [   2,    4,   32,  ...,    1,    1,    1],\n",
       "        [   2,   53,   86,  ...,    1,    1,    1]], device='cuda:0')"
      ]
     },
     "metadata": {},
     "execution_count": 5
    }
   ],
   "source": [
    "i.premise"
   ]
  },
  {
   "cell_type": "code",
   "execution_count": 6,
   "metadata": {},
   "outputs": [],
   "source": [
    "a = torch.rand((128,50,300))"
   ]
  },
  {
   "cell_type": "code",
   "execution_count": 7,
   "metadata": {},
   "outputs": [],
   "source": [
    "gru = nn.GRU(300,150,batch_first=True,bidirectional=True)"
   ]
  },
  {
   "cell_type": "code",
   "execution_count": 9,
   "metadata": {},
   "outputs": [],
   "source": [
    "a_,a__ = gru(a)"
   ]
  },
  {
   "cell_type": "code",
   "execution_count": 10,
   "metadata": {},
   "outputs": [
    {
     "output_type": "execute_result",
     "data": {
      "text/plain": [
       "torch.Size([128, 50, 300])"
      ]
     },
     "metadata": {},
     "execution_count": 10
    }
   ],
   "source": [
    "a_.shape"
   ]
  },
  {
   "cell_type": "code",
   "execution_count": 11,
   "metadata": {},
   "outputs": [
    {
     "output_type": "execute_result",
     "data": {
      "text/plain": [
       "torch.Size([2, 128, 150])"
      ]
     },
     "metadata": {},
     "execution_count": 11
    }
   ],
   "source": [
    "a__.shape"
   ]
  },
  {
   "cell_type": "code",
   "execution_count": 14,
   "metadata": {},
   "outputs": [
    {
     "output_type": "execute_result",
     "data": {
      "text/plain": [
       "tensor([[[False, False, False,  ..., False, False, False],\n",
       "         [False, False, False,  ..., False, False, False],\n",
       "         [False, False, False,  ..., False, False, False],\n",
       "         ...,\n",
       "         [False, False, False,  ..., False, False, False],\n",
       "         [False, False, False,  ..., False, False, False],\n",
       "         [False, False, False,  ..., False, False, False]],\n",
       "\n",
       "        [[False, False, False,  ..., False, False, False],\n",
       "         [False, False, False,  ..., False, False, False],\n",
       "         [False, False, False,  ..., False, False, False],\n",
       "         ...,\n",
       "         [False, False, False,  ..., False, False, False],\n",
       "         [False, False, False,  ..., False, False, False],\n",
       "         [False, False, False,  ..., False, False, False]],\n",
       "\n",
       "        [[False, False, False,  ..., False, False, False],\n",
       "         [False, False, False,  ..., False, False, False],\n",
       "         [False, False, False,  ..., False, False, False],\n",
       "         ...,\n",
       "         [False, False, False,  ..., False, False, False],\n",
       "         [False, False, False,  ..., False, False, False],\n",
       "         [False, False, False,  ..., False, False, False]],\n",
       "\n",
       "        ...,\n",
       "\n",
       "        [[False, False, False,  ..., False, False, False],\n",
       "         [False, False, False,  ..., False, False, False],\n",
       "         [False, False, False,  ..., False, False, False],\n",
       "         ...,\n",
       "         [False, False, False,  ..., False, False, False],\n",
       "         [False, False, False,  ..., False, False, False],\n",
       "         [False, False, False,  ..., False, False, False]],\n",
       "\n",
       "        [[False, False, False,  ..., False, False, False],\n",
       "         [False, False, False,  ..., False, False, False],\n",
       "         [False, False, False,  ..., False, False, False],\n",
       "         ...,\n",
       "         [False, False, False,  ..., False, False, False],\n",
       "         [False, False, False,  ..., False, False, False],\n",
       "         [False, False, False,  ..., False, False, False]],\n",
       "\n",
       "        [[False, False, False,  ..., False, False, False],\n",
       "         [False, False, False,  ..., False, False, False],\n",
       "         [False, False, False,  ..., False, False, False],\n",
       "         ...,\n",
       "         [False, False, False,  ..., False, False, False],\n",
       "         [False, False, False,  ..., False, False, False],\n",
       "         [False, False, False,  ..., False, False, False]]])"
      ]
     },
     "metadata": {},
     "execution_count": 14
    }
   ],
   "source": []
  },
  {
   "cell_type": "code",
   "execution_count": null,
   "metadata": {},
   "outputs": [],
   "source": []
  }
 ]
}