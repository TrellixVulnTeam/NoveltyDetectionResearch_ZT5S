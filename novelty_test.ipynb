{
 "metadata": {
  "language_info": {
   "codemirror_mode": {
    "name": "ipython",
    "version": 3
   },
   "file_extension": ".py",
   "mimetype": "text/x-python",
   "name": "python",
   "nbconvert_exporter": "python",
   "pygments_lexer": "ipython3",
   "version": "3.6.9-final"
  },
  "orig_nbformat": 2,
  "kernelspec": {
   "name": "python3",
   "display_name": "Python 3.6.9 64-bit",
   "metadata": {
    "interpreter": {
     "hash": "31f2aee4e71d21fbe5cf8b01ff0e069b9275f58929596ceb00d14d90e3e16cd6"
    }
   }
  }
 },
 "nbformat": 4,
 "nbformat_minor": 2,
 "cells": [
  {
   "cell_type": "code",
   "execution_count": 2,
   "metadata": {},
   "outputs": [],
   "source": [
    "from src.datasets.novelty import *"
   ]
  },
  {
   "cell_type": "code",
   "execution_count": 1,
   "metadata": {},
   "outputs": [],
   "source": [
    "from src.defaults import *"
   ]
  },
  {
   "cell_type": "code",
   "execution_count": 3,
   "metadata": {},
   "outputs": [],
   "source": [
    "# download_models_from_neptune(\"NLI-81\")\n",
    "field = load_field('NLI-81')\n",
    "# field = None\n",
    "\n",
    "\n",
    "dataset_conf = {'dataset': 'dlnd', 'max_num_sent': 60,\"sent_tokenizer\":\"spacy\",\"batch_size\":32,\"device\":\"cuda\"}\n",
    "# dataset_conf = {'dataset': 'dlnd', 'max_num_sent': 50,\"sent_tokenizer\":\"spacy\", \"tokenizer\":'spacy',\"max_len\":50,\"batch_size\":32,\"device\":\"cuda\"}\n",
    "model_conf = {'results_dir': 'results', 'device': 'cuda', 'dropout': 0.3, 'dataset': 'dlnd', 'hidden_size': 400, 'use_glove': False, \"max_num_sent\": 60}"
   ]
  },
  {
   "cell_type": "code",
   "execution_count": 4,
   "metadata": {},
   "outputs": [],
   "source": [
    "from src.datasets.novelty import *\n",
    "data = dlnd(dataset_conf,sentence_field = field)\n"
   ]
  },
  {
   "cell_type": "code",
   "execution_count": 5,
   "metadata": {},
   "outputs": [
    {
     "output_type": "stream",
     "name": "stdout",
     "text": [
      "\n[torchtext.data.batch.Batch of size 32]\n\t[.source]:[torch.cuda.LongTensor of size 32x60x50 (GPU 0)]\n\t[.target]:[torch.cuda.LongTensor of size 32x60x50 (GPU 0)]\n\t[.label]:[torch.cuda.LongTensor of size 32 (GPU 0)]\n"
     ]
    }
   ],
   "source": [
    "for i in data.train_iter:\n",
    "    print(i)\n",
    "    break"
   ]
  },
  {
   "cell_type": "code",
   "execution_count": 16,
   "metadata": {},
   "outputs": [],
   "source": [
    "\n",
    "import torch\n",
    "import torch.nn as nn\n",
    "import torch.nn.functional as F\n",
    "import torch.optim as optim\n",
    "\n",
    "class DAN(nn.Module):\n",
    "    def __init__(self,conf,encoder):\n",
    "        super(DAN,self).__init__()\n",
    "        self.conf = conf\n",
    "        self.num_sent = conf[\"max_num_sent\"]\n",
    "        self.encoder = encoder\n",
    "        self.translate = nn.Linear(2 * self.conf[\"encoder_dim\"], self.conf[\"hidden_size\"])\n",
    "        self.template = nn.Parameter(torch.zeros((1)), requires_grad=True)\n",
    "        self.act = nn.ReLU()\n",
    "        self.dropout = nn.Dropout(conf[\"dropout\"])\n",
    "\n",
    "        self.mlp_f = nn.Linear(self.conf[\"hidden_size\"], self.conf[\"hidden_size\"])\n",
    "        self.mlp_g = nn.Linear(2*self.conf[\"hidden_size\"], self.conf[\"hidden_size\"])\n",
    "        self.mlp_h = nn.Linear(2*self.conf[\"hidden_size\"], self.conf[\"hidden_size\"])\n",
    "        self.linear = nn.Linear(self.conf[\"hidden_size\"],2)\n",
    "\n",
    "    def encode_sent(self,inp):\n",
    "        batch_size,num_sent,max_len = inp.shape\n",
    "        x = inp.view(-1,max_len)\n",
    "\n",
    "        x_padded_idx = x.sum(dim=1) != 0    \n",
    "        x_enc = []\n",
    "        for sub_batch in x[x_padded_idx].split(64):\n",
    "            x_enc.append(self.encoder(sub_batch,None))\n",
    "        x_enc = torch.cat(x_enc, dim=0)\n",
    "\n",
    "        x_enc_t = torch.zeros((batch_size * num_sent, x_enc.size(1))).to(\n",
    "            self.template.device\n",
    "        )\n",
    "\n",
    "        x_enc_t[x_padded_idx] = x_enc\n",
    "        x_enc_t = x_enc_t.view(batch_size, num_sent, -1)\n",
    "    \n",
    "        embedded = self.dropout(self.translate(x_enc_t))\n",
    "        embedded = self.act(embedded)\n",
    "        return embedded\n",
    "\n",
    "\n",
    "    def forward(self,x0,x1):\n",
    "        x0_enc = self.encode_sent(x0)\n",
    "        x1_enc = self.encode_sent(x1)\n",
    "\n",
    "        f1 = self.act(self.dropout(self.mlp_f(x0_enc)))\n",
    "        f2 = self.act(self.dropout(self.mlp_f(x1_enc)))\n",
    "\n",
    "        score1 = torch.bmm(f1, torch.transpose(f2, 1, 2))\n",
    "        prob1 = F.softmax(score1.view(-1, self.num_sent)).view(-1, self.num_sent, self.num_sent)\n",
    "\n",
    "        score2 = torch.transpose(score1.contiguous(), 1, 2)\n",
    "        score2 = score2.contiguous()\n",
    "\n",
    "        prob2 = F.softmax(score2.view(-1, self.num_sent)).view(-1, self.num_sent, self.num_sent)\n",
    "\n",
    "        sent1_combine = torch.cat((x0_enc, torch.bmm(prob1, x1_enc)), 2)\n",
    "        sent2_combine = torch.cat((x1_enc, torch.bmm(prob2, x0_enc)), 2)\n",
    "\n",
    "        \n",
    "\n",
    "        g1 = self.act(self.dropout(self.mlp_g(sent1_combine)))\n",
    "        g2 = self.act(self.dropout(self.mlp_g(sent2_combine)))\n",
    "\n",
    "        sent1_output = torch.sum(g1, 1)  \n",
    "        sent1_output = torch.squeeze(sent1_output, 1)\n",
    "    \n",
    "        sent2_output = torch.sum(g2, 1)  \n",
    "        sent2_output = torch.squeeze(sent2_output, 1)\n",
    "\n",
    "\n",
    "        input_combine = torch.cat((sent1_output * sent2_output, torch.abs(sent1_output - sent2_output)), 1)\n",
    "        \n",
    "        h = self.act(self.dropout(self.mlp_h(input_combine)))\n",
    "        opt = self.linear(h)\n",
    "        return opt\n",
    "    "
   ]
  },
  {
   "cell_type": "code",
   "execution_count": 7,
   "metadata": {},
   "outputs": [],
   "source": [
    "def load_encoder(_id):\n",
    "    model_path = os.path.join('./results/',_id,\"model.pt\")\n",
    "    model_data = torch.load(model_path)\n",
    "    return model_data"
   ]
  },
  {
   "cell_type": "code",
   "execution_count": 8,
   "metadata": {},
   "outputs": [],
   "source": [
    "model_data = load_encoder('NLI-81')"
   ]
  },
  {
   "cell_type": "code",
   "execution_count": 9,
   "metadata": {},
   "outputs": [],
   "source": [
    "from src.model.nli_models import *"
   ]
  },
  {
   "cell_type": "code",
   "execution_count": 10,
   "metadata": {},
   "outputs": [],
   "source": [
    "model_data['options'][\"use_glove\"] = False\n",
    "model = attn_bilstm_snli(model_data['options'])"
   ]
  },
  {
   "cell_type": "code",
   "execution_count": 11,
   "metadata": {},
   "outputs": [],
   "source": [
    "model_conf[\"encoder_dim\"] = model_data[\"options\"][\"hidden_size\"]"
   ]
  },
  {
   "cell_type": "code",
   "execution_count": 12,
   "metadata": {},
   "outputs": [],
   "source": [
    "def load_encoder1(enc_data):\n",
    "    if enc_data['options'].get(\"attention_layer_param\",0)==0:\n",
    "        model = bilstm_snli(enc_data[\"options\"])\n",
    "    elif enc_data['options'].get(\"r\",0)==0:\n",
    "        model = attn_bilstm_snli(enc_data[\"options\"])\n",
    "    else:\n",
    "        model = struc_attn_snli(enc_data[\"options\"])\n",
    "    return model\n",
    "    "
   ]
  },
  {
   "cell_type": "code",
   "execution_count": 17,
   "metadata": {},
   "outputs": [],
   "source": [
    "dan = DAN(model_conf,model.encoder)\n"
   ]
  },
  {
   "cell_type": "code",
   "execution_count": 18,
   "metadata": {},
   "outputs": [
    {
     "output_type": "stream",
     "name": "stdout",
     "text": [
      "torch.Size([32, 60, 400])\n"
     ]
    },
    {
     "output_type": "execute_result",
     "data": {
      "text/plain": [
       "tensor([[ 0.4049, -0.6092],\n",
       "        [ 0.4137, -0.3006],\n",
       "        [ 0.3718, -0.6981],\n",
       "        [ 0.6268, -0.0797],\n",
       "        [ 0.5702, -0.5165],\n",
       "        [ 0.4372, -0.6110],\n",
       "        [ 0.5662, -0.8030],\n",
       "        [ 0.2436, -0.3077],\n",
       "        [ 0.3847, -0.5314],\n",
       "        [ 0.2711, -0.6244],\n",
       "        [ 0.2584, -0.8445],\n",
       "        [ 0.2959, -0.6516],\n",
       "        [ 0.3599, -1.0253],\n",
       "        [ 0.0326, -0.2944],\n",
       "        [ 0.0797, -0.4814],\n",
       "        [ 0.8330, -0.0779],\n",
       "        [ 0.2417, -0.9891],\n",
       "        [ 0.3088, -0.8536],\n",
       "        [ 0.3115, -0.7002],\n",
       "        [ 0.2796, -0.4201],\n",
       "        [ 0.0923, -0.5198],\n",
       "        [ 0.4817, -0.4856],\n",
       "        [-0.2757, -0.5796],\n",
       "        [ 0.5500, -0.5302],\n",
       "        [ 0.4651, -0.4413],\n",
       "        [ 0.3358,  0.0115],\n",
       "        [ 0.5970, -0.5587],\n",
       "        [ 0.5855, -0.9080],\n",
       "        [ 0.0693, -0.8174],\n",
       "        [ 0.4821, -0.4849],\n",
       "        [ 0.6968, -0.8328],\n",
       "        [ 0.3622, -0.5559]], device='cuda:0', grad_fn=<AddmmBackward>)"
      ]
     },
     "metadata": {},
     "execution_count": 18
    }
   ],
   "source": [
    "dan = dan.cuda()\n",
    "dan(i.source,i.target)"
   ]
  },
  {
   "cell_type": "code",
   "execution_count": null,
   "metadata": {},
   "outputs": [],
   "source": []
  }
 ]
}