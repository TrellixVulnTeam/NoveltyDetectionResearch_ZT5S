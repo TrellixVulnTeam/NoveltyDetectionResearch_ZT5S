{
 "metadata": {
  "language_info": {
   "codemirror_mode": {
    "name": "ipython",
    "version": 3
   },
   "file_extension": ".py",
   "mimetype": "text/x-python",
   "name": "python",
   "nbconvert_exporter": "python",
   "pygments_lexer": "ipython3",
   "version": "3.6.9-final"
  },
  "orig_nbformat": 2,
  "kernelspec": {
   "name": "python3",
   "display_name": "Python 3.6.9 64-bit",
   "metadata": {
    "interpreter": {
     "hash": "31f2aee4e71d21fbe5cf8b01ff0e069b9275f58929596ceb00d14d90e3e16cd6"
    }
   }
  }
 },
 "nbformat": 4,
 "nbformat_minor": 2,
 "cells": [
  {
   "cell_type": "code",
   "execution_count": 8,
   "metadata": {},
   "outputs": [],
   "source": [
    "from src.datasets.novelty import *"
   ]
  },
  {
   "cell_type": "code",
   "execution_count": 13,
   "metadata": {
    "tags": []
   },
   "outputs": [
    {
     "output_type": "stream",
     "name": "stdout",
     "text": [
      ".data/dlnd\n"
     ]
    }
   ],
   "source": [
    "from torchtext.data import Field,LabelField,NestedField\n",
    "import nltk\n",
    "text_field = field = NestedField(Field(), tokenize=lambda x: sent_tokenize(x))\n",
    "LabelField = LabelField()\n",
    "data, = DLND.splits(text_field,LabelField)\n",
    "\n",
    "\n"
   ]
  },
  {
   "cell_type": "code",
   "execution_count": 18,
   "metadata": {},
   "outputs": [
    {
     "output_type": "execute_result",
     "data": {
      "text/plain": [
       "35"
      ]
     },
     "metadata": {},
     "execution_count": 18
    }
   ],
   "source": [
    "\n",
    "len(data.examples[0].source)\n"
   ]
  },
  {
   "cell_type": "code",
   "execution_count": 19,
   "metadata": {},
   "outputs": [
    {
     "output_type": "execute_result",
     "data": {
      "text/plain": [
       "<src.datasets.novelty.DLND at 0x7f53e5667b00>"
      ]
     },
     "metadata": {},
     "execution_count": 19
    }
   ],
   "source": [
    "data.split()"
   ]
  },
  {
   "cell_type": "code",
   "execution_count": 11,
   "metadata": {},
   "outputs": [],
   "source": [
    "import spacy\n",
    "from spacy.lang.en import English\n",
    "nlp = English()\n",
    "nlp.add_pipe(nlp.create_pipe('sentencizer'))\n",
    "    \n",
    "def sent_tokenize(raw_text):\n",
    "    doc = nlp(raw_text)\n",
    "    sentences = [sent.string.strip() for sent in doc.sents]\n",
    "    return sentences"
   ]
  },
  {
   "cell_type": "code",
   "execution_count": 12,
   "metadata": {},
   "outputs": [
    {
     "output_type": "execute_result",
     "data": {
      "text/plain": [
       "['Hello how are you doing.', 'My name is aditya']"
      ]
     },
     "metadata": {},
     "execution_count": 12
    }
   ],
   "source": [
    "sent_tokenize(\"Hello how are you doing. My name is aditya\")"
   ]
  },
  {
   "cell_type": "code",
   "execution_count": 14,
   "metadata": {},
   "outputs": [],
   "source": [
    "d = json.loads(data[0])"
   ]
  },
  {
   "cell_type": "code",
   "execution_count": 29,
   "metadata": {},
   "outputs": [],
   "source": [
    "with open('./temp.json','w') as f:\n",
    "    f.writelines([json.dumps(i)+\"\\n\" for i in d[3:10]])"
   ]
  },
  {
   "cell_type": "code",
   "execution_count": 27,
   "metadata": {},
   "outputs": [
    {
     "output_type": "execute_result",
     "data": {
      "text/plain": [
       "['{\"target_text\": \"After allegations of harassment by \\\\\"anti-Romeo squads\\\\\" in Uttar Pradesh, ordered by Chief Minister Yogi Adityanath, the police chief has written to policemen setting down some ground rules. There should be \\\\\"no hair-shaving, blackening of the face or murga position\\\\\" during such drives, Director General of Police Javeed Ahmed has said in his letter to the force. Also, there should be no action on those in coffee shops and parks, he says.Numerous young men have been forced to sit in a position popularly known as \\\\\"murga\\\\\" by teams of policemen looking for \\\\\"Romeos\\\\\" - the term that describes men who harass women. Frisking and sit-ups - other popular forms of punishment - have also been banned. Mr Ahmed stresses in his letter that there should be no discrimination on the basis of caste, creed or faith. Importantly, there should be no self-appointed groups going around rounding up young couples. \\\\\"The squads will be screened and assessed by officials and briefed by senior policemen,\\\\\" the police chief says. \\\\\"A lot of women policemen in plainclothes are posted to help the anti-Romeo squads - they should give the correct information about what is objectionable. Treat all those who complain about this at station equally and not on the basis of their identity.\\\\\" \", \"source\": [\"\\\\nAmid outrage over the way Uttar Pradesh Chief Minister Yogi Adityanath\\'s anti-Romeo squads have punished loitering men on the streets, the police has issued fresh guidelines for these groups who are allegedly trying to \\\\\"protect the modesty of women.\\\\\" \\\\nNDTV reports that these squads have been told there will be no shaving of hair, blackening of the face or murga punishment or even uthak baithak. \\\\nDirector General of Police Javeed Ahmed gave these directions in a letter to the police. \\\\nNDTV also quoted the letter as saying, \\\\\"Couples sitting in public places should not be asked for IDs, questioned, frisked or humiliated.\\\\\" \\\\nIt was reported earlier this week that the anti-Romeo squads were also targeting people for certain castes. \\\\nMany had complained of being harassed by the squads who had till now been frisking men. \\\\nCongress MP Ranjeeta Ranjan had raised this issue in Parliament, saying the youth in Uttar Pradesh were being harassed. Ranjan said, \\\\\"The youth are being harassed and humiliated by the anti-Romeo squads. There is a particular caste, which is being targeted by the state government. A particular community is also being targeted by the UP government.\\\\\" \\\\nEarlier last week, Adityanath had asked the police to form proper guidelines for the squads. The Hindustan Times had reported that the chief minister had asked the police to ensure boys and girls hanging out with consent were not harassed. \\\\nThe BJP and Adityanath had promised anti-Romeo squads during campaigning leading up to the Assembly elections in Uttar Pradesh, and he put his promises to action within a matter of days. \", \"\\\\ufeff\\\\nAfter Uttar Pradesh, it is now the turn of the Madhya Pradesh government to crackdown on Romeos with Chief Minister Shivraj Singh Chouhan promising to reform \\\\\"majnus\\\\\" and bring about a legislation to hang those raping minors. \\\\n\\\\\"We will reform \\'majnu-type\\' of persons. They don\\'t know how to respect. They are not good for the civilised society. A campaign will be launched against majnus,\\\\\" he had said on Friday while addressing the 89th Passing Out Parade at MP Police Academy in Bhopal. Anti-Romeo squads... and those Italian marines... \\\\nHe also said that an amendment to the criminal law providing death penalty for raping a minor would be introduced in the Madhya Pradesh assembly soon. \\\\n\\\\\"A bill providing death sentence for rape of minors would be presented in the coming monsoon session (of assembly). Once it is passed it would be forwarded to the President for assent,\\\\\" the chief minister said. \\\\nHe also said that police should keep a vigil near places like girls hostel to ensure that women don\\'t face any difficulty. \\\\n\\\\\"Police should create such an atmosphere so that women are able to move around independently without any fear. It should take stern measures against criminal elements,\\\\\" he added. \", \"Acting on the Allahabad High Court\\'s order asking anti-Romeo squads to follow guidelines, the Uttar Pradesh government on Friday directed the police to ensure that no inhumane measure was adopted in the name of ensuring security to women. There should be no shaving of heads, blackening of faces or \\\\\"murga pose\\\\\" (sit-ups while holding ears), a senior official said here. The guidelines have been issued after the intervention of Chief Minister Yogi Adityanath amidst reports of harassment by anti-Romeo squads. These special squads of UP Police were formed after the Yogi Aditynath government assumed office this month, fulfilling one of the poll promises of the BJP. The Allahabad High Court had on Thursday directed the Uttar Pradesh government to ensure that guidelines were followed by anti-Romeo squads and action was taken as per the law. The court\\'s Lucknow bench of justices Amreshwar Pratap Sahi and Sanjay Harkauli had given the order on a PIL that alleged that police were not following the guidelines during the drive, aimed at checking eveteasing, and was harassing couples. The chief minister has also directed administrative and police officials in districts to regularly review the steps being taken for women security and inform senior officials on a regular basis, the official said. Stressing that his government was firm on upholding the security and dignity of women, he said a state-wide drive has been launched to free public places of anti-social elements and check incidents of eve-teasing, indecent behaviour and passing of lewd comments at women and girls. The UP Home department has issued fresh directives to identify those involved in misconduct at schools, colleges, bus stations, railway stations, malls and markets. The government is also firm on checking unnecessary harassment of girls and boys merely in the name of curbing eve-teasing in public places like coffee shops, markets and parks. The government has also made it clear that vigilantism of any sort in this regard will not be tolerated.\"], \"DLA\": \"novel\"}\\n',\n",
       " '{\"target_text\": \"\\\\ufeff\\\\nActing on the Allahabad high court\\\\u2019s order asking anti-Romeo squads to follow guidelines, the Uttar Pradesh government on Friday directed the police to ensure that no inhumane measure was adopted in the name of ensuring security to women. \\\\nThere should be no shaving of heads, blackening of faces or \\\\u2018 murga pose\\\\u2019 (sit-ups while holding ears), a senior official said in Lucknow. \\\\nThe guidelines have been issued after the intervention of Chief Minister Yogi Adityanath amidst reports of harassment by anti-Romeo squads. \\\\nThese special squads of UP police were formed after the Yogi Aditynath government assumed office this month, fulfilling one of the poll promises of the Bharatiya Janata Party. \\\\nThe Allahabad high court had on Thursday directed the Uttar Pradesh government to ensure that guidelines were followed by anti-Romeo squads and action was taken as per the law. \\\\nThe court\\\\u2019s Lucknow bench of justices Amreshwar Pratap Sahi and Sanjay Harkauli had given the order on a public interest litigation that alleged that police were not following the guidelines during the drive, aimed at checking eve teasing, and was harassing couples. \\\\nThe chief minister has also directed administrative and police officials in districts to regularly review the steps being taken for women security and inform senior officials on a regular basis, the official said. \\\\nStressing that his government was firm on upholding the security and dignity of women, he said a state-wide drive has been launched to free public places of anti-social elements and check incidents of eve-teasing, indecent behaviour and passing of lewd comments at women and girls. \\\\nThe UP home department has issued fresh directives to identify those involved in misconduct at schools, colleges, bus stations, railway stations, malls and markets. \\\\nThe government is also firm on checking unnecessary harassment of girls and boys merely in the name of curbing eve teasing in public places like coffee shops, markets and parks. \\\\nThe government has also made it clear that vigilantism of any sort in this regard will not be tolerated. \\\\n\", \"source\": [\"\\\\nAmid outrage over the way Uttar Pradesh Chief Minister Yogi Adityanath\\'s anti-Romeo squads have punished loitering men on the streets, the police has issued fresh guidelines for these groups who are allegedly trying to \\\\\"protect the modesty of women.\\\\\" \\\\nNDTV reports that these squads have been told there will be no shaving of hair, blackening of the face or murga punishment or even uthak baithak. \\\\nDirector General of Police Javeed Ahmed gave these directions in a letter to the police. \\\\nNDTV also quoted the letter as saying, \\\\\"Couples sitting in public places should not be asked for IDs, questioned, frisked or humiliated.\\\\\" \\\\nIt was reported earlier this week that the anti-Romeo squads were also targeting people for certain castes. \\\\nMany had complained of being harassed by the squads who had till now been frisking men. \\\\nCongress MP Ranjeeta Ranjan had raised this issue in Parliament, saying the youth in Uttar Pradesh were being harassed. Ranjan said, \\\\\"The youth are being harassed and humiliated by the anti-Romeo squads. There is a particular caste, which is being targeted by the state government. A particular community is also being targeted by the UP government.\\\\\" \\\\nEarlier last week, Adityanath had asked the police to form proper guidelines for the squads. The Hindustan Times had reported that the chief minister had asked the police to ensure boys and girls hanging out with consent were not harassed. \\\\nThe BJP and Adityanath had promised anti-Romeo squads during campaigning leading up to the Assembly elections in Uttar Pradesh, and he put his promises to action within a matter of days. \", \"\\\\ufeff\\\\nAfter Uttar Pradesh, it is now the turn of the Madhya Pradesh government to crackdown on Romeos with Chief Minister Shivraj Singh Chouhan promising to reform \\\\\"majnus\\\\\" and bring about a legislation to hang those raping minors. \\\\n\\\\\"We will reform \\'majnu-type\\' of persons. They don\\'t know how to respect. They are not good for the civilised society. A campaign will be launched against majnus,\\\\\" he had said on Friday while addressing the 89th Passing Out Parade at MP Police Academy in Bhopal. Anti-Romeo squads... and those Italian marines... \\\\nHe also said that an amendment to the criminal law providing death penalty for raping a minor would be introduced in the Madhya Pradesh assembly soon. \\\\n\\\\\"A bill providing death sentence for rape of minors would be presented in the coming monsoon session (of assembly). Once it is passed it would be forwarded to the President for assent,\\\\\" the chief minister said. \\\\nHe also said that police should keep a vigil near places like girls hostel to ensure that women don\\'t face any difficulty. \\\\n\\\\\"Police should create such an atmosphere so that women are able to move around independently without any fear. It should take stern measures against criminal elements,\\\\\" he added. \", \"Acting on the Allahabad High Court\\'s order asking anti-Romeo squads to follow guidelines, the Uttar Pradesh government on Friday directed the police to ensure that no inhumane measure was adopted in the name of ensuring security to women. There should be no shaving of heads, blackening of faces or \\\\\"murga pose\\\\\" (sit-ups while holding ears), a senior official said here. The guidelines have been issued after the intervention of Chief Minister Yogi Adityanath amidst reports of harassment by anti-Romeo squads. These special squads of UP Police were formed after the Yogi Aditynath government assumed office this month, fulfilling one of the poll promises of the BJP. The Allahabad High Court had on Thursday directed the Uttar Pradesh government to ensure that guidelines were followed by anti-Romeo squads and action was taken as per the law. The court\\'s Lucknow bench of justices Amreshwar Pratap Sahi and Sanjay Harkauli had given the order on a PIL that alleged that police were not following the guidelines during the drive, aimed at checking eveteasing, and was harassing couples. The chief minister has also directed administrative and police officials in districts to regularly review the steps being taken for women security and inform senior officials on a regular basis, the official said. Stressing that his government was firm on upholding the security and dignity of women, he said a state-wide drive has been launched to free public places of anti-social elements and check incidents of eve-teasing, indecent behaviour and passing of lewd comments at women and girls. The UP Home department has issued fresh directives to identify those involved in misconduct at schools, colleges, bus stations, railway stations, malls and markets. The government is also firm on checking unnecessary harassment of girls and boys merely in the name of curbing eve-teasing in public places like coffee shops, markets and parks. The government has also made it clear that vigilantism of any sort in this regard will not be tolerated.\"], \"DLA\": \"non-novel\"}\\n',\n",
       " '{\"target_text\": \"\\\\ufeffWith Uttar Pradesh chief minister Yogi Adityanath\\\\u2019s move to eliminate the anti-social elements and with the launch of an anti-Romeo squad to keep eve-teasing at bay, this newspaper spoke to the youth and denizens of the national capital to know their views on the issue. The police teams, which kickstarted their anti-Romeo drive in neighbouring cities like Meerut, Ghaziabad, Kanpur, and Noida from March 23, sent shivers down the spines of young boys and girls. The youth voiced their concern, saying that the police, on the name of anti-Romeo drive, was harassing the innocent lot. \\\\nWhile the crackdown continues on the young students in Ghaziabad with over 45 persons nabbed by the police so far, Delhiites have a mixed tone on the issue when asked whether the national capital should have its own anti-Romeo squad. \\\\nChandani Mathur, an aspiring management student, is of the opinion that the national capital should have a check on the anti-social elements as the city has a dubious name when it comes to the safety and security of the women and children. \\\\u201cThe city police must act against the miscreants who are on the loose in the streets and try to outrage the modesty of a woman. They should be dealt with sternly. The state government should take a cue from their neighbouring state and act accordingly,\\\\u201d she said. \\\\nSince the much hyped anti-Romeo drive began in Uttar Pradesh, there has been a heavy crackdown on eve teasers. The cops in Ghaziabad, who are on the hunt for the \\\\u2018road-Romeos,\\\\u2019 have allegedly taken action against 40 persons so far. \\\\nAnkush Rastogi, a software professional and resident of Laxmi Nagar, believes that the drive may bring down the number of eve teasing cases. \\\\u201cHowever, it\\\\u2019s not all. What is a worrisome factor is that the police will abuse its power and harass the innocent lot,\\\\u201d he rued. \\\\nAccording to Naina Kumar, a 26-year-old girl who works in a private firm in Delhi, if the drive is started, it will become an uphill task for youngsters and working professionals to take a stroll on the street or sit in a coffee joint or in a cafe. \\\\u201cHow humiliating it would be if you are hanging out with your brother or distant cousin and are stopped and checked by the police, to whom you have to explain your relationship,\\\\u201d she said. \", \"source\": [\"\\\\nAmid outrage over the way Uttar Pradesh Chief Minister Yogi Adityanath\\'s anti-Romeo squads have punished loitering men on the streets, the police has issued fresh guidelines for these groups who are allegedly trying to \\\\\"protect the modesty of women.\\\\\" \\\\nNDTV reports that these squads have been told there will be no shaving of hair, blackening of the face or murga punishment or even uthak baithak. \\\\nDirector General of Police Javeed Ahmed gave these directions in a letter to the police. \\\\nNDTV also quoted the letter as saying, \\\\\"Couples sitting in public places should not be asked for IDs, questioned, frisked or humiliated.\\\\\" \\\\nIt was reported earlier this week that the anti-Romeo squads were also targeting people for certain castes. \\\\nMany had complained of being harassed by the squads who had till now been frisking men. \\\\nCongress MP Ranjeeta Ranjan had raised this issue in Parliament, saying the youth in Uttar Pradesh were being harassed. Ranjan said, \\\\\"The youth are being harassed and humiliated by the anti-Romeo squads. There is a particular caste, which is being targeted by the state government. A particular community is also being targeted by the UP government.\\\\\" \\\\nEarlier last week, Adityanath had asked the police to form proper guidelines for the squads. The Hindustan Times had reported that the chief minister had asked the police to ensure boys and girls hanging out with consent were not harassed. \\\\nThe BJP and Adityanath had promised anti-Romeo squads during campaigning leading up to the Assembly elections in Uttar Pradesh, and he put his promises to action within a matter of days. \", \"\\\\ufeff\\\\nAfter Uttar Pradesh, it is now the turn of the Madhya Pradesh government to crackdown on Romeos with Chief Minister Shivraj Singh Chouhan promising to reform \\\\\"majnus\\\\\" and bring about a legislation to hang those raping minors. \\\\n\\\\\"We will reform \\'majnu-type\\' of persons. They don\\'t know how to respect. They are not good for the civilised society. A campaign will be launched against majnus,\\\\\" he had said on Friday while addressing the 89th Passing Out Parade at MP Police Academy in Bhopal. Anti-Romeo squads... and those Italian marines... \\\\nHe also said that an amendment to the criminal law providing death penalty for raping a minor would be introduced in the Madhya Pradesh assembly soon. \\\\n\\\\\"A bill providing death sentence for rape of minors would be presented in the coming monsoon session (of assembly). Once it is passed it would be forwarded to the President for assent,\\\\\" the chief minister said. \\\\nHe also said that police should keep a vigil near places like girls hostel to ensure that women don\\'t face any difficulty. \\\\n\\\\\"Police should create such an atmosphere so that women are able to move around independently without any fear. It should take stern measures against criminal elements,\\\\\" he added. \", \"Acting on the Allahabad High Court\\'s order asking anti-Romeo squads to follow guidelines, the Uttar Pradesh government on Friday directed the police to ensure that no inhumane measure was adopted in the name of ensuring security to women. There should be no shaving of heads, blackening of faces or \\\\\"murga pose\\\\\" (sit-ups while holding ears), a senior official said here. The guidelines have been issued after the intervention of Chief Minister Yogi Adityanath amidst reports of harassment by anti-Romeo squads. These special squads of UP Police were formed after the Yogi Aditynath government assumed office this month, fulfilling one of the poll promises of the BJP. The Allahabad High Court had on Thursday directed the Uttar Pradesh government to ensure that guidelines were followed by anti-Romeo squads and action was taken as per the law. The court\\'s Lucknow bench of justices Amreshwar Pratap Sahi and Sanjay Harkauli had given the order on a PIL that alleged that police were not following the guidelines during the drive, aimed at checking eveteasing, and was harassing couples. The chief minister has also directed administrative and police officials in districts to regularly review the steps being taken for women security and inform senior officials on a regular basis, the official said. Stressing that his government was firm on upholding the security and dignity of women, he said a state-wide drive has been launched to free public places of anti-social elements and check incidents of eve-teasing, indecent behaviour and passing of lewd comments at women and girls. The UP Home department has issued fresh directives to identify those involved in misconduct at schools, colleges, bus stations, railway stations, malls and markets. The government is also firm on checking unnecessary harassment of girls and boys merely in the name of curbing eve-teasing in public places like coffee shops, markets and parks. The government has also made it clear that vigilantism of any sort in this regard will not be tolerated.\"], \"DLA\": \"novel\"}\\n']"
      ]
     },
     "metadata": {},
     "execution_count": 27
    }
   ],
   "source": [
    "[json.dumps(i)+\"\\n\" for i in d[3:10]]"
   ]
  },
  {
   "cell_type": "code",
   "execution_count": null,
   "metadata": {},
   "outputs": [],
   "source": []
  }
 ]
}