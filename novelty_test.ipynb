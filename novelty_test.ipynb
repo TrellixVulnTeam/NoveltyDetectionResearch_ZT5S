{
 "metadata": {
  "language_info": {
   "codemirror_mode": {
    "name": "ipython",
    "version": 3
   },
   "file_extension": ".py",
   "mimetype": "text/x-python",
   "name": "python",
   "nbconvert_exporter": "python",
   "pygments_lexer": "ipython3",
   "version": "3.6.9-final"
  },
  "orig_nbformat": 2,
  "kernelspec": {
   "name": "python3",
   "display_name": "Python 3",
   "language": "python"
  }
 },
 "nbformat": 4,
 "nbformat_minor": 2,
 "cells": [
  {
   "cell_type": "code",
   "execution_count": 1,
   "metadata": {},
   "outputs": [],
   "source": [
    "from src.defaults import *\n",
    "from src.datasets.novelty import *"
   ]
  },
  {
   "cell_type": "code",
   "execution_count": 4,
   "metadata": {},
   "outputs": [],
   "source": [
    "load_nli = 'NLI-93'\n",
    "\n",
    "download_models_from_neptune(load_nli)\n",
    "field = load_field(load_nli)\n",
    "# field = None\n",
    "\n",
    "\n",
    "dataset_conf = {'dataset': 'dlnd', 'max_num_sent': 60,\"sent_tokenizer\":\"spacy\",\"batch_size\":4,\"device\":\"cuda\"}\n",
    "# dataset_conf = {'dataset': 'dlnd', 'max_num_sent': 50,\"sent_tokenizer\":\"spacy\", \"tokenizer\":'spacy',\"max_len\":50,\"batch_size\":32,\"device\":\"cuda\"}\n",
    "model_conf = {'results_dir': 'results', 'device': 'cuda', 'dropout': 0.2, 'dataset': 'dlnd', 'hidden_size': 150, 'use_glove': False}"
   ]
  },
  {
   "cell_type": "code",
   "execution_count": 3,
   "metadata": {},
   "outputs": [],
   "source": [
    "data = dlnd(dataset_conf,sentence_field = field)"
   ]
  },
  {
   "cell_type": "code",
   "execution_count": 5,
   "metadata": {},
   "outputs": [
    {
     "output_type": "stream",
     "name": "stdout",
     "text": [
      "\n[torchtext.data.batch.Batch of size 4]\n\t[.source]:[torch.cuda.LongTensor of size 4x60x50 (GPU 0)]\n\t[.target]:[torch.cuda.LongTensor of size 4x60x50 (GPU 0)]\n\t[.label]:[torch.cuda.LongTensor of size 4 (GPU 0)]\n"
     ]
    }
   ],
   "source": [
    "for i in data.train_iter:\n",
    "    print(i)\n",
    "    break"
   ]
  },
  {
   "cell_type": "code",
   "execution_count": 7,
   "metadata": {},
   "outputs": [],
   "source": [
    "from src.model.nli_models import *\n",
    "from src.model.novelty_models import *\n",
    "\n",
    "def load_encoder(enc_data):\n",
    "    if enc_data['options'].get(\"attention_layer_param\",0)==0:\n",
    "        model = bilstm_snli(enc_data[\"options\"])\n",
    "    elif enc_data['options'].get(\"r\",0)==0:\n",
    "        model = attn_bilstm_snli(enc_data[\"options\"])\n",
    "    else:\n",
    "        model = struc_attn_snli(enc_data[\"options\"])\n",
    "    return model\n",
    "\n",
    "nli_model_data = load_encoder_data(load_nli)\n",
    "nli_model_data['options'][\"use_glove\"] = False\n",
    "encoder = load_encoder(nli_model_data).encoder\n",
    "model_conf[\"encoder_dim\"] = nli_model_data[\"options\"][\"hidden_size\"]\n",
    "\n"
   ]
  },
  {
   "cell_type": "code",
   "execution_count": 5,
   "metadata": {},
   "outputs": [],
   "source": [
    "import torch\n",
    "import torch.nn as nn\n",
    "import torch.nn.functional as F\n",
    "import torch.optim as optim\n",
    "\n",
    "class concat_attention(nn.Module):\n",
    "    def __init__(self, hidden_size):\n",
    "        super().__init__()\n",
    "        self.Wc1 = nn.Linear(2 * hidden_size, hidden_size, bias=False)\n",
    "        self.Wc2 = nn.Linear(2 * hidden_size, hidden_size, bias=False)\n",
    "        self.vc = nn.Linear(hidden_size, 1, bias=False)\n",
    "\n",
    "    def forward(self, x, y):\n",
    "        _s1 = self.Wc1(x).unsqueeze(1)\n",
    "        _s2 = self.Wc2(y).unsqueeze(2)\n",
    "        sjt = self.vc(torch.tanh(_s1 + _s2)).squeeze()\n",
    "        ait = F.softmax(sjt, 2)\n",
    "        qtc = ait.bmm(x)\n",
    "        return qtc\n",
    "\n",
    "\n",
    "class bilinear_attention(nn.Module):\n",
    "    def __init__(self, hidden_size):\n",
    "        super().__init__()\n",
    "        self.Wb = nn.Linear(2 * hidden_size, 2 * hidden_size, bias=False)\n",
    "\n",
    "    def forward(self, x, y):\n",
    "        _s1 = self.Wb(x).transpose(2, 1)\n",
    "        sjt = y.bmm(_s1)\n",
    "        ait = F.softmax(sjt, 2)\n",
    "        qtb = ait.bmm(x)\n",
    "        return qtb\n",
    "\n",
    "\n",
    "class dot_attention(nn.Module):\n",
    "    def __init__(self, hidden_size):\n",
    "        super().__init__()\n",
    "        self.Wd = nn.Linear(2 * hidden_size, hidden_size, bias=False)\n",
    "        self.vd = nn.Linear(hidden_size, 1, bias=False)\n",
    "\n",
    "    def forward(self, x, y):\n",
    "        _s1 = x.unsqueeze(1)\n",
    "        _s2 = y.unsqueeze(2)\n",
    "        sjt = self.vd(torch.tanh(self.Wd(_s1 * _s2))).squeeze()\n",
    "        ait = F.softmax(sjt, 2)\n",
    "        qtd = ait.bmm(x)\n",
    "        return qtd\n",
    "\n",
    "\n",
    "class minus_attention(nn.Module):\n",
    "    def __init__(self, hidden_size):\n",
    "        super().__init__()\n",
    "        self.Wm = nn.Linear(2 * hidden_size, hidden_size, bias=False)\n",
    "        self.vm = nn.Linear(hidden_size, 1, bias=False)\n",
    "\n",
    "        self.Ws = nn.Linear(2 * hidden_size, hidden_size, bias=False)\n",
    "        self.vs = nn.Linear(hidden_size, 1, bias=False)\n",
    "\n",
    "    def forward(self, x, y):\n",
    "        _s1 = x.unsqueeze(1)\n",
    "        _s2 = y.unsqueeze(2)\n",
    "        sjt = self.vm(torch.tanh(self.Wm(_s1 - _s2))).squeeze()\n",
    "        ait = F.softmax(sjt, 2)\n",
    "        qtm = ait.bmm(x)\n",
    "        return qtm\n",
    "\n",
    "\n",
    "class MwAN(nn.Module):\n",
    "    def __init__(self, conf, encoder):\n",
    "        super().__init__()\n",
    "        self.conf = conf\n",
    "        self.dropout = nn.Dropout(conf[\"dropout\"])\n",
    "        self.encoder = encoder\n",
    "        self.template = nn.Parameter(torch.zeros((1)), requires_grad=True)\n",
    "        self.prem_gru = nn.GRU(\n",
    "            input_size=2 * self.conf[\"encoder_dim\"],\n",
    "            hidden_size=self.conf[\"hidden_size\"],\n",
    "            batch_first=True,\n",
    "            bidirectional=True,\n",
    "        )\n",
    "\n",
    "        self.hypo_gru = nn.GRU(\n",
    "            input_size=2 * self.conf[\"encoder_dim\"],\n",
    "            hidden_size=conf[\"hidden_size\"],\n",
    "            batch_first=True,\n",
    "            bidirectional=True,\n",
    "        )\n",
    "\n",
    "        # Concat Attention\n",
    "        self.concat_attn = concat_attention(conf[\"hidden_size\"])\n",
    "        # Bilinear Attention\n",
    "        self.bilinear_attn = bilinear_attention(conf[\"hidden_size\"])\n",
    "        # Dot Attention :\n",
    "        self.dot_attn_1 = dot_attention(conf[\"hidden_size\"])\n",
    "        self.dot_attn_2 = dot_attention(conf[\"hidden_size\"])\n",
    "        # Minus Attention :\n",
    "        self.minus_attn = minus_attention(conf[\"hidden_size\"])\n",
    "\n",
    "        self.gru_agg = nn.GRU(\n",
    "            12 * conf[\"hidden_size\"],\n",
    "            conf[\"hidden_size\"],\n",
    "            batch_first=True,\n",
    "            bidirectional=True,\n",
    "        )\n",
    "\n",
    "        self.Wq = nn.Linear(2 * conf[\"hidden_size\"], conf[\"hidden_size\"], bias=False)\n",
    "        self.vq = nn.Linear(conf[\"hidden_size\"], 1, bias=False)\n",
    "\n",
    "        self.Wp1 = nn.Linear(2 * conf[\"hidden_size\"], conf[\"hidden_size\"], bias=False)\n",
    "        self.Wp2 = nn.Linear(2 * conf[\"hidden_size\"], conf[\"hidden_size\"], bias=False)\n",
    "        self.vp = nn.Linear(conf[\"hidden_size\"], 1, bias=False)\n",
    "\n",
    "        self.prediction = nn.Linear(2 * conf[\"hidden_size\"], 2, bias=False)\n",
    "\n",
    "    def encode_sent(self, inp):\n",
    "        batch_size, num_sent, max_len = inp.shape\n",
    "        x = inp.view(-1, max_len)\n",
    "\n",
    "        x_padded_idx = x.sum(dim=1) != 0\n",
    "        x_enc = []\n",
    "        for sub_batch in x[x_padded_idx].split(64):\n",
    "            x_enc.append(self.encoder(sub_batch, None))\n",
    "        x_enc = torch.cat(x_enc, dim=0)\n",
    "\n",
    "        x_enc_t = torch.zeros((batch_size * num_sent, x_enc.size(1))).to(\n",
    "            self.template.device\n",
    "        )\n",
    "\n",
    "        x_enc_t[x_padded_idx] = x_enc\n",
    "        x_enc_t = x_enc_t.view(batch_size, num_sent, -1)\n",
    "\n",
    "        return x_enc_t\n",
    "\n",
    "    def forward(self, input):\n",
    "        x0,x1 = input\n",
    "        x0_enc = self.encode_sent(x0)\n",
    "        x1_enc = self.encode_sent(x1)\n",
    "\n",
    "        x0_enc, _ = self.prem_gru(x0_enc)\n",
    "        x1_enc, _ = self.hypo_gru(x1_enc)\n",
    "\n",
    "        qtc = self.concat_attn(x0_enc, x1_enc)\n",
    "        qtb = self.bilinear_attn(x0_enc, x1_enc)\n",
    "        qts = self.dot_attn_1(x0_enc, x1_enc)\n",
    "        qtd = self.dot_attn_2(x1_enc, x0_enc)\n",
    "        qtm = self.minus_attn(x0_enc, x1_enc)\n",
    "\n",
    "        aggregation = torch.cat([x1_enc, qts, qtc, qtd, qtb, qtm], 2)\n",
    "        aggregation_representation, _ = self.gru_agg(aggregation)\n",
    "\n",
    "        sj = self.vq(torch.tanh(self.Wq(x0_enc))).transpose(2, 1)\n",
    "        rq = F.softmax(sj, 2).bmm(x0_enc)\n",
    "        sj = F.softmax(\n",
    "            self.vp(self.Wp1(aggregation_representation) + self.Wp2(rq)).transpose(\n",
    "                2, 1\n",
    "            ),\n",
    "            2,\n",
    "        )\n",
    "        rp = sj.bmm(aggregation_representation)\n",
    "        encoder_output = self.dropout(F.relu(self.prediction(rp)))\n",
    "        encoder_output = encoder_output.squeeze(1)\n",
    "        return encoder_output\n"
   ]
  },
  {
   "cell_type": "code",
   "execution_count": 8,
   "metadata": {},
   "outputs": [],
   "source": [
    "model = MwAN(model_conf,encoder)"
   ]
  },
  {
   "cell_type": "code",
   "execution_count": 9,
   "metadata": {},
   "outputs": [],
   "source": [
    "train_dl,val_dl,test_dl = data.get_dataloaders()"
   ]
  },
  {
   "cell_type": "code",
   "execution_count": 20,
   "metadata": {},
   "outputs": [
    {
     "output_type": "execute_result",
     "data": {
      "text/plain": [
       "tensor([[0.0355, 0.0098],\n",
       "        [0.0356, 0.0098],\n",
       "        [0.0356, 0.0099],\n",
       "        [0.0356, 0.0098]], grad_fn=<AddmmBackward>)"
      ]
     },
     "metadata": {},
     "execution_count": 20
    }
   ],
   "source": [
    "from torch_lr_finder import LRFinder\n",
    "\n",
    "criterion = nn.CrossEntropyLoss()\n",
    "optimizer = optim.Adam(model.parameters(), lr=0.0001, weight_decay=1e-2)\n",
    "lr_finder = LRFinder(model, optimizer, criterion, device=\"cuda\")\n",
    "lr_finder.range_test(trainloader, val_loader=val_loader, end_lr=0.01, num_iter=100, step_mode=\"exp\")\n",
    "lr_finder.plot(log_lr=False)\n",
    "lr_finder.reset()"
   ]
  },
  {
   "cell_type": "code",
   "execution_count": 11,
   "metadata": {},
   "outputs": [
    {
     "output_type": "execute_result",
     "data": {
      "text/plain": [
       "Attn_Encoder(\n",
       "  (embedding): Embedding(33934, 300, padding_idx=1)\n",
       "  (translate): Linear(in_features=300, out_features=400, bias=True)\n",
       "  (relu): ReLU()\n",
       "  (dropout): Dropout(p=0.3, inplace=False)\n",
       "  (lstm_layer): LSTM(400, 400, batch_first=True, dropout=0.3, bidirectional=True)\n",
       "  (attention): Attention(\n",
       "    (Ws): Linear(in_features=800, out_features=200, bias=False)\n",
       "    (Wa): Linear(in_features=200, out_features=1, bias=False)\n",
       "  )\n",
       ")"
      ]
     },
     "metadata": {},
     "execution_count": 11
    }
   ],
   "source": []
  },
  {
   "cell_type": "code",
   "execution_count": 10,
   "metadata": {},
   "outputs": [
    {
     "output_type": "stream",
     "name": "stdout",
     "text": [
      "[[tensor([[[    2,    14,     4,  ...,     1,     1,     1],\n         [    2,     6,  7893,  ...,     1,     1,     1],\n         [    2, 16905,    18,  ...,     1,     1,     1],\n         ...,\n         [    2,     6,    53,  ...,     1,     1,     1],\n         [    2,     6,     0,  ...,     0,    89,     3],\n         [    2,   631,    13,  ...,     1,     1,     1]],\n\n        [[    2,  9303, 17679,  ...,     1,     1,     1],\n         [    2,     6,  3794,  ...,     1,     1,     1],\n         [    2, 17679,    89,  ...,     1,     1,     1],\n         ...,\n         [    1,     1,     1,  ...,     1,     1,     1],\n         [    1,     1,     1,  ...,     1,     1,     1],\n         [    1,     1,     1,  ...,     1,     1,     1]],\n\n        [[    2,  9113,    45,  ...,  8569,     0,     3],\n         [    2,     0,     0,  ...,     1,     1,     1],\n         [    2,   136,   575,  ...,     1,     1,     1],\n         ...,\n         [    1,     1,     1,  ...,     1,     1,     1],\n         [    1,     1,     1,  ...,     1,     1,     1],\n         [    1,     1,     1,  ...,     1,     1,     1]],\n\n        [[    2,    60,   228,  ...,     1,     1,     1],\n         [    2, 11492,    19,  ...,     1,     1,     1],\n         [    2,  4340,     6,  ...,     1,     1,     1],\n         ...,\n         [    1,     1,     1,  ...,     1,     1,     1],\n         [    1,     1,     1,  ...,     1,     1,     1],\n         [    1,     1,     1,  ...,     1,     1,     1]]]), tensor([[[    2,     0, 28499,  ...,     1,     1,     1],\n         [    2,     0, 28672,  ...,     1,     1,     1],\n         [    2,     0,     0,  ...,     1,     1,     1],\n         ...,\n         [    1,     1,     1,  ...,     1,     1,     1],\n         [    1,     1,     1,  ...,     1,     1,     1],\n         [    1,     1,     1,  ...,     1,     1,     1]],\n\n        [[    2,     0,     6,  ...,     6, 20964,     3],\n         [    2,  1747, 11393,  ...,     1,     1,     1],\n         [    2,     0,     8,  ...,     1,     1,     1],\n         ...,\n         [    2,  2794, 17893,  ...,     1,     1,     1],\n         [    2,     6,     0,  ...,   179,     3,     1],\n         [    2,     0,     8,  ...,     1,     1,     1]],\n\n        [[    2,     0,     0,  ...,     1,     1,     1],\n         [    2,   139,   400,  ...,     1,     1,     1],\n         [    2,     6,  4922,  ...,     1,     1,     1],\n         ...,\n         [    1,     1,     1,  ...,     1,     1,     1],\n         [    1,     1,     1,  ...,     1,     1,     1],\n         [    1,     1,     1,  ...,     1,     1,     1]],\n\n        [[    2,    49,   100,  ...,     5,     3,     1],\n         [    2,     6,     0,  ...,     1,     1,     1],\n         [    2,     0,   412,  ...,     1,     1,     1],\n         ...,\n         [    1,     1,     1,  ...,     1,     1,     1],\n         [    1,     1,     1,  ...,     1,     1,     1],\n         [    1,     1,     1,  ...,     1,     1,     1]]])], tensor([1, 1, 1, 1])]\n"
     ]
    }
   ],
   "source": [
    "for i in train_dl:\n",
    "    print(i)\n",
    "    break"
   ]
  },
  {
   "cell_type": "code",
   "execution_count": 18,
   "metadata": {},
   "outputs": [
    {
     "output_type": "execute_result",
     "data": {
      "text/plain": [
       "{'attention_layer_param': 200,\n",
       " 'char_embedding_dim': 100,\n",
       " 'dataset': 'snli',\n",
       " 'device': 'cuda',\n",
       " 'dropout': 0.3,\n",
       " 'embedding_dim': 300,\n",
       " 'fcs': 1,\n",
       " 'hidden_size': 400,\n",
       " 'max_word_len': 10,\n",
       " 'num_layers': 1,\n",
       " 'padding_idx': 1,\n",
       " 'results_dir': 'results',\n",
       " 'use_char_emb': False,\n",
       " 'use_glove': False,\n",
       " 'vocab_size': 33934}"
      ]
     },
     "metadata": {},
     "execution_count": 18
    }
   ],
   "source": [
    "model.conf"
   ]
  },
  {
   "cell_type": "code",
   "execution_count": 41,
   "metadata": {},
   "outputs": [],
   "source": [
    "from sklearn.model_selection import KFold,StratifiedKFold\n",
    "import numpy as np\n",
    "from torchtext.data import Dataset\n",
    "\n",
    "\n",
    "def iter_folds(data):\n",
    "    kf = StratifiedKFold(n_splits=10, shuffle=True)\n",
    "    train_exs_arr = np.array(data.data.examples)\n",
    "    labels = np.array([i.label for i in data.data.examples])\n",
    "    fields = data.data.fields\n",
    "    for train_idx, val_idx in kf.split(train_exs_arr,y = labels):\n",
    "        yield (\n",
    "            Dataset(train_exs_arr[train_idx], fields),\n",
    "            Dataset(train_exs_arr[val_idx], fields),\n",
    "        )\n"
   ]
  },
  {
   "cell_type": "code",
   "execution_count": 42,
   "metadata": {},
   "outputs": [
    {
     "output_type": "stream",
     "name": "stdout",
     "text": [
      "(<torchtext.data.dataset.Dataset object at 0x7fb59a014ef0>, <torchtext.data.dataset.Dataset object at 0x7fb5991c9ba8>)\n(<torchtext.data.dataset.Dataset object at 0x7fb59a031898>, <torchtext.data.dataset.Dataset object at 0x7fb5991c93c8>)\n(<torchtext.data.dataset.Dataset object at 0x7fb59a014ef0>, <torchtext.data.dataset.Dataset object at 0x7fb5991c9ba8>)\n(<torchtext.data.dataset.Dataset object at 0x7fb59a031898>, <torchtext.data.dataset.Dataset object at 0x7fb5991c93c8>)\n(<torchtext.data.dataset.Dataset object at 0x7fb59a014ef0>, <torchtext.data.dataset.Dataset object at 0x7fb5991c9ba8>)\n(<torchtext.data.dataset.Dataset object at 0x7fb59a031898>, <torchtext.data.dataset.Dataset object at 0x7fb5991c93c8>)\n(<torchtext.data.dataset.Dataset object at 0x7fb59a014ef0>, <torchtext.data.dataset.Dataset object at 0x7fb5991c9ba8>)\n(<torchtext.data.dataset.Dataset object at 0x7fb59a031898>, <torchtext.data.dataset.Dataset object at 0x7fb5991c93c8>)\n(<torchtext.data.dataset.Dataset object at 0x7fb59a014ef0>, <torchtext.data.dataset.Dataset object at 0x7fb5991c9ba8>)\n(<torchtext.data.dataset.Dataset object at 0x7fb59a031898>, <torchtext.data.dataset.Dataset object at 0x7fb5991c93c8>)\n"
     ]
    }
   ],
   "source": [
    "for i in iter_folds(data):\n",
    "    print(i)"
   ]
  },
  {
   "cell_type": "code",
   "execution_count": null,
   "metadata": {},
   "outputs": [],
   "source": []
  }
 ]
}