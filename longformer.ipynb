{
 "metadata": {
  "language_info": {
   "codemirror_mode": {
    "name": "ipython",
    "version": 3
   },
   "file_extension": ".py",
   "mimetype": "text/x-python",
   "name": "python",
   "nbconvert_exporter": "python",
   "pygments_lexer": "ipython3",
   "version": "3.6.9-final"
  },
  "orig_nbformat": 2,
  "kernelspec": {
   "name": "python3",
   "display_name": "Python 3",
   "language": "python"
  }
 },
 "nbformat": 4,
 "nbformat_minor": 2,
 "cells": [
  {
   "cell_type": "code",
   "execution_count": 1,
   "metadata": {},
   "outputs": [],
   "source": [
    "from lang import *\n",
    "from transformers import LongformerModel, LongformerTokenizer\n",
    "\n",
    "tokenizer = LongformerTokenizer.from_pretrained('allenai/longformer-base-4096')"
   ]
  },
  {
   "cell_type": "code",
   "execution_count": 2,
   "metadata": {},
   "outputs": [],
   "source": [
    "lang_conf_params = {\n",
    "    \"max_len\" : 4096\n",
    "}\n",
    "longformer_lang_conf = LangConf(vocab_size=50000,**lang_conf_params)\n",
    "lang = LanguageIndex(config=longformer_lang_conf)\n",
    "lang.load_tokenizer(tokenizer)"
   ]
  },
  {
   "cell_type": "code",
   "execution_count": 3,
   "metadata": {},
   "outputs": [],
   "source": [
    "from datamodule import *"
   ]
  },
  {
   "cell_type": "code",
   "execution_count": 4,
   "metadata": {},
   "outputs": [],
   "source": [
    "datamodule = DLNDDataModule(batch_size = 1)\n"
   ]
  },
  {
   "cell_type": "code",
   "execution_count": 5,
   "metadata": {},
   "outputs": [
    {
     "output_type": "stream",
     "name": "stdout",
     "text": [
      "Data Size  5352\ntrain_samples:  4281\n"
     ]
    }
   ],
   "source": [
    "datamodule.prepare_data(lang,None,combine=True)"
   ]
  },
  {
   "cell_type": "code",
   "execution_count": 6,
   "metadata": {},
   "outputs": [
    {
     "output_type": "stream",
     "name": "stdout",
     "text": [
      "[tensor([[  0, 250, 333,  ...,   1,   1,   1]]), tensor([0]), tensor([5058])]\n"
     ]
    }
   ],
   "source": [
    "\n",
    "for i in datamodule.train_dataloader():\n",
    "    print(i)\n",
    "    break"
   ]
  },
  {
   "cell_type": "code",
   "execution_count": 7,
   "metadata": {},
   "outputs": [],
   "source": [
    "import torch\n",
    "import torch.nn as nn\n",
    "import torch.nn.functional as F\n",
    "import torch.optim as optim\n",
    "from transformers import LongformerModel\n",
    "\n",
    "\n",
    "class Longformer_conf:\n",
    "    encoder_dim = 768\n",
    "    batch_size = None\n",
    "    def __init__(self, **kwargs):\n",
    "        for k,v in kwargs.items():\n",
    "            setattr(self, k, v)\n",
    "\n",
    "class Lonformer_model(nn.Module):\n",
    "    def __init__(self,conf):\n",
    "        super(Lonformer_model,self).__init__()\n",
    "        self.conf=conf\n",
    "        self.encoder = LongformerModel.from_pretrained('allenai/longformer-base-4096')\n",
    "        self.fc = nn.Linear(conf.encoder_dim,2)\n",
    "\n",
    "    def forward(self,x0):\n",
    "        enc = self.encoder.forward(x0)[0][:, 0, :]\n",
    "        opt = self.fc(enc)\n",
    "        opt = opt.unsqueeze(0)\n",
    "        return opt\n",
    "\n",
    "\n"
   ]
  },
  {
   "cell_type": "code",
   "execution_count": 8,
   "metadata": {},
   "outputs": [],
   "source": [
    "from novelty.train_utils import *\n",
    "\n",
    "\n",
    "hparams = {\n",
    "    \"optim\": \"adam\",\n",
    "    \"lr\": 3e-4,\n",
    "    \"scheduler\": \"lambda\",\n",
    "    \"weight_decay\":0\n",
    "    }\n",
    "\n",
    "conf = Longformer_conf()\n",
    "model = Novelty_longformer(Lonformer_model,conf,hparams)"
   ]
  },
  {
   "cell_type": "code",
   "execution_count": 9,
   "metadata": {},
   "outputs": [
    {
     "output_type": "stream",
     "name": "stderr",
     "text": [
      "GPU available: True, used: True\n",
      "TPU available: False, using: 0 TPU cores\n",
      "CUDA_VISIBLE_DEVICES: [0]\n",
      "\n",
      "  | Name  | Type            | Params\n",
      "------------------------------------------\n",
      "0 | model | Lonformer_model | 148 M \n"
     ]
    },
    {
     "output_type": "display_data",
     "data": {
      "text/plain": "HBox(children=(FloatProgress(value=1.0, bar_style='info', description='Validation sanity check', layout=Layout…",
      "application/vnd.jupyter.widget-view+json": {
       "version_major": 2,
       "version_minor": 0,
       "model_id": "309a934e4f234dd2bbf788dd53275df9"
      }
     },
     "metadata": {}
    },
    {
     "output_type": "stream",
     "name": "stdout",
     "text": [
      ""
     ]
    },
    {
     "output_type": "display_data",
     "data": {
      "text/plain": "HBox(children=(FloatProgress(value=1.0, bar_style='info', description='Training', layout=Layout(flex='2'), max…",
      "application/vnd.jupyter.widget-view+json": {
       "version_major": 2,
       "version_minor": 0,
       "model_id": "3ac1f20646684bf9bf0cdd18f7f4f542"
      }
     },
     "metadata": {}
    },
    {
     "output_type": "display_data",
     "data": {
      "text/plain": "HBox(children=(FloatProgress(value=1.0, bar_style='info', description='Validating', layout=Layout(flex='2'), m…",
      "application/vnd.jupyter.widget-view+json": {
       "version_major": 2,
       "version_minor": 0,
       "model_id": "06a153b30e66444f8db722c8cbcbc957"
      }
     },
     "metadata": {}
    },
    {
     "output_type": "display_data",
     "data": {
      "text/plain": "HBox(children=(FloatProgress(value=1.0, bar_style='info', description='Validating', layout=Layout(flex='2'), m…",
      "application/vnd.jupyter.widget-view+json": {
       "version_major": 2,
       "version_minor": 0,
       "model_id": "624f12a35bc24b86b5e3fc81d8953de1"
      }
     },
     "metadata": {}
    },
    {
     "output_type": "stream",
     "name": "stderr",
     "text": [
      "Saving latest checkpoint..\n",
      "\n"
     ]
    },
    {
     "output_type": "display_data",
     "data": {
      "text/plain": "HBox(children=(FloatProgress(value=1.0, bar_style='info', description='Testing', layout=Layout(flex='2'), max=…",
      "application/vnd.jupyter.widget-view+json": {
       "version_major": 2,
       "version_minor": 0,
       "model_id": "1fbfed2ba668472e805e9dc69038784d"
      }
     },
     "metadata": {}
    },
    {
     "output_type": "stream",
     "name": "stdout",
     "text": [
      "--------------------------------------------------------------------------------\nDATALOADER:0 TEST RESULTS\n{'test_acc': tensor(0.5084),\n 'test_f1': tensor(0.2542),\n 'test_loss': tensor(0.6930, device='cuda:0'),\n 'test_prec': tensor(0.2542),\n 'test_recall': tensor(0.2542)}\n--------------------------------------------------------------------------------\n\n"
     ]
    },
    {
     "output_type": "execute_result",
     "data": {
      "text/plain": [
       "[{'test_acc': 0.5084112286567688,\n",
       "  'test_f1': 0.2542056143283844,\n",
       "  'test_loss': 0.6930384635925293,\n",
       "  'test_prec': 0.2542056143283844,\n",
       "  'test_recall': 0.2542056143283844}]"
      ]
     },
     "metadata": {},
     "execution_count": 9
    }
   ],
   "source": [
    "\n",
    "import pytorch_lightning as pl\n",
    "from pytorch_lightning.callbacks import LearningRateLogger\n",
    "from pytorch_lightning.profiler import AdvancedProfiler\n",
    "from pytorch_lightning.loggers import NeptuneLogger, TensorBoardLogger\n",
    "from pytorch_lightning.metrics import Accuracy\n",
    "\n",
    "tensorboard_logger = TensorBoardLogger(\"lightning_logs\")\n",
    "loggers = [tensorboard_logger]\n",
    "\n",
    "EPOCHS=4\n",
    "\n",
    "lr_logger = LearningRateLogger(logging_interval=\"step\")\n",
    "trainer = pl.Trainer(\n",
    "    gpus=1,\n",
    "    max_epochs=EPOCHS,\n",
    "    progress_bar_refresh_rate=10,\n",
    "    profiler=False,\n",
    "    auto_lr_find=False,\n",
    "    callbacks=[lr_logger],\n",
    "    logger=loggers,\n",
    "    row_log_interval=2,\n",
    "    accumulate_grad_batches=4,\n",
    ")\n",
    "trainer.fit(model, datamodule)\n",
    "trainer.test(model, datamodule=datamodule)"
   ]
  },
  {
   "cell_type": "code",
   "execution_count": null,
   "metadata": {},
   "outputs": [],
   "source": []
  }
 ]
}