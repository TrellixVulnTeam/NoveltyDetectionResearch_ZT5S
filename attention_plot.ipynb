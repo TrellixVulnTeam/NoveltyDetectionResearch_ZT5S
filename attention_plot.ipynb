{
 "metadata": {
  "language_info": {
   "codemirror_mode": {
    "name": "ipython",
    "version": 3
   },
   "file_extension": ".py",
   "mimetype": "text/x-python",
   "name": "python",
   "nbconvert_exporter": "python",
   "pygments_lexer": "ipython3",
   "version": "3.6.9-final"
  },
  "orig_nbformat": 2,
  "kernelspec": {
   "name": "python3",
   "display_name": "Python 3.6.9 64-bit",
   "metadata": {
    "interpreter": {
     "hash": "31f2aee4e71d21fbe5cf8b01ff0e069b9275f58929596ceb00d14d90e3e16cd6"
    }
   }
  }
 },
 "nbformat": 4,
 "nbformat_minor": 2,
 "cells": [
  {
   "cell_type": "code",
   "execution_count": 1,
   "metadata": {},
   "outputs": [],
   "source": [
    "from utils.load_models import *\n",
    "from utils.novelty_serve import *"
   ]
  },
  {
   "cell_type": "code",
   "execution_count": 2,
   "metadata": {},
   "outputs": [],
   "source": [
    "model, lang, model_conf = load_han_novelty(\"NOV-264\")\n",
    "model_conf.num_sent = 100\n",
    "model_dict = {\"model\": model.cuda(), \"lang\": lang, \"model_conf\": model_conf}"
   ]
  },
  {
   "cell_type": "code",
   "execution_count": 3,
   "metadata": {},
   "outputs": [],
   "source": [
    "import pandas as pd\n",
    "\n",
    "data = pd.read_csv(\"dlnd_data.csv\")"
   ]
  },
  {
   "cell_type": "code",
   "execution_count": 4,
   "metadata": {},
   "outputs": [],
   "source": [
    "row = data.iloc[1]\n",
    "target_text = row.target_text\n",
    "source_text = row.source\n",
    "true_class = row.DLA"
   ]
  },
  {
   "cell_type": "code",
   "execution_count": 5,
   "metadata": {},
   "outputs": [
    {
     "output_type": "stream",
     "name": "stderr",
     "text": [
      "100%|██████████| 33/33 [00:00<00:00, 1312.52it/s]\n",
      "100%|██████████| 12/12 [00:00<00:00, 930.02it/s]\n"
     ]
    }
   ],
   "source": [
    "opt, src_att, trg_att = map_attention(source_text, target_text, model_dict)"
   ]
  },
  {
   "cell_type": "code",
   "execution_count": 11,
   "metadata": {},
   "outputs": [],
   "source": [
    "import pandas as pd\n",
    "import numpy as np\n",
    "import html\n",
    "import random\n",
    "from IPython.core.display import display, HTML\n",
    "from IPython.display import IFrame\n",
    "import numpy as np\n",
    "import matplotlib\n",
    "import matplotlib.pyplot as plt\n",
    "\n",
    "\n",
    "def colorize(words, color_array):\n",
    "    cmap=matplotlib.cm.Reds\n",
    "    template = '<span class=\"barcode\"; style=\"color: black; background-color: {}\">{}</span>'\n",
    "    colored_string = ''\n",
    "    for word, color in zip(words, color_array):\n",
    "        color = matplotlib.colors.rgb2hex(cmap(color)[:3])\n",
    "        colored_string += template.format(color, '&nbsp' + word + '&nbsp')\n",
    "    return colored_string\n",
    "\n",
    "\n"
   ]
  },
  {
   "cell_type": "code",
   "execution_count": 12,
   "metadata": {},
   "outputs": [],
   "source": [
    "def plot(sent,attn):\n",
    "    source = nltk.sent_tokenize(sent)\n",
    "    if torch.is_tensor(attn):\n",
    "        attn = attn.detach().cpu().numpy().flatten()\n",
    "    attn_weights = 3*attn[0:len(source)]\n",
    "    s = colorize(source,attn_weights)\n",
    "    \n",
    "    # or simply save in an html file and open in browser\n",
    "    with open('colorize.html', 'w') as f:\n",
    "        f.write(s)\n"
   ]
  },
  {
   "cell_type": "code",
   "execution_count": 106,
   "metadata": {},
   "outputs": [
    {
     "output_type": "stream",
     "name": "stdout",
     "text": [
      "True\nNon-Novel\n"
     ]
    }
   ],
   "source": [
    "# 1502 - too much attention on one sentence\n",
    "# 1690 - To much information in source (mostly repetetive)\n",
    "# 1778 - Attention too localized\n",
    "# 3382 - Too much information in source\n",
    "#[1502, 1690, 1778, 3382, 3761, 881, 4514, 2689]\n",
    "\n",
    "row = data.iloc[3382]\n",
    "target_text = row.target_text\n",
    "source_text = row.source\n",
    "true_class = row.DLA\n",
    "print(\"True\")\n",
    "print(true_class)"
   ]
  },
  {
   "cell_type": "code",
   "execution_count": 107,
   "metadata": {},
   "outputs": [
    {
     "output_type": "stream",
     "name": "stderr",
     "text": [
      "100%|██████████| 33/33 [00:00<00:00, 1082.33it/s]\n",
      "100%|██████████| 10/10 [00:00<00:00, 1284.90it/s]\n"
     ]
    }
   ],
   "source": [
    "opt, src_att, trg_att = map_attention(source_text, target_text, model_dict)"
   ]
  },
  {
   "cell_type": "code",
   "execution_count": 108,
   "metadata": {},
   "outputs": [
    {
     "output_type": "stream",
     "name": "stdout",
     "text": [
      "Pred [0.3736461102962494, 0.626353919506073]\nNovel\n"
     ]
    }
   ],
   "source": [
    "print(\"Pred\",opt[0])\n",
    "print((\"Novel\" if opt[0][1]>0.5 else 'Non-Novel'))"
   ]
  },
  {
   "cell_type": "code",
   "execution_count": 109,
   "metadata": {},
   "outputs": [
    {
     "output_type": "execute_result",
     "data": {
      "text/plain": [
       "<IPython.lib.display.IFrame at 0x7f2bf1df71d0>"
      ],
      "text/html": "\n        <iframe\n            width=\"1200\"\n            height=\"400\"\n            src=\"./colorize.html\"\n            frameborder=\"0\"\n            allowfullscreen\n        ></iframe>\n        "
     },
     "metadata": {},
     "execution_count": 109
    }
   ],
   "source": [
    "plot(source_text,src_att)\n",
    "IFrame('./colorize.html',width=1200,height=400)\n",
    "\n"
   ]
  },
  {
   "cell_type": "code",
   "execution_count": 110,
   "metadata": {},
   "outputs": [
    {
     "output_type": "execute_result",
     "data": {
      "text/plain": [
       "<IPython.lib.display.IFrame at 0x7f2bf1df7128>"
      ],
      "text/html": "\n        <iframe\n            width=\"1200\"\n            height=\"400\"\n            src=\"./colorize.html\"\n            frameborder=\"0\"\n            allowfullscreen\n        ></iframe>\n        "
     },
     "metadata": {},
     "execution_count": 110
    }
   ],
   "source": [
    "plot(target_text,trg_att)\n",
    "IFrame('./colorize.html',width=1200,height=400)\n"
   ]
  },
  {
   "source": [
    "# Errros by DAN correctly predicted by our model (HAN-CNN)"
   ],
   "cell_type": "markdown",
   "metadata": {}
  },
  {
   "cell_type": "code",
   "execution_count": 18,
   "metadata": {},
   "outputs": [],
   "source": [
    "import pandas as pd\n",
    "\n",
    "dan_analysis = pd.read_csv('./analysis/dan_analysis_report.csv')\n",
    "han_cnn_analysis = pd.read_csv('./analysis/han_cnn_analysis_report.csv')"
   ]
  },
  {
   "cell_type": "code",
   "execution_count": 19,
   "metadata": {},
   "outputs": [
    {
     "output_type": "stream",
     "name": "stdout",
     "text": [
      "Num sentences\n\nMax num sentences in target - 45\nAvg num sentences in target - 13.525\n\nMax num sentences in source - 91\nAvg num sentences in source - 47.7\n"
     ]
    }
   ],
   "source": [
    "import nltk\n",
    "\n",
    "def sent_analysis(df):\n",
    "    # target analysis\n",
    "    print(\"Num sentences\")\n",
    "    print()\n",
    "    target = df.target_text.apply(lambda x: nltk.sent_tokenize(x))\n",
    "    target_len = target.apply(lambda x: len(x))\n",
    "    print(\"Max num sentences in target -\",max(target_len))\n",
    "    print(\"Avg num sentences in target -\",target_len.mean())\n",
    "    print()\n",
    "    source = df.source.apply(lambda x: nltk.sent_tokenize(x))\n",
    "    source_len = source.apply(lambda x: len(x))\n",
    "    print(\"Max num sentences in source -\",max(source_len))\n",
    "    print(\"Avg num sentences in source -\",source_len.mean())\n",
    "    \n",
    "\n",
    "sent_analysis(dan_analysis[dan_analysis.id.isin(set(dan_analysis.id) - (set(dan_analysis.id) - set(han_cnn_analysis.id)))])"
   ]
  },
  {
   "cell_type": "code",
   "execution_count": 20,
   "metadata": {},
   "outputs": [
    {
     "output_type": "stream",
     "name": "stdout",
     "text": [
      "Errors by DAN - correctly predicted by HAN-CNN\nNum sentences\n\nMax num sentences in target - 45\nAvg num sentences in target - 13.525\n\nMax num sentences in source - 91\nAvg num sentences in source - 47.7\n"
     ]
    }
   ],
   "source": [
    "print(\"Errors by DAN - correctly predicted by HAN-CNN\")\n",
    "sent_analysis(dan_analysis[dan_analysis.id.isin(set(dan_analysis.id) - (set(dan_analysis.id) - set(han_cnn_analysis.id)))])"
   ]
  },
  {
   "cell_type": "code",
   "execution_count": 21,
   "metadata": {},
   "outputs": [
    {
     "output_type": "stream",
     "name": "stdout",
     "text": [
      "Errors by DAN\n",
      "Num sentences\n",
      "\n",
      "Max num sentences in target - 45\n",
      "Avg num sentences in target - 13.776699029126213\n",
      "\n",
      "Max num sentences in source - 152\n",
      "Avg num sentences in source - 47.99029126213592\n"
     ]
    }
   ],
   "source": [
    "print(\"Errors by DAN\")\n",
    "sent_analysis(dan_analysis)"
   ]
  },
  {
   "cell_type": "code",
   "execution_count": 22,
   "metadata": {},
   "outputs": [
    {
     "output_type": "stream",
     "name": "stdout",
     "text": [
      "Errors by DAN\nNum sentences\n\nMax num sentences in target - 45\nAvg num sentences in target - 13.606060606060606\n\nMax num sentences in source - 111\nAvg num sentences in source - 49.22727272727273\n"
     ]
    }
   ],
   "source": [
    "print(\"Errors by DAN\")\n",
    "sent_analysis(han_cnn_analysis)"
   ]
  },
  {
   "cell_type": "code",
   "execution_count": 24,
   "metadata": {},
   "outputs": [
    {
     "output_type": "stream",
     "name": "stdout",
     "text": [
      "[  12  271  352  550  724  832  916 1176 1196 1198 1587 1732 1740 1961\n 2072 2158 2172 2305 2669 2822 2916 3281 3312 3642 3666 3730 3928 3945\n 3950 4045 4077 4082 4187 4361 4398 4428 4915 4924 5210 5216]\n"
     ]
    }
   ],
   "source": [
    "print(dan_analysis[dan_analysis.id.isin(set(dan_analysis.id) - (set(dan_analysis.id) - set(han_cnn_analysis.id)))].id.values)"
   ]
  },
  {
   "cell_type": "code",
   "execution_count": 69,
   "metadata": {},
   "outputs": [
    {
     "output_type": "execute_result",
     "data": {
      "text/plain": [
       "      Unnamed: 0  ...    id\n",
       "1305        1305  ...  1305\n",
       "\n",
       "[1 rows x 5 columns]"
      ],
      "text/html": "<div>\n<style scoped>\n    .dataframe tbody tr th:only-of-type {\n        vertical-align: middle;\n    }\n\n    .dataframe tbody tr th {\n        vertical-align: top;\n    }\n\n    .dataframe thead th {\n        text-align: right;\n    }\n</style>\n<table border=\"1\" class=\"dataframe\">\n  <thead>\n    <tr style=\"text-align: right;\">\n      <th></th>\n      <th>Unnamed: 0</th>\n      <th>target_text</th>\n      <th>source</th>\n      <th>DLA</th>\n      <th>id</th>\n    </tr>\n  </thead>\n  <tbody>\n    <tr>\n      <th>1305</th>\n      <td>1305</td>\n      <td>In the middle of a crowded bar, Adam Purinton ...</td>\n      <td>Law enforcement authorities in Johnson County...</td>\n      <td>Non-Novel</td>\n      <td>1305</td>\n    </tr>\n  </tbody>\n</table>\n</div>"
     },
     "metadata": {},
     "execution_count": 69
    }
   ],
   "source": [
    "x=\"\"\"In the middle of a crowded bar, Adam Purinton yelled at two Indian men to “ get out of my country ,” witnesses said, then opened fire in an attack that killed one of the men and wounded the other, as well as a third man who tried to help. \n",
    "\"\"\"\n",
    "data[data['target_text']==x]"
   ]
  },
  {
   "cell_type": "code",
   "execution_count": 75,
   "metadata": {},
   "outputs": [
    {
     "output_type": "stream",
     "name": "stdout",
     "text": [
      "[1502, 1319, 1628, 1124, 1980, 1690, 2124, 1831, 1778, 1851, 3999, 3382, 3371, 4066, 3133, 3780, 3761, 3683, 815, 567, 881, 4454, 4514, 4588, 2227, 2224, 50, 44, 79, 137, 5171, 5175, 5252, 5223, 4887, 5053, 2689, 2687, 2347, 2487]\n"
     ]
    }
   ],
   "source": [
    "ids=[]\n",
    "for i in dan_analysis[dan_analysis.id.isin(set(dan_analysis.id) - (set(dan_analysis.id) - set(han_cnn_analysis.id)))].target_text.values:\n",
    "    ids.append(data[data['target_text']==i].id.values[0])\n",
    "print(ids)"
   ]
  },
  {
   "cell_type": "code",
   "execution_count": 94,
   "metadata": {},
   "outputs": [
    {
     "output_type": "stream",
     "name": "stderr",
     "text": [
      "100%|██████████| 31/31 [00:00<00:00, 1623.69it/s]\n",
      "100%|██████████| 5/5 [00:00<00:00, 1567.85it/s]\n",
      "100%|██████████| 26/26 [00:00<00:00, 1480.98it/s]\n",
      "100%|██████████| 11/11 [00:00<00:00, 1451.22it/s]\n",
      "100%|██████████| 41/41 [00:00<00:00, 1740.60it/s]\n",
      "100%|██████████| 12/12 [00:00<00:00, 1598.29it/s]\n",
      "100%|██████████| 37/37 [00:00<00:00, 1664.62it/s]\n",
      "100%|██████████| 9/9 [00:00<00:00, 1309.31it/s]\n",
      "100%|██████████| 21/21 [00:00<00:00, 1693.10it/s]\n",
      "100%|██████████| 12/12 [00:00<00:00, 1804.45it/s]\n",
      "100%|██████████| 53/53 [00:00<00:00, 1380.73it/s]\n",
      "100%|██████████| 11/11 [00:00<00:00, 1366.95it/s]\n",
      "100%|██████████| 48/48 [00:00<00:00, 1425.79it/s]\n",
      "100%|██████████| 11/11 [00:00<00:00, 2107.40it/s]\n",
      "100%|██████████| 63/63 [00:00<00:00, 1666.60it/s]\n",
      "100%|██████████| 30/30 [00:00<00:00, 1776.27it/s]\n",
      "100%|██████████| 63/63 [00:00<00:00, 1642.56it/s]\n",
      "100%|██████████| 12/12 [00:00<00:00, 1604.04it/s]\n",
      "100%|██████████| 63/63 [00:00<00:00, 1328.97it/s]\n",
      "100%|██████████| 45/45 [00:00<00:00, 1700.67it/s]\n",
      "100%|██████████| 91/91 [00:00<00:00, 1729.92it/s]\n",
      "100%|██████████| 18/18 [00:00<00:00, 1483.48it/s]\n",
      "100%|██████████| 33/33 [00:00<00:00, 1113.59it/s]\n",
      "100%|██████████| 10/10 [00:00<00:00, 1299.27it/s]\n",
      "100%|██████████| 36/36 [00:00<00:00, 1803.40it/s]\n",
      "100%|██████████| 8/8 [00:00<00:00, 1824.21it/s]\n",
      "100%|██████████| 56/56 [00:00<00:00, 1372.08it/s]\n",
      "100%|██████████| 7/7 [00:00<00:00, 1162.36it/s]\n",
      "100%|██████████| 44/44 [00:00<00:00, 1561.03it/s]\n",
      "100%|██████████| 7/7 [00:00<00:00, 1364.95it/s]\n",
      "100%|██████████| 31/31 [00:00<00:00, 1289.45it/s]\n",
      "100%|██████████| 1/1 [00:00<00:00, 547.77it/s]\n",
      "100%|██████████| 24/24 [00:00<00:00, 1512.89it/s]\n",
      "100%|██████████| 14/14 [00:00<00:00, 1360.87it/s]\n",
      "100%|██████████| 39/39 [00:00<00:00, 1625.91it/s]\n",
      "100%|██████████| 13/13 [00:00<00:00, 1506.66it/s]\n",
      "100%|██████████| 60/60 [00:00<00:00, 1291.61it/s]\n",
      "100%|██████████| 8/8 [00:00<00:00, 1111.59it/s]\n",
      "100%|██████████| 53/53 [00:00<00:00, 1432.49it/s]\n",
      "100%|██████████| 7/7 [00:00<00:00, 1089.96it/s]\n",
      "100%|██████████| 39/39 [00:00<00:00, 1437.82it/s]\n",
      "100%|██████████| 10/10 [00:00<00:00, 1534.30it/s]\n",
      "100%|██████████| 39/39 [00:00<00:00, 1255.32it/s]\n",
      "100%|██████████| 12/12 [00:00<00:00, 1195.27it/s]\n",
      "100%|██████████| 37/37 [00:00<00:00, 1167.98it/s]\n",
      "100%|██████████| 7/7 [00:00<00:00, 863.86it/s]\n",
      "100%|██████████| 64/64 [00:00<00:00, 1397.93it/s]\n",
      "100%|██████████| 13/13 [00:00<00:00, 1292.36it/s]\n",
      "100%|██████████| 60/60 [00:00<00:00, 1508.74it/s]\n",
      "100%|██████████| 8/8 [00:00<00:00, 930.54it/s]\n",
      "100%|██████████| 60/60 [00:00<00:00, 1431.22it/s]\n",
      "100%|██████████| 13/13 [00:00<00:00, 1845.27it/s]\n",
      "100%|██████████| 46/46 [00:00<00:00, 1620.01it/s]\n",
      "100%|██████████| 8/8 [00:00<00:00, 1330.05it/s]\n",
      "100%|██████████| 46/46 [00:00<00:00, 1613.76it/s]\n",
      "100%|██████████| 23/23 [00:00<00:00, 1566.26it/s]\n",
      "100%|██████████| 46/46 [00:00<00:00, 1585.40it/s]\n",
      "100%|██████████| 24/24 [00:00<00:00, 1996.06it/s]\n",
      "100%|██████████| 44/44 [00:00<00:00, 1561.19it/s]\n",
      "100%|██████████| 12/12 [00:00<00:00, 1393.80it/s]\n",
      "100%|██████████| 55/55 [00:00<00:00, 1699.95it/s]\n",
      "100%|██████████| 10/10 [00:00<00:00, 1052.60it/s]\n",
      "100%|██████████| 55/55 [00:00<00:00, 1550.19it/s]\n",
      "100%|██████████| 15/15 [00:00<00:00, 1475.00it/s]\n",
      "100%|██████████| 29/29 [00:00<00:00, 1275.31it/s]\n",
      "100%|██████████| 9/9 [00:00<00:00, 1351.74it/s]\n",
      "100%|██████████| 73/73 [00:00<00:00, 1169.76it/s]\n",
      "100%|██████████| 12/12 [00:00<00:00, 912.52it/s]\n",
      "100%|██████████| 57/57 [00:00<00:00, 1463.99it/s]\n",
      "100%|██████████| 1/1 [00:00<00:00, 1599.05it/s]\n",
      "100%|██████████| 61/61 [00:00<00:00, 1866.20it/s]\n",
      "100%|██████████| 25/25 [00:00<00:00, 1440.91it/s]\n",
      "100%|██████████| 47/47 [00:00<00:00, 1348.57it/s]\n",
      "100%|██████████| 4/4 [00:00<00:00, 1217.33it/s]\n",
      "100%|██████████| 47/47 [00:00<00:00, 1301.53it/s]\n",
      "100%|██████████| 34/34 [00:00<00:00, 1483.35it/s]\n",
      "100%|██████████| 29/29 [00:00<00:00, 1306.05it/s]\n",
      "100%|██████████| 7/7 [00:00<00:00, 1194.91it/s]\n",
      "100%|██████████| 61/61 [00:00<00:00, 1647.73it/s]\n",
      "100%|██████████| 43/43 [00:00<00:00, 1374.02it/s]\n"
     ]
    }
   ],
   "source": [
    "\n",
    "my_ids =[]\n",
    "\n",
    "for id in ids:    \n",
    "    row = data.iloc[id]\n",
    "    target_text = row.target_text\n",
    "    source_text = row.source\n",
    "    true_class = row.DLA\n",
    "    opt, src_att, trg_att = map_attention(source_text, target_text, model_dict)\n",
    "    pred = (\"Novel\" if opt[0][1]>0.5 else 'Non-Novel')\n",
    "    if pred!=true_class:\n",
    "        my_ids.append(id)\n",
    "    "
   ]
  },
  {
   "cell_type": "code",
   "execution_count": 95,
   "metadata": {},
   "outputs": [
    {
     "output_type": "execute_result",
     "data": {
      "text/plain": [
       "[1502, 1690, 1778, 3382, 3761, 881, 4514, 2689]"
      ]
     },
     "metadata": {},
     "execution_count": 95
    }
   ],
   "source": [
    "my_ids"
   ]
  },
  {
   "cell_type": "code",
   "execution_count": null,
   "metadata": {},
   "outputs": [],
   "source": []
  }
 ]
}