{
 "metadata": {
  "language_info": {
   "codemirror_mode": {
    "name": "ipython",
    "version": 3
   },
   "file_extension": ".py",
   "mimetype": "text/x-python",
   "name": "python",
   "nbconvert_exporter": "python",
   "pygments_lexer": "ipython3",
   "version": "3.6.9-final"
  },
  "orig_nbformat": 2,
  "kernelspec": {
   "name": "python3",
   "display_name": "Python 3.6.9 64-bit",
   "metadata": {
    "interpreter": {
     "hash": "31f2aee4e71d21fbe5cf8b01ff0e069b9275f58929596ceb00d14d90e3e16cd6"
    }
   }
  }
 },
 "nbformat": 4,
 "nbformat_minor": 2,
 "cells": [
  {
   "cell_type": "code",
   "execution_count": 1,
   "metadata": {},
   "outputs": [],
   "source": [
    "from utils.load_models import *\n",
    "from utils.novelty_serve import *"
   ]
  },
  {
   "cell_type": "code",
   "execution_count": 2,
   "metadata": {},
   "outputs": [],
   "source": [
    "model, lang, model_conf = load_han_novelty(\"NOV-189\")\n",
    "model_conf.num_sent = 100\n",
    "model_dict = {\"model\": model.cuda(), \"lang\": lang, \"model_conf\": model_conf}"
   ]
  },
  {
   "cell_type": "code",
   "execution_count": 3,
   "metadata": {},
   "outputs": [],
   "source": [
    "import pandas as pd\n",
    "\n",
    "data = pd.read_csv(\"dlnd_data.csv\")"
   ]
  },
  {
   "cell_type": "code",
   "execution_count": 4,
   "metadata": {},
   "outputs": [],
   "source": [
    "row = data.iloc[1]\n",
    "target_text = row.target_text\n",
    "source_text = row.source\n",
    "true_class = row.DLA"
   ]
  },
  {
   "cell_type": "code",
   "execution_count": 5,
   "metadata": {},
   "outputs": [],
   "source": [
    "opt, src_att, trg_att = map_attention(source_text, target_text, model_dict)"
   ]
  },
  {
   "cell_type": "code",
   "execution_count": 101,
   "metadata": {},
   "outputs": [],
   "source": [
    "import pandas as pd\n",
    "import numpy as np\n",
    "import html\n",
    "import random\n",
    "from IPython.core.display import display, HTML\n",
    "from IPython.display import IFrame\n",
    "import numpy as np\n",
    "import matplotlib\n",
    "import matplotlib.pyplot as plt\n",
    "\n",
    "\n",
    "def colorize(words, color_array):\n",
    "    cmap=matplotlib.cm.Reds\n",
    "    template = '<span class=\"barcode\"; style=\"color: black; background-color: {}\">{}</span>'\n",
    "    colored_string = ''\n",
    "    for word, color in zip(words, color_array):\n",
    "        color = matplotlib.colors.rgb2hex(cmap(color)[:3])\n",
    "        colored_string += template.format(color, '&nbsp' + word + '&nbsp')\n",
    "    return colored_string\n",
    "\n",
    "\n"
   ]
  },
  {
   "cell_type": "code",
   "execution_count": 122,
   "metadata": {},
   "outputs": [],
   "source": [
    "def plot(sent,attn):\n",
    "    source = nltk.sent_tokenize(sent)\n",
    "    if torch.is_tensor(attn):\n",
    "        attn = attn.detach().cpu().numpy().flatten()\n",
    "    attn_weights = 3*attn[0:len(source)]\n",
    "    s = colorize(source,attn_weights)\n",
    "    \n",
    "    # or simply save in an html file and open in browser\n",
    "    with open('colorize.html', 'w') as f:\n",
    "        f.write(s)\n"
   ]
  },
  {
   "cell_type": "code",
   "execution_count": 127,
   "metadata": {},
   "outputs": [],
   "source": [
    "row = data.iloc[5349]\n",
    "target_text = row.target_text\n",
    "source_text = row.source\n",
    "true_class = row.DLA"
   ]
  },
  {
   "cell_type": "code",
   "execution_count": 128,
   "metadata": {},
   "outputs": [],
   "source": [
    "opt, src_att, trg_att = map_attention(source_text, target_text, model_dict)"
   ]
  },
  {
   "cell_type": "code",
   "execution_count": 131,
   "metadata": {},
   "outputs": [
    {
     "output_type": "execute_result",
     "data": {
      "text/plain": [
       "<IPython.lib.display.IFrame at 0x7f55007bce10>"
      ],
      "text/html": "\n        <iframe\n            width=\"1200\"\n            height=\"400\"\n            src=\"./colorize.html\"\n            frameborder=\"0\"\n            allowfullscreen\n        ></iframe>\n        "
     },
     "metadata": {},
     "execution_count": 131
    }
   ],
   "source": [
    "plot(source_text,src_att)\n",
    "IFrame('./colorize.html',width=1200,height=400)\n",
    "\n"
   ]
  },
  {
   "cell_type": "code",
   "execution_count": 132,
   "metadata": {},
   "outputs": [
    {
     "output_type": "execute_result",
     "data": {
      "text/plain": [
       "<IPython.lib.display.IFrame at 0x7f55007bc668>"
      ],
      "text/html": "\n        <iframe\n            width=\"1200\"\n            height=\"400\"\n            src=\"./colorize.html\"\n            frameborder=\"0\"\n            allowfullscreen\n        ></iframe>\n        "
     },
     "metadata": {},
     "execution_count": 132
    }
   ],
   "source": [
    "plot(target_text,trg_att)\n",
    "IFrame('./colorize.html',width=1200,height=400)\n"
   ]
  },
  {
   "cell_type": "code",
   "execution_count": 121,
   "metadata": {},
   "outputs": [
    {
     "output_type": "execute_result",
     "data": {
      "text/plain": [
       "tensor([0.5842, 0.3223, 0.1426, 0.0922, 0.0403, 0.0468, 0.0150, 0.0674, 0.4314,\n",
       "        0.6407, 0.4008, 0.5128, 0.1572, 0.3783, 0.1840, 0.1072, 0.2283, 0.0869,\n",
       "        0.0369, 0.0272, 0.0595, 0.0453, 0.1413, 0.4559, 0.6643, 0.3495, 0.1145,\n",
       "        0.0348, 0.1157, 0.4633, 0.1232, 0.1620, 1.1134, 1.3991, 0.0762, 0.0108,\n",
       "        0.0043, 0.0031, 0.0028, 0.0027, 0.0026, 0.0026, 0.0026, 0.0026, 0.0026,\n",
       "        0.0026, 0.0026, 0.0026, 0.0026, 0.0026, 0.0026, 0.0026, 0.0026, 0.0026,\n",
       "        0.0026, 0.0026, 0.0026, 0.0026, 0.0026, 0.0026, 0.0026, 0.0026, 0.0026,\n",
       "        0.0026, 0.0026, 0.0026, 0.0026, 0.0026, 0.0026, 0.0026, 0.0026, 0.0026,\n",
       "        0.0026, 0.0026, 0.0026, 0.0026, 0.0026, 0.0026, 0.0026, 0.0026, 0.0026,\n",
       "        0.0026, 0.0026, 0.0026, 0.0026, 0.0026, 0.0026, 0.0026, 0.0026, 0.0026,\n",
       "        0.0026, 0.0026, 0.0026, 0.0026, 0.0026, 0.0026, 0.0026, 0.0026, 0.0026,\n",
       "        0.0026], device='cuda:0', grad_fn=<MulBackward0>)"
      ]
     },
     "metadata": {},
     "execution_count": 121
    }
   ],
   "source": [
    "10*trg_att.flatten()"
   ]
  },
  {
   "cell_type": "code",
   "execution_count": 119,
   "metadata": {},
   "outputs": [
    {
     "output_type": "execute_result",
     "data": {
      "text/plain": [
       "tensor([0.2625, 0.0354, 0.0188, 0.0044, 0.0074, 0.0380, 0.0312, 0.2048, 0.0700,\n",
       "        0.1148, 0.0394, 0.1084, 0.0183, 0.0038, 0.0019, 0.0041, 0.0015, 0.0006,\n",
       "        0.0005, 0.0004, 0.0004, 0.0004, 0.0004, 0.0004, 0.0004, 0.0004, 0.0004,\n",
       "        0.0004, 0.0004, 0.0004, 0.0004, 0.0004, 0.0004, 0.0004, 0.0004, 0.0004,\n",
       "        0.0004, 0.0004, 0.0004, 0.0004, 0.0004, 0.0004, 0.0004, 0.0004, 0.0004,\n",
       "        0.0004, 0.0004, 0.0004, 0.0004, 0.0004, 0.0004, 0.0004, 0.0004, 0.0004,\n",
       "        0.0004, 0.0004, 0.0004, 0.0004, 0.0004, 0.0004, 0.0004, 0.0004, 0.0004,\n",
       "        0.0004, 0.0004, 0.0004, 0.0004, 0.0004, 0.0004, 0.0004, 0.0004, 0.0004,\n",
       "        0.0004, 0.0004, 0.0004, 0.0004, 0.0004, 0.0004, 0.0004, 0.0004, 0.0004,\n",
       "        0.0004, 0.0004, 0.0004, 0.0004, 0.0004, 0.0004, 0.0004, 0.0004, 0.0004,\n",
       "        0.0004, 0.0004, 0.0004, 0.0004, 0.0004, 0.0004, 0.0004, 0.0004, 0.0004,\n",
       "        0.0004], device='cuda:0', grad_fn=<ViewBackward>)"
      ]
     },
     "metadata": {},
     "execution_count": 119
    }
   ],
   "source": [
    "src_att.flatten()"
   ]
  },
  {
   "cell_type": "code",
   "execution_count": null,
   "metadata": {},
   "outputs": [],
   "source": []
  }
 ]
}