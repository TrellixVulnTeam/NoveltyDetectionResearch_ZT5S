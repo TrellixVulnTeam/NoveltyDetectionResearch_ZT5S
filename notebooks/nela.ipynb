{
 "metadata": {
  "language_info": {
   "codemirror_mode": {
    "name": "ipython",
    "version": 3
   },
   "file_extension": ".py",
   "mimetype": "text/x-python",
   "name": "python",
   "nbconvert_exporter": "python",
   "pygments_lexer": "ipython3",
   "version": "3.6.9-final"
  },
  "orig_nbformat": 2,
  "kernelspec": {
   "name": "Python 3.6.9 64-bit",
   "display_name": "Python 3.6.9 64-bit",
   "metadata": {
    "interpreter": {
     "hash": "31f2aee4e71d21fbe5cf8b01ff0e069b9275f58929596ceb00d14d90e3e16cd6"
    }
   }
  }
 },
 "nbformat": 4,
 "nbformat_minor": 2,
 "cells": [
  {
   "cell_type": "code",
   "execution_count": 1,
   "metadata": {},
   "outputs": [],
   "source": [
    "import os,shutil\n",
    "import pickle\n",
    "import pandas as pd \n"
   ]
  },
  {
   "cell_type": "code",
   "execution_count": 1,
   "metadata": {},
   "outputs": [
    {
     "output_type": "error",
     "ename": "NameError",
     "evalue": "name 'os' is not defined",
     "traceback": [
      "\u001b[0;31m---------------------------------------------------------------------------\u001b[0m",
      "\u001b[0;31mNameError\u001b[0m                                 Traceback (most recent call last)",
      "\u001b[0;32m<ipython-input-1-8c9c08e7ffa6>\u001b[0m in \u001b[0;36m<module>\u001b[0;34m()\u001b[0m\n\u001b[0;32m----> 1\u001b[0;31m \u001b[0mos\u001b[0m\u001b[0;34m.\u001b[0m\u001b[0mmakedirs\u001b[0m\u001b[0;34m(\u001b[0m\u001b[0;34m\"./nela/\"\u001b[0m\u001b[0;34m)\u001b[0m\u001b[0;34m\u001b[0m\u001b[0;34m\u001b[0m\u001b[0m\n\u001b[0m\u001b[1;32m      2\u001b[0m \u001b[0mshutil\u001b[0m\u001b[0;34m.\u001b[0m\u001b[0mcopy\u001b[0m\u001b[0;34m(\u001b[0m\u001b[0;34m\"/content/drive/My Drive/Thesis/NELA/df.p\"\u001b[0m\u001b[0;34m,\u001b[0m\u001b[0;34m\"./nela/df.p\"\u001b[0m\u001b[0;34m)\u001b[0m\u001b[0;34m\u001b[0m\u001b[0;34m\u001b[0m\u001b[0m\n",
      "\u001b[0;31mNameError\u001b[0m: name 'os' is not defined"
     ]
    }
   ],
   "source": [
    "# os.makedirs(\"./nela/\")\n",
    "# shutil.copy(\"/content/drive/My Drive/Thesis/NELA/df.p\",\"./nela/df.p\")"
   ]
  },
  {
   "cell_type": "code",
   "execution_count": 3,
   "metadata": {},
   "outputs": [],
   "source": [
    "df = pd.read_pickle(\"./nela/df.p\")"
   ]
  },
  {
   "cell_type": "code",
   "execution_count": 4,
   "metadata": {},
   "outputs": [
    {
     "output_type": "execute_result",
     "data": {
      "text/plain": [
       "                   author  ...                  published\n",
       "0                   admin  ...  2017-06-16 16:34:39+00:00\n",
       "1                   admin  ...  2017-06-16 15:26:33+00:00\n",
       "2                   admin  ...  2017-06-16 15:42:15+00:00\n",
       "3                   admin  ...  2017-06-16 16:51:31+00:00\n",
       "4                   admin  ...  2017-06-16 17:01:51+00:00\n",
       "...                   ...  ...                        ...\n",
       "79994          Jon Street  ...  2017-04-20 21:45:59+00:00\n",
       "79995          Jon Street  ...  2017-04-20 19:26:57+00:00\n",
       "79996       Dave Urbanski  ...  2017-04-20 22:10:03+00:00\n",
       "79997  Tré Goins-Phillips  ...  2017-04-20 17:53:38+00:00\n",
       "79998       Dave Urbanski  ...  2017-04-20 18:11:42+00:00\n",
       "\n",
       "[79999 rows x 6 columns]"
      ],
      "text/html": "<div>\n<style scoped>\n    .dataframe tbody tr th:only-of-type {\n        vertical-align: middle;\n    }\n\n    .dataframe tbody tr th {\n        vertical-align: top;\n    }\n\n    .dataframe thead th {\n        text-align: right;\n    }\n</style>\n<table border=\"1\" class=\"dataframe\">\n  <thead>\n    <tr style=\"text-align: right;\">\n      <th></th>\n      <th>author</th>\n      <th>title</th>\n      <th>content</th>\n      <th>source</th>\n      <th>link</th>\n      <th>published</th>\n    </tr>\n  </thead>\n  <tbody>\n    <tr>\n      <th>0</th>\n      <td>admin</td>\n      <td>Dem Staffers Boo Trump At Congressional Baseba...</td>\n      <td>I was glad to see that the Congressional Baseb...</td>\n      <td>True Pundit</td>\n      <td>http://truepundit.com/dem-staffers-boo-trump-a...</td>\n      <td>2017-06-16 16:34:39+00:00</td>\n    </tr>\n    <tr>\n      <th>1</th>\n      <td>admin</td>\n      <td>This List Of Attacks Against Conservatives Is ...</td>\n      <td>A wave of liberal rage has marked the last 11 ...</td>\n      <td>True Pundit</td>\n      <td>http://truepundit.com/this-list-of-attacks-aga...</td>\n      <td>2017-06-16 15:26:33+00:00</td>\n    </tr>\n    <tr>\n      <th>2</th>\n      <td>admin</td>\n      <td>Media Spreads Fake News About GOP Shooter’s We...</td>\n      <td>Reporting indicates the GOP baseball shooter u...</td>\n      <td>True Pundit</td>\n      <td>http://truepundit.com/media-spreads-fake-news-...</td>\n      <td>2017-06-16 15:42:15+00:00</td>\n    </tr>\n    <tr>\n      <th>3</th>\n      <td>admin</td>\n      <td>Promise Kept: Trump Admin Rescinds DAPA Amnest...</td>\n      <td>The Trump administration has fulfilled another...</td>\n      <td>True Pundit</td>\n      <td>http://truepundit.com/promise-kept-trump-admin...</td>\n      <td>2017-06-16 16:51:31+00:00</td>\n    </tr>\n    <tr>\n      <th>4</th>\n      <td>admin</td>\n      <td>Congressional Baseball Game Ticket Sales Toppe...</td>\n      <td>Ticket sales for Thursday’s annual congression...</td>\n      <td>True Pundit</td>\n      <td>http://truepundit.com/congressional-baseball-g...</td>\n      <td>2017-06-16 17:01:51+00:00</td>\n    </tr>\n    <tr>\n      <th>...</th>\n      <td>...</td>\n      <td>...</td>\n      <td>...</td>\n      <td>...</td>\n      <td>...</td>\n      <td>...</td>\n    </tr>\n    <tr>\n      <th>79994</th>\n      <td>Jon Street</td>\n      <td>Jake Tapper on his relationship with Obama: ‘I...</td>\n      <td>CNN host Jake Tapper, who has called out Donal...</td>\n      <td>TheBlaze</td>\n      <td>http://www.theblaze.com/news/2017/04/20/jake-t...</td>\n      <td>2017-04-20 21:45:59+00:00</td>\n    </tr>\n    <tr>\n      <th>79995</th>\n      <td>Jon Street</td>\n      <td>College professor: Black people are ‘screwed’ ...</td>\n      <td>A college professor in Pennsylvania says black...</td>\n      <td>TheBlaze</td>\n      <td>http://www.theblaze.com/news/2017/04/20/colleg...</td>\n      <td>2017-04-20 19:26:57+00:00</td>\n    </tr>\n    <tr>\n      <th>79996</th>\n      <td>Dave Urbanski</td>\n      <td>Dad rewards hard-working son, 9, with Chicago ...</td>\n      <td>Kolt Kyler, 9, has been plenty busy lately.\\n\\...</td>\n      <td>TheBlaze</td>\n      <td>http://www.theblaze.com/news/2017/04/20/dad-re...</td>\n      <td>2017-04-20 22:10:03+00:00</td>\n    </tr>\n    <tr>\n      <th>79997</th>\n      <td>Tré Goins-Phillips</td>\n      <td>Rep. Jason Chaffetz: ‘I might depart early’ fr...</td>\n      <td>Rep. Jason Chaffetz (R-Utah), who announced th...</td>\n      <td>TheBlaze</td>\n      <td>http://www.theblaze.com/news/2017/04/20/rep-ja...</td>\n      <td>2017-04-20 17:53:38+00:00</td>\n    </tr>\n    <tr>\n      <th>79998</th>\n      <td>Dave Urbanski</td>\n      <td>Ann Coulter vows to speak at Berkeley — despit...</td>\n      <td>Outspoken conservative commentator and author ...</td>\n      <td>TheBlaze</td>\n      <td>http://www.theblaze.com/news/2017/04/20/ann-co...</td>\n      <td>2017-04-20 18:11:42+00:00</td>\n    </tr>\n  </tbody>\n</table>\n<p>79999 rows × 6 columns</p>\n</div>"
     },
     "metadata": {},
     "execution_count": 4
    }
   ],
   "source": [
    "df"
   ]
  },
  {
   "cell_type": "code",
   "execution_count": 3,
   "metadata": {},
   "outputs": [],
   "source": [
    "from novelty_serve import *\n",
    "# download_from_drive()"
   ]
  },
  {
   "cell_type": "code",
   "execution_count": 4,
   "metadata": {},
   "outputs": [],
   "source": [
    "model = load_novelty_cnn(encoder_type='attention')"
   ]
  },
  {
   "cell_type": "code",
   "execution_count": 5,
   "metadata": {},
   "outputs": [],
   "source": [
    "model[\"model\"] = model[\"model\"].cuda()"
   ]
  },
  {
   "cell_type": "code",
   "execution_count": 53,
   "metadata": {},
   "outputs": [
    {
     "output_type": "display_data",
     "data": {
      "text/plain": "HBox(children=(FloatProgress(value=0.0, max=313.0), HTML(value='')))",
      "application/vnd.jupyter.widget-view+json": {
       "version_major": 2,
       "version_minor": 0,
       "model_id": "fcf7914a6b4f451fa5ee6588fb71bede"
      }
     },
     "metadata": {}
    },
    {
     "output_type": "stream",
     "name": "stdout",
     "text": [
      "\n"
     ]
    }
   ],
   "source": [
    "source = list(df[\"content\"].values[4:10000])\n",
    "\n",
    "target= [df[\"content\"].values[3]]*(len(source))\n",
    "sim = predict_novelty(source,target,model)"
   ]
  },
  {
   "cell_type": "code",
   "execution_count": 54,
   "metadata": {},
   "outputs": [
    {
     "output_type": "stream",
     "name": "stdout",
     "text": [
      "3239 [0.8099581003189087, 0.19004195928573608]\n7684 [0.8416139483451843, 0.15838603675365448]\n"
     ]
    }
   ],
   "source": [
    "for i,e in enumerate(sim):\n",
    "    if e[0] > 0.8:\n",
    "        print(i,e)\n",
    "    "
   ]
  },
  {
   "cell_type": "code",
   "execution_count": 38,
   "metadata": {},
   "outputs": [],
   "source": [
    "sim = np.array(sim)"
   ]
  },
  {
   "cell_type": "code",
   "execution_count": 43,
   "metadata": {},
   "outputs": [
    {
     "output_type": "execute_result",
     "data": {
      "text/plain": [
       "879"
      ]
     },
     "metadata": {},
     "execution_count": 43
    }
   ],
   "source": [
    "np.argmax(sim[:,0])"
   ]
  },
  {
   "cell_type": "code",
   "execution_count": 52,
   "metadata": {},
   "outputs": [],
   "source": [
    "ids = []\n",
    "for i,e in enumerate(df[\"content\"].values):\n",
    "    if \"robert mueller\" in e.lower():\n",
    "        ids.append(i)"
   ]
  },
  {
   "cell_type": "code",
   "execution_count": 55,
   "metadata": {},
   "outputs": [
    {
     "output_type": "execute_result",
     "data": {
      "text/plain": [
       "1480"
      ]
     },
     "metadata": {},
     "execution_count": 55
    }
   ],
   "source": [
    "len(ids)"
   ]
  },
  {
   "cell_type": "code",
   "execution_count": null,
   "metadata": {},
   "outputs": [],
   "source": [
    "data = df.iloc[ids][\"content\"].values\n",
    "sim_s = []\n",
    "for i in range(len(data)-1):\n",
    "    source = list(data[i+1:])\n",
    "    target= [data[i]]*(len(source))\n",
    "    sim = predict_novelty(source,target,model)\n",
    "    sim_s.append(sim)"
   ]
  },
  {
   "cell_type": "code",
   "execution_count": 62,
   "metadata": {},
   "outputs": [
    {
     "output_type": "execute_result",
     "data": {
      "text/plain": [
       "267"
      ]
     },
     "metadata": {},
     "execution_count": 62
    }
   ],
   "source": [
    "np.argmax(np.array(sim_s[0])[:,0])"
   ]
  },
  {
   "cell_type": "code",
   "execution_count": 65,
   "metadata": {},
   "outputs": [
    {
     "output_type": "execute_result",
     "data": {
      "text/plain": [
       "0.7203189134597778"
      ]
     },
     "metadata": {},
     "execution_count": 65
    }
   ],
   "source": [
    "np.array(sim_s[0])[:,0][267]"
   ]
  },
  {
   "cell_type": "code",
   "execution_count": 64,
   "metadata": {},
   "outputs": [
    {
     "output_type": "stream",
     "name": "stdout",
     "text": [
      "Special counsel Robert Mueller  has reportedly opened an obstruction of justice probe into President Donald Trump, but legal experts say Mueller has an uphill battle to prove such a case against the White House.\n\nFormer FBI Director James Comey, who was fired by Trump last month, kept detailed memos of his interactions with the president and one memo describe an occurrence when Trump spoke to Comey about the investigation into former national security advisor Mike Flynn.\n\nTrump, according to Comey’s memo, The New York Times reported, said to Comey:  “I hope you can see your way clear to letting this go, to letting Flynn go,” Trump added, “He is a good guy. I hope you can let this go.”  Trump told Comey that Flynn had done nothing wrong, the memo said.  Comey did not reply to Trump about winding down the probe, saying just, “I agree he is a good guy.”\n\nKen Starr, former independent counsel who investigated President Bill Clinton’s scandals in the 1990s told CNN Thursday how difficult it would be prove Trump or his team attempted to impede the Russia probe.\n\n“It’s too soon to tell,” Starr said. “From what I have seen, and of course we don’t know a whole lot, the answer is no… Obstruction of justice is really a very hard crime to make out,” he said. “It’s not just, you want the investigation to go away, you suggest that the investigation goes away. You’ve got to take really affirmative action.”\n\nStarr also pointed to the kind of language Trump used that Comey described in his memos actually helps Trump in his case.\n\n“His literal language was, ‘hope,’” Starr said. “And I think that that redounds to the benefit of the president.” “He’s saying, ‘Golly, I sure wish this would go away, it’s in the way of my agenda. I need to run the country, and this is a terrible distraction, I hope you can see your way clear,’” Starr added. “That to me, just the language, is far removed from a directive.”\n\nHowever, Harvard law professor Alan Dershowitz explained to CNN last week that even if Trump commanded Comey to drop the Flynn probe, Trump would have had the right to do that.\n\n“The President could have told Comey you are commanded, directed to drop the prosecution against Flynn,” Dershowitz said. “The President has the right to do that. Comey acknowledges that. He says in the statement that historically, historically presidents have done that to the Justice Department. But in the last few years we’ve had a tradition of separation, but that tradition doesn’t create crime. Remember also what the President could have done. He could have said to Comey, stop this investigation, I am now pardoning Flynn. That’s what President Bush did in the beginning of the investigation of Caspar Weinberger.”\n\nDershowitz added, “Nobody talked about obstruction of justice. You cannot have obstruction of justice when the president exercises his constitutional authority to pardon, his constitutional authority to fire the director of the FBI, or his constitutional authority to tell the director of the FBI who to prosecute, who not to prosecute. So let’s get out of the weeds and let’s look at the big constitutional question.”\n\nLast month, Florida International University law professor Elizabeth Price argued in a New York Times op-ed that Trump’s statements did not constitute an obstruction of justice.\n\n“Such generic ‘he’s-a-good-guy-can’t-you-drop-the-charges?’ statements are routinely made to investigators and prosecutors. Defending one’s self, client or friend is a natural instinct, and beseeching leniency is not tantamount to obstruction. Holding otherwise would endorse a breathtaking expansion of obstruction, and be utterly inconsistent with First Amendment freedoms,” Price writes.\n\nOther legal analysts told NBC News that while they do not think Trump could be legally prosecuted for obstruction of justice, the standard in Congress is different than in a court of law.\n\n“Would he be convicted? I don’t know, but that’s not the right question to be asking. He’s not going to get prosecuted,” Jens David Ohlin, a professor and dean at Cornell Law School, said. “The more relevant question is, is this the type of obstruction of justice which is so corrupt that the House should take the extraordinary measure of impeaching the president, and for the Senate to convict him and remove him from power?”\n\n“Maybe they’re obstruction, maybe they’re not technically illegal, maybe they’re just completely inappropriate,” Joyce Vance, an Obama-appointed U.S. Attorney for the Northern District of Alabama said.\n\nContent created by The Daily Caller News Foundation is available without charge to any eligible news publisher that can provide a large audience. For licensing opportunities of our original content, please contact [email protected].\n"
     ]
    }
   ],
   "source": [
    "print(data[267+1])"
   ]
  },
  {
   "cell_type": "code",
   "execution_count": 66,
   "metadata": {},
   "outputs": [
    {
     "output_type": "stream",
     "name": "stdout",
     "text": [
      "Ken Starr, the former independent counsel charged with investigating President Bill Clinton, told CNN’s New Day Thursday that there is not enough evidence to bring an obstruction of justice case against President Donald Trump.\n\n“It’s too soon to tell. From what I’ve seen — and of course we don’t know a whole lot — the answer is no,” Starr said, when asked if one could bring reasonably bring a case against the embattled president.\n\nStarr’s comments come one day after the Washington Post reported that Robert Mueller, special counsel in the Russia inquiry, is investigating the president for obstruction.\n\nObstruction issues emerged during a Feb. 14 meeting in the Oval Office, when the president told former FBI Director James Comey that he hoped his disgraced former National Security Advisor Michael Flynn would elude criminal prosecution.\n\n“I hope you can see your way clear to letting this go, to letting Flynn go,” the president told Comey, according to testimony the former director gave before the Senate Select Committee on Intelligence June 8. The president cleared the room of senior administration officials, including Attorney General Jeff Sessions and senior advisor Jared Kushner.\n\nThough Starr says the president’s words are open to interpretation — and do not evince the “corrupt mindset” necessary for an obstruction charge — other individuals have been convicted of obstruction on the basis of expressing “hope.”\n\nContent created by The Daily Caller News Foundation is available without charge to any eligible news publisher that can provide a large audience. For licensing opportunities of our original content, please contact [email protected].\n"
     ]
    }
   ],
   "source": [
    "print(data[0])"
   ]
  },
  {
   "source": [
    "NEWS DATASET"
   ],
   "cell_type": "markdown",
   "metadata": {}
  },
  {
   "cell_type": "code",
   "execution_count": null,
   "metadata": {},
   "outputs": [],
   "source": []
  },
  {
   "cell_type": "code",
   "execution_count": null,
   "metadata": {},
   "outputs": [],
   "source": []
  },
  {
   "cell_type": "code",
   "execution_count": null,
   "metadata": {},
   "outputs": [],
   "source": []
  },
  {
   "cell_type": "code",
   "execution_count": 62,
   "metadata": {},
   "outputs": [],
   "source": [
    "shutil.unpack_archive(\"./nela/news.zip\",\"./nela/\")"
   ]
  },
  {
   "cell_type": "code",
   "execution_count": 8,
   "metadata": {},
   "outputs": [],
   "source": [
    "news = pd.read_json('/content/DeepDocumentNovelty/nela/News_Category_Dataset_v2.json',lines=True)"
   ]
  },
  {
   "cell_type": "code",
   "execution_count": 9,
   "metadata": {},
   "outputs": [
    {
     "output_type": "execute_result",
     "data": {
      "text/plain": [
       "             category  ...       date\n",
       "0               CRIME  ... 2018-05-26\n",
       "1       ENTERTAINMENT  ... 2018-05-26\n",
       "2       ENTERTAINMENT  ... 2018-05-26\n",
       "3       ENTERTAINMENT  ... 2018-05-26\n",
       "4       ENTERTAINMENT  ... 2018-05-26\n",
       "...               ...  ...        ...\n",
       "200848           TECH  ... 2012-01-28\n",
       "200849         SPORTS  ... 2012-01-28\n",
       "200850         SPORTS  ... 2012-01-28\n",
       "200851         SPORTS  ... 2012-01-28\n",
       "200852         SPORTS  ... 2012-01-28\n",
       "\n",
       "[200853 rows x 6 columns]"
      ],
      "text/html": "<div>\n<style scoped>\n    .dataframe tbody tr th:only-of-type {\n        vertical-align: middle;\n    }\n\n    .dataframe tbody tr th {\n        vertical-align: top;\n    }\n\n    .dataframe thead th {\n        text-align: right;\n    }\n</style>\n<table border=\"1\" class=\"dataframe\">\n  <thead>\n    <tr style=\"text-align: right;\">\n      <th></th>\n      <th>category</th>\n      <th>headline</th>\n      <th>authors</th>\n      <th>link</th>\n      <th>short_description</th>\n      <th>date</th>\n    </tr>\n  </thead>\n  <tbody>\n    <tr>\n      <th>0</th>\n      <td>CRIME</td>\n      <td>There Were 2 Mass Shootings In Texas Last Week...</td>\n      <td>Melissa Jeltsen</td>\n      <td>https://www.huffingtonpost.com/entry/texas-ama...</td>\n      <td>She left her husband. He killed their children...</td>\n      <td>2018-05-26</td>\n    </tr>\n    <tr>\n      <th>1</th>\n      <td>ENTERTAINMENT</td>\n      <td>Will Smith Joins Diplo And Nicky Jam For The 2...</td>\n      <td>Andy McDonald</td>\n      <td>https://www.huffingtonpost.com/entry/will-smit...</td>\n      <td>Of course it has a song.</td>\n      <td>2018-05-26</td>\n    </tr>\n    <tr>\n      <th>2</th>\n      <td>ENTERTAINMENT</td>\n      <td>Hugh Grant Marries For The First Time At Age 57</td>\n      <td>Ron Dicker</td>\n      <td>https://www.huffingtonpost.com/entry/hugh-gran...</td>\n      <td>The actor and his longtime girlfriend Anna Ebe...</td>\n      <td>2018-05-26</td>\n    </tr>\n    <tr>\n      <th>3</th>\n      <td>ENTERTAINMENT</td>\n      <td>Jim Carrey Blasts 'Castrato' Adam Schiff And D...</td>\n      <td>Ron Dicker</td>\n      <td>https://www.huffingtonpost.com/entry/jim-carre...</td>\n      <td>The actor gives Dems an ass-kicking for not fi...</td>\n      <td>2018-05-26</td>\n    </tr>\n    <tr>\n      <th>4</th>\n      <td>ENTERTAINMENT</td>\n      <td>Julianna Margulies Uses Donald Trump Poop Bags...</td>\n      <td>Ron Dicker</td>\n      <td>https://www.huffingtonpost.com/entry/julianna-...</td>\n      <td>The \"Dietland\" actress said using the bags is ...</td>\n      <td>2018-05-26</td>\n    </tr>\n    <tr>\n      <th>...</th>\n      <td>...</td>\n      <td>...</td>\n      <td>...</td>\n      <td>...</td>\n      <td>...</td>\n      <td>...</td>\n    </tr>\n    <tr>\n      <th>200848</th>\n      <td>TECH</td>\n      <td>RIM CEO Thorsten Heins' 'Significant' Plans Fo...</td>\n      <td>Reuters, Reuters</td>\n      <td>https://www.huffingtonpost.com/entry/rim-ceo-t...</td>\n      <td>Verizon Wireless and AT&amp;T are already promotin...</td>\n      <td>2012-01-28</td>\n    </tr>\n    <tr>\n      <th>200849</th>\n      <td>SPORTS</td>\n      <td>Maria Sharapova Stunned By Victoria Azarenka I...</td>\n      <td></td>\n      <td>https://www.huffingtonpost.com/entry/maria-sha...</td>\n      <td>Afterward, Azarenka, more effusive with the pr...</td>\n      <td>2012-01-28</td>\n    </tr>\n    <tr>\n      <th>200850</th>\n      <td>SPORTS</td>\n      <td>Giants Over Patriots, Jets Over Colts Among  M...</td>\n      <td></td>\n      <td>https://www.huffingtonpost.com/entry/super-bow...</td>\n      <td>Leading up to Super Bowl XLVI, the most talked...</td>\n      <td>2012-01-28</td>\n    </tr>\n    <tr>\n      <th>200851</th>\n      <td>SPORTS</td>\n      <td>Aldon Smith Arrested: 49ers Linebacker Busted ...</td>\n      <td></td>\n      <td>https://www.huffingtonpost.com/entry/aldon-smi...</td>\n      <td>CORRECTION: An earlier version of this story i...</td>\n      <td>2012-01-28</td>\n    </tr>\n    <tr>\n      <th>200852</th>\n      <td>SPORTS</td>\n      <td>Dwight Howard Rips Teammates After Magic Loss ...</td>\n      <td></td>\n      <td>https://www.huffingtonpost.com/entry/dwight-ho...</td>\n      <td>The five-time all-star center tore into his te...</td>\n      <td>2012-01-28</td>\n    </tr>\n  </tbody>\n</table>\n<p>200853 rows × 6 columns</p>\n</div>"
     },
     "metadata": {},
     "execution_count": 9
    }
   ],
   "source": [
    "news"
   ]
  },
  {
   "cell_type": "code",
   "execution_count": 10,
   "metadata": {},
   "outputs": [
    {
     "output_type": "stream",
     "name": "stdout",
     "text": [
      "1293 7 Places Prince Harry And Meghan Markle Might Honeymoon\n2782 'In The Club' Meme Is The Internet's Early Wedding Gift To Prince Harry\n3741 The Trailer For Prince Harry and Meghan Markle's Lifetime Movie Is Something Else\n4081 Prince Harry's Raised Eyebrows At Meghan Markle Cause A Stir\n4915 Mel B Suggests The Spice Girls Will Perform At Prince Harry And Meghan Markle's Wedding\n6844 Elton John Reveals The Moment Prince Harry Confessed: 'I'm In Love'\n7622 Lifetime To Air Prince Harry And Meghan Markle TV Movie\n8048 Prince Harry Reacts Hilariously To DJ Who Slips Him Business Card\n8053 Prince Harry And Meghan Markle Make First Public Appearance Of 2018\n8729 Meghan Markle's Half-Sister Responds To Prince Harry's Comments On Family\n8733 Prince Harry Opens Up About His 'Fantastic' Christmas With Meghan Markle\n8972 Jordan Peele Tweets 'Get Out' Joke About Meghan Markle And Prince Harry\n9367 We Can't Wait To Hear This Interview Between Prince Harry And Obama\n9484 Prince Harry And Meghan Markle's Wedding Date Is Already Creating Problems\n9497 Prince Harry And Meghan Markle Announce Their Wedding Date\n9512 Prince Harry And Meghan Markle Serious About Having Religious Wedding, Church Leader Says\n10542 Prince Harry, Meghan Markle Meet Their Adoring Fans For The First Time Since Their Engagement\n10762 Prince Harry, Meghan Markle's First Official Post-Engagement Event Will Be Nod To Diana\n10956 Monday's Morning Email: Everything You Need To Know About Prince Harry And Meghan Markle's Engagement\n10982 Prince Harry And Meghan Markle Are Engaged\n10984 Prince Harry And Meghan Markle's First Photos As An Engaged Couple Are Here\n10986 Barack Obama Congratulates Prince Harry And Meghan Markle On Engagement\n15251 Prince Harry Hanging With Obama And Biden At Invictus Games Will Warm Your Heart\n15811 Prince Harry Meets With Wounded Veterans Ahead Of The Invictus Games\n23090 Prince Harry Admits He 'Wanted Out' Of The Royal Family\n24865 Prince Harry Joins Prayers For London During Ramadan Dinner\n29112 Prince Harry Reveals How Counseling Helped Him Cope With Diana's Death\n39411 Prince Harry Gets Heartbreakingly Honest About Dealing With Grief\n41064 Watch Prince Harry And Rihanna Get Tested For HIV Together\n46282 Prince Harry Offers A Perfect Take On Vets Experiencing PTSD\n53436 Prince Harry Got Tested For HIV Live On Facebook\n63261 Prince Harry Pushes End To Child Marriage In Nepal\n63456 Prince Harry Visits Nepal Earthquake Victims Who Are Still Living In Tents\n65064 That One Time Margot Robbie Mistook Prince Harry For Ed Sheeran At A Party\n67697 Prince Harry Helps Woman In Wheelchair Who Fell, Proves Again He's Pretty Darn Perfect\n76290 Prince Harry Visits Virginia Military Base With Michelle Obama, Jill Biden\n119176 Prince Harry Opens Up About Losing Princess Diana While Visiting Orphans In Brazil\n133391 Prince Harry Scores A New Job, Says Goodbye To His Pilot Uniform\n134456 The Queen Doesn't Like Prince Harry's Beard -- Go Figure\n135409 Prince Harry Is Keeping His Beard Because William Got To Keep His (PHOTOS)\n137494 Prince Harry's Elizabeth Arden Face Cream Is A Necessity During His South Pole Trek\n138344 Prince Harry's Beard Comes Out In Full Force On South Pole Trip (PHOTOS)\n143058 Cressida Bonas To Marry Prince Harry, Friends Tell The Press\n143106 Prince Harry's Australia Tour Acquaints The Royal With Prime Minister's Daughters (PHOTOS)\n143265 Is Prince Harry Eyeing Tony Abbott's Daughters? Aussies Gleeful At The Prospect\n144654 Celia Mccorquodale, Prince Harry Attend Family Wedding Together (PHOTOS)\n145086 Prince Harry's Birthday: Watch His Most Adorable Moments To Celebrate (VIDEO)\n145159 Prince William, Prince Harry and Pippa Middleton Attend Wedding Without The Duchess (PHOTOS)\n146301 Cressida Bonas' Tatler Cover Makes Her Relationship With Prince Harry Official (PHOTO)\n149979 Prince Harry, Uncle, Wants To Make Sure Prince George Has 'Fun'\n151834 Prince Harry's Funniest Faces: The Royal With Many Emotions (PHOTOS)\n152205 Canada Day Calls For Prince William & Prince Harry In Canadian Tuxedos (PHOTOS)\n152224 Cressida Bonas' Glastonbury Stint Features Overalls, Possibly Prince Harry (PHOTOS)\n153000 Prince Harry Wedding Weekend Includes Cressida Bonas... And Chelsy Davy (PHOTOS)\n154218 Prince Harry's Helicopter Stunts Wows At RAF Air Show (VIDEO)\n154334 Prince Harry Saved Gay Soldier From Homophobic Attack In 2008\n154588 Prince Harry Flirts With Ladies Everywhere (PHOTOS)\n156673 Prince Harry, Ladies' Man, Drives Girls Wild On US Tour (PHOTOS)\n156889 Prince Harry's Cheerleaders Put On A Show (PHOTOS)\n157007 Prince Harry's Colorado Trip: Missy Franklin's Best Birthday Gift Ever? (PHOTOS)\n157185 Prince Harry, Michelle Obama Meet In The White House! (PHOTOS)\n157227 Prince Harry's Capitol Hill Visit Brings Out The Ladies (PHOTOS, VINE)\n158282 Why Prince Harry Was The Best Groomsman Ever At The Royal Wedding (PHOTOS, GIFS)\n160622 Prince Harry's New Secretary Is A Public Relations Expert, Thankfully\n162267 Prince Harry Spotted On 'Date' With Cressida Bonas (PHOTOS)\n163568 Pregnant Kate Middleton Enjoys Swiss Alps With Prince William, Prince Harry (PHOTOS)\n164697 Cressida Bonas, Prince Harry Spotted Skiing In Switzerland (PHOTOS)\n166765 Cara Delevingne Talks Prince Harry & Harry Styles: 'Both Harrys, Just Rumours'\n167628 Prince Harry Magazine Cover, Michelle Obama Nail Art And More Instagrams Of The Week (PHOTOS)\n170512 Royal News 2012: Kate Middleton Pregnant, Prince Harry Naked & More Of The Year's Highlights (PHOTOS)\n177413 Prince Harry Makes His Tatler Debut As 'Man Of The Year' (PHOTO)\n179160 A Brief Meeting With Prince Harry In The Bahamas\n179425 Prince Harry Has A Classic Sense Of Style... When He Wears Clothes (PHOTOS)\n179567 Prince Harry Has A Classic Sense Of Style... When He's Not In His Birthday Suit\n181467 Prince Harry To Pose For Playgirl? Mags Would Offer Him $1 Million\n181589 Prince Harry Nude Photos Boosting Las Vegas Tourism\n181645 Prince Harry To Face Military Reprimand Over Nude Pics Scandal (REPORT)\n184681 Prince Harry, Cressida Bonas Spotted 'Cozying Up' At 'Dark Knight Rises' Premiere\n190494 Baby Prince Harry's 1984 Christening Video Features Rowdy Toddler Prince William (VINTAGE VIDEO)\n190965 Prince Harry & Prince William Polo Match Includes A Cute Baby (PHOTOS)\n196833 Prince Harry Royal Tour Wraps Up With Polo Match, Goofy Mask (PHOTOS)\n197419 Prince Harry Royal Tour: Drinking, Dancing & Some Adorable Desert Boots (PHOTOS)\n197429 Prince Harry Royal Tour: Drinking, Dancing & Some Adorable Desert Boots (PHOTOS)\n"
     ]
    }
   ],
   "source": [
    "ids = []\n",
    "for i,e in enumerate(news[\"headline\"].values):\n",
    "    if \"prince harry\" in e.lower():\n",
    "        print(i,e)\n",
    "        ids.append(i)"
   ]
  },
  {
   "cell_type": "code",
   "execution_count": 11,
   "metadata": {},
   "outputs": [],
   "source": [
    "cluster = news.iloc[ids]"
   ]
  },
  {
   "cell_type": "code",
   "execution_count": 12,
   "metadata": {},
   "outputs": [],
   "source": [
    "data = cluster[\"short_description\"].values\n"
   ]
  },
  {
   "cell_type": "code",
   "execution_count": null,
   "metadata": {},
   "outputs": [],
   "source": [
    "sim_s = []\n",
    "for i in range(len(data)-1):\n",
    "    source = list(data[i+1:])\n",
    "    target= [data[i]]*(len(source))\n",
    "    sim = predict_novelty(source,target,model)\n",
    "    sim_s.append(sim)"
   ]
  },
  {
   "cell_type": "code",
   "execution_count": 35,
   "metadata": {},
   "outputs": [],
   "source": [
    "similarity = np.eye(len(data))\n",
    "for i in range(len(sim_s)):\n",
    "    sim = np.array(sim_s[i])[:,0]\n",
    "    similarity[i,i+1:] = sim"
   ]
  },
  {
   "cell_type": "code",
   "execution_count": 36,
   "metadata": {},
   "outputs": [
    {
     "output_type": "execute_result",
     "data": {
      "text/plain": [
       "array([[1.        , 0.51477998, 0.46293163, ..., 0.46257392, 0.23060246,\n",
       "        0.32572186],\n",
       "       [0.        , 1.        , 0.63187039, ..., 0.54370576, 0.50112444,\n",
       "        0.24022587],\n",
       "       [0.        , 0.        , 1.        , ..., 0.5695067 , 0.28199983,\n",
       "        0.28025445],\n",
       "       ...,\n",
       "       [0.        , 0.        , 0.        , ..., 1.        , 0.23232707,\n",
       "        0.18682548],\n",
       "       [0.        , 0.        , 0.        , ..., 0.        , 1.        ,\n",
       "        0.20562604],\n",
       "       [0.        , 0.        , 0.        , ..., 0.        , 0.        ,\n",
       "        1.        ]])"
      ]
     },
     "metadata": {},
     "execution_count": 36
    }
   ],
   "source": [
    "similarity"
   ]
  },
  {
   "cell_type": "code",
   "execution_count": 26,
   "metadata": {},
   "outputs": [],
   "source": [
    "similarity = np.eye(len(data))"
   ]
  },
  {
   "cell_type": "code",
   "execution_count": 33,
   "metadata": {},
   "outputs": [],
   "source": [
    "similarity[0,1:] = np.array(sim_s[0])[:,0]"
   ]
  },
  {
   "cell_type": "code",
   "execution_count": 38,
   "metadata": {},
   "outputs": [],
   "source": [
    "i_lower = np.tril_indices(len(data), -1)\n",
    "similarity[i_lower] = similarity.T[i_lower]"
   ]
  },
  {
   "cell_type": "code",
   "execution_count": 42,
   "metadata": {},
   "outputs": [],
   "source": [
    "np.fill_diagonal(similarity, 0)"
   ]
  },
  {
   "cell_type": "code",
   "execution_count": 43,
   "metadata": {},
   "outputs": [
    {
     "output_type": "execute_result",
     "data": {
      "text/plain": [
       "18"
      ]
     },
     "metadata": {},
     "execution_count": 43
    }
   ],
   "source": [
    "np.argmax(similarity[0,:])"
   ]
  },
  {
   "cell_type": "code",
   "execution_count": 44,
   "metadata": {},
   "outputs": [
    {
     "output_type": "execute_result",
     "data": {
      "text/plain": [
       "array([0.        , 0.51477998, 0.46293163, 0.37470949, 0.4870497 ,\n",
       "       0.51192814, 0.52764386, 0.47011024, 0.37877548, 0.48684135,\n",
       "       0.24036711, 0.32693115, 0.42889407, 0.52731138, 0.35823965,\n",
       "       0.46025407, 0.28916332, 0.48644668, 0.5293023 , 0.43924162,\n",
       "       0.52207881, 0.50121546, 0.48841   , 0.50581294, 0.37411186,\n",
       "       0.44281769, 0.51384264, 0.37365457, 0.51467466, 0.24951324,\n",
       "       0.50119394, 0.47158977, 0.26494211, 0.52003163, 0.35322505,\n",
       "       0.48589894, 0.48589894, 0.43985903, 0.33082044, 0.39343438,\n",
       "       0.36294338, 0.51022458, 0.23303172, 0.39343438, 0.41127497,\n",
       "       0.44365981, 0.3505173 , 0.34389845, 0.45115453, 0.31627485,\n",
       "       0.46340394, 0.50012851, 0.34822696, 0.49794641, 0.45041642,\n",
       "       0.35475761, 0.49909604, 0.17413789, 0.3121464 , 0.43427947,\n",
       "       0.39343438, 0.307612  , 0.44720164, 0.51978731, 0.39343438,\n",
       "       0.51558781, 0.41938362, 0.39343438, 0.31915769, 0.36069316,\n",
       "       0.47722813, 0.37194356, 0.43245268, 0.42991376, 0.48017463,\n",
       "       0.43039149, 0.47928247, 0.2771194 , 0.46458763, 0.31648129,\n",
       "       0.46257392, 0.23060246, 0.32572186])"
      ]
     },
     "metadata": {},
     "execution_count": 44
    }
   ],
   "source": [
    "similarity[0,:]"
   ]
  },
  {
   "cell_type": "code",
   "execution_count": 49,
   "metadata": {},
   "outputs": [],
   "source": [
    "cluster = cluster.reset_index(drop = True)"
   ]
  },
  {
   "cell_type": "code",
   "execution_count": 51,
   "metadata": {},
   "outputs": [
    {
     "output_type": "execute_result",
     "data": {
      "text/plain": [
       "'Let the countdown until the royal wedding begin.'"
      ],
      "application/vnd.google.colaboratory.intrinsic+json": {
       "type": "string"
      }
     },
     "metadata": {},
     "execution_count": 51
    }
   ],
   "source": [
    "cluster.iloc[18][\"short_description\"]"
   ]
  },
  {
   "cell_type": "code",
   "execution_count": null,
   "metadata": {},
   "outputs": [],
   "source": []
  },
  {
   "cell_type": "code",
   "execution_count": null,
   "metadata": {},
   "outputs": [],
   "source": []
  },
  {
   "cell_type": "code",
   "execution_count": null,
   "metadata": {},
   "outputs": [],
   "source": []
  },
  {
   "source": [
    "DLND"
   ],
   "cell_type": "markdown",
   "metadata": {}
  },
  {
   "cell_type": "code",
   "execution_count": 6,
   "metadata": {},
   "outputs": [],
   "source": [
    "from dataloaders import *"
   ]
  },
  {
   "cell_type": "code",
   "execution_count": 7,
   "metadata": {},
   "outputs": [],
   "source": [
    "data = DLNDDataset()"
   ]
  },
  {
   "cell_type": "code",
   "execution_count": 8,
   "metadata": {},
   "outputs": [
    {
     "output_type": "display_data",
     "data": {
      "text/plain": "HBox(children=(FloatProgress(value=0.0, max=168.0), HTML(value='')))",
      "application/vnd.jupyter.widget-view+json": {
       "version_major": 2,
       "version_minor": 0,
       "model_id": "1fd7044cd61f4249a9dbc804201974d5"
      }
     },
     "metadata": {}
    },
    {
     "output_type": "stream",
     "name": "stdout",
     "text": [
      "\n"
     ]
    }
   ],
   "source": [
    "pred = predict_novelty(data.org,data.par,model)"
   ]
  },
  {
   "cell_type": "code",
   "execution_count": 71,
   "metadata": {},
   "outputs": [],
   "source": [
    "y_pred = np.array(pred)[:,0] < 0.5"
   ]
  },
  {
   "cell_type": "code",
   "execution_count": 72,
   "metadata": {},
   "outputs": [],
   "source": [
    "y_true = np.array(data.label) == \"Novel\""
   ]
  },
  {
   "cell_type": "code",
   "execution_count": 73,
   "metadata": {},
   "outputs": [
    {
     "output_type": "execute_result",
     "data": {
      "text/plain": [
       "3847"
      ]
     },
     "metadata": {},
     "execution_count": 73
    }
   ],
   "source": [
    "sum(y_pred ==y_true)"
   ]
  },
  {
   "cell_type": "code",
   "execution_count": 74,
   "metadata": {},
   "outputs": [
    {
     "output_type": "execute_result",
     "data": {
      "text/plain": [
       "(5352,)"
      ]
     },
     "metadata": {},
     "execution_count": 74
    }
   ],
   "source": [
    "y_pred.shape"
   ]
  },
  {
   "cell_type": "code",
   "execution_count": 75,
   "metadata": {},
   "outputs": [
    {
     "output_type": "execute_result",
     "data": {
      "text/plain": [
       "0.7853139013452914"
      ]
     },
     "metadata": {},
     "execution_count": 75
    }
   ],
   "source": [
    "4203/5352"
   ]
  },
  {
   "cell_type": "code",
   "execution_count": 78,
   "metadata": {},
   "outputs": [],
   "source": [
    "df = pd.DataFrame()"
   ]
  },
  {
   "cell_type": "code",
   "execution_count": 79,
   "metadata": {},
   "outputs": [],
   "source": [
    "df[\"Label\"] = data.label\n",
    "df[\"Source\"] = data.org\n",
    "df[\"Target\"] = data.par\n",
    "df[\"Novelty percentage\"] = np.array(pred)[:,1]\n",
    "df[\"prediction\"] = np.array(pred)[:,0] < 0.5"
   ]
  },
  {
   "cell_type": "code",
   "execution_count": 65,
   "metadata": {},
   "outputs": [],
   "source": [
    "df.to_excel(\"dlnd_eval.xlsx\")"
   ]
  },
  {
   "cell_type": "code",
   "execution_count": 80,
   "metadata": {},
   "outputs": [],
   "source": [
    "df[\"true\"] =(df[\"Label\"]==\"Novel\")"
   ]
  },
  {
   "cell_type": "code",
   "execution_count": 81,
   "metadata": {},
   "outputs": [
    {
     "output_type": "execute_result",
     "data": {
      "text/plain": [
       "          Label  ...   true\n",
       "3         Novel  ...   True\n",
       "11    Non-Novel  ...  False\n",
       "13    Non-Novel  ...  False\n",
       "14    Non-Novel  ...  False\n",
       "15    Non-Novel  ...  False\n",
       "...         ...  ...    ...\n",
       "5328  Non-Novel  ...  False\n",
       "5331  Non-Novel  ...  False\n",
       "5332  Non-Novel  ...  False\n",
       "5345  Non-Novel  ...  False\n",
       "5346  Non-Novel  ...  False\n",
       "\n",
       "[1505 rows x 6 columns]"
      ],
      "text/html": "<div>\n<style scoped>\n    .dataframe tbody tr th:only-of-type {\n        vertical-align: middle;\n    }\n\n    .dataframe tbody tr th {\n        vertical-align: top;\n    }\n\n    .dataframe thead th {\n        text-align: right;\n    }\n</style>\n<table border=\"1\" class=\"dataframe\">\n  <thead>\n    <tr style=\"text-align: right;\">\n      <th></th>\n      <th>Label</th>\n      <th>Source</th>\n      <th>Target</th>\n      <th>Novelty percentage</th>\n      <th>prediction</th>\n      <th>true</th>\n    </tr>\n  </thead>\n  <tbody>\n    <tr>\n      <th>3</th>\n      <td>Novel</td>\n      <td>\\n\\nDealing a severe blow to Mulayam Singh Yad...</td>\n      <td>After winning 'cycle' symbol, Akhilesh Yadav m...</td>\n      <td>0.424767</td>\n      <td>False</td>\n      <td>True</td>\n    </tr>\n    <tr>\n      <th>11</th>\n      <td>Non-Novel</td>\n      <td>New Delhi [India], Oct 5 (ANI): CPI (M) genera...</td>\n      <td>Communist Party of India-Marxist (CPI-M) Gener...</td>\n      <td>0.842634</td>\n      <td>True</td>\n      <td>False</td>\n    </tr>\n    <tr>\n      <th>13</th>\n      <td>Non-Novel</td>\n      <td>\\nThe Aam Aadmi Party (AAP) has claimed that o...</td>\n      <td>Around 90 Punjabis of Indian-origin from Canad...</td>\n      <td>0.617650</td>\n      <td>True</td>\n      <td>False</td>\n    </tr>\n    <tr>\n      <th>14</th>\n      <td>Non-Novel</td>\n      <td>Non-resident Indians (NRIs) from Punjab are fl...</td>\n      <td>Around 90 Punjabis of Indian-origin from Canad...</td>\n      <td>0.865270</td>\n      <td>True</td>\n      <td>False</td>\n    </tr>\n    <tr>\n      <th>15</th>\n      <td>Non-Novel</td>\n      <td>\\nAs Punjab is gearing up for elections, debut...</td>\n      <td>Around 90 Punjabis of Indian-origin from Canad...</td>\n      <td>0.921243</td>\n      <td>True</td>\n      <td>False</td>\n    </tr>\n    <tr>\n      <th>...</th>\n      <td>...</td>\n      <td>...</td>\n      <td>...</td>\n      <td>...</td>\n      <td>...</td>\n      <td>...</td>\n    </tr>\n    <tr>\n      <th>5328</th>\n      <td>Non-Novel</td>\n      <td>Hundreds of people fled homes in Northern Cali...</td>\n      <td>A series of winter storms is forecast to conti...</td>\n      <td>0.761645</td>\n      <td>True</td>\n      <td>False</td>\n    </tr>\n    <tr>\n      <th>5331</th>\n      <td>Non-Novel</td>\n      <td>\\nResidents and officials cleared debris from ...</td>\n      <td>A series of winter storms is forecast to conti...</td>\n      <td>0.533308</td>\n      <td>True</td>\n      <td>False</td>\n    </tr>\n    <tr>\n      <th>5332</th>\n      <td>Non-Novel</td>\n      <td>A powerful winter storm in California has brou...</td>\n      <td>A series of winter storms is forecast to conti...</td>\n      <td>0.551731</td>\n      <td>True</td>\n      <td>False</td>\n    </tr>\n    <tr>\n      <th>5345</th>\n      <td>Non-Novel</td>\n      <td>An avalanche warning has been issued by Snow a...</td>\n      <td>A \"medium danger\" avalanche warning has been i...</td>\n      <td>0.854422</td>\n      <td>True</td>\n      <td>False</td>\n    </tr>\n    <tr>\n      <th>5346</th>\n      <td>Non-Novel</td>\n      <td>\\nA “medium danger” avalanche warning was to...</td>\n      <td>A \"medium danger\" avalanche warning has been i...</td>\n      <td>0.708930</td>\n      <td>True</td>\n      <td>False</td>\n    </tr>\n  </tbody>\n</table>\n<p>1505 rows × 6 columns</p>\n</div>"
     },
     "metadata": {},
     "execution_count": 81
    }
   ],
   "source": [
    "df[df[\"true\"]!=df[\"prediction\"]]"
   ]
  },
  {
   "cell_type": "code",
   "execution_count": null,
   "metadata": {},
   "outputs": [],
   "source": []
  }
 ]
}