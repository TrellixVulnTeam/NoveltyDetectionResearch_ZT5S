{
 "cells": [
  {
   "cell_type": "code",
   "execution_count": 1,
   "source": [
    "# Load Dataset\n",
    "import os\n",
    "import sys\n",
    "sys.path.append(os.path.abspath('../'))\n",
    "\n",
    "import numpy as np\n",
    "import pandas as pd\n",
    "import matplotlib.pyplot as plt\n",
    "import seaborn as sns\n",
    "import json\n"
   ],
   "outputs": [],
   "metadata": {}
  },
  {
   "cell_type": "code",
   "execution_count": 2,
   "source": [
    "# Load Dataset\n",
    "with open('/content/NoveltyDetectionResearch/.data/dlnd/TAP-DLND-1.0_LREC2018_modified/dlnd.jsonl','r') as f:\n",
    "    data = f.readlines()\n",
    "    dataset = [json.loads(line) for line in data]"
   ],
   "outputs": [],
   "metadata": {}
  },
  {
   "cell_type": "code",
   "execution_count": 3,
   "source": [
    "from sklearn.model_selection import train_test_split\n",
    "\n",
    "texts=[(i[\"source\"],i[\"target_text\"]) for i in dataset]\n",
    "labels=[1 if i[\"DLA\"]=='Novel' else 0 for i in dataset]\n",
    "\n",
    "train_texts, test_texts, train_labels, test_labels = train_test_split(texts, labels, test_size=.2)\n",
    "train_texts, val_texts, train_labels, val_labels = train_test_split(train_texts, train_labels, test_size=.2)\n"
   ],
   "outputs": [],
   "metadata": {}
  },
  {
   "cell_type": "code",
   "execution_count": 4,
   "source": [
    "from transformers import DistilBertTokenizerFast,BertTokenizerFast,LongformerTokenizerFast, RobertaTokenizerFast\n",
    "# tokenizer = DistilBertTokenizerFast.from_pretrained('distilbert-base-uncased')\n",
    "# tokenizer = LongformerTokenizerFast.from_pretrained('allenai/longformer-base-4096')\n",
    "tokenizer = RobertaTokenizerFast.from_pretrained('roberta-base')"
   ],
   "outputs": [],
   "metadata": {}
  },
  {
   "cell_type": "code",
   "execution_count": 5,
   "source": [
    "train_encodings = tokenizer(train_texts, truncation=True, padding=True)\n",
    "val_encodings = tokenizer(val_texts, truncation=True, padding=True)\n",
    "test_encodings = tokenizer(test_texts, truncation=True, padding=True)"
   ],
   "outputs": [],
   "metadata": {}
  },
  {
   "cell_type": "code",
   "execution_count": 6,
   "source": [
    "import torch\n",
    "\n",
    "class DLNDDataset(torch.utils.data.Dataset):\n",
    "    def __init__(self, encodings, labels):\n",
    "        self.encodings = encodings\n",
    "        self.labels = labels\n",
    "\n",
    "    def __getitem__(self, idx):\n",
    "        item = {key: torch.tensor(val[idx]) for key, val in self.encodings.items()}\n",
    "        item['labels'] = torch.tensor(self.labels[idx])\n",
    "        return item\n",
    "\n",
    "    def __len__(self):\n",
    "        return len(self.labels)"
   ],
   "outputs": [],
   "metadata": {}
  },
  {
   "cell_type": "code",
   "execution_count": 7,
   "source": [
    "train_dataset = DLNDDataset(train_encodings, train_labels)\n",
    "val_dataset = DLNDDataset(val_encodings, val_labels)\n",
    "test_dataset = DLNDDataset(test_encodings, test_labels)"
   ],
   "outputs": [],
   "metadata": {}
  },
  {
   "cell_type": "code",
   "execution_count": 11,
   "source": [
    "from transformers import DistilBertForSequenceClassification, Trainer, TrainingArguments\n",
    "from transformers import BertForSequenceClassification\n",
    "from transformers import LongformerForSequenceClassification\n",
    "from transformers import RobertaForSequenceClassification\n",
    "\n",
    "import numpy as np\n",
    "\n",
    "from sklearn.metrics import precision_recall_fscore_support,accuracy_score\n",
    "\n",
    "def compute_metrics(pred):\n",
    "    labels = pred.label_ids\n",
    "    preds = pred.predictions.argmax(-1)\n",
    "    precision, recall, f1, _ = precision_recall_fscore_support(labels, preds, average=None)\n",
    "    acc = accuracy_score(labels, preds)\n",
    "    return {\n",
    "        'accuracy': acc,\n",
    "        'f1_novel': f1[0],\n",
    "        'P_novel': precision[0],\n",
    "        'R_novel': recall[0],\n",
    "        'f1_non_novel': f1[1],\n",
    "        'P_non_novel': precision[1],\n",
    "        'R_non_novel': recall[1],\n",
    "    }\n",
    "\n",
    "training_args = TrainingArguments(\n",
    "    output_dir='./results',          # output directory\n",
    "    num_train_epochs=15,              # total number of training epochs\n",
    "    per_device_train_batch_size=8,  # batch size per device during training\n",
    "    per_device_eval_batch_size=16,   # batch size for evaluation\n",
    "    warmup_steps=500,                # number of warmup steps for learning rate scheduler\n",
    "    weight_decay=0.01,               # strength of weight decay\n",
    "    logging_dir='./logs',            # directory for storing logs\n",
    "    logging_steps=100,               # number of steps between logging\n",
    "    evaluation_strategy=\"steps\",     # evaluation strategy\n",
    "    eval_steps=200,                  # number of steps between evaluations\n",
    "    gradient_accumulation_steps=2,   # number of steps for gradient accumulation\n",
    ")\n",
    "\n",
    "# model = DistilBertForSequenceClassification.from_pretrained(\"distilbert-base-uncased\")\n",
    "# model = LongformerForSequenceClassification.from_pretrained(\"allenai/longformer-base-4096\")\n",
    "model = RobertaForSequenceClassification.from_pretrained(\"roberta-base\")\n",
    "\n",
    "\n",
    "trainer = Trainer(\n",
    "    model=model,                         # the instantiated 🤗 Transformers model to be trained\n",
    "    args=training_args,                  # training arguments, defined above\n",
    "    train_dataset=train_dataset,         # training dataset\n",
    "    eval_dataset=val_dataset,            # evaluation dataset\n",
    "    compute_metrics=compute_metrics,     # function to compute metrics\n",
    ")\n",
    "\n",
    "trainer.train()"
   ],
   "outputs": [
    {
     "output_type": "stream",
     "name": "stderr",
     "text": [
      "PyTorch: setting up devices\n",
      "The default value for the training argument `--report_to` will change in v5 (from all installed integrations to none). In v5, you will need to use `--report_to all` to get the same behavior as now. You should start updating your code and make this info disappear :-).\n",
      "loading configuration file https://huggingface.co/roberta-base/resolve/main/config.json from cache at /root/.cache/huggingface/transformers/733bade19e5f0ce98e6531021dd5180994bb2f7b8bd7e80c7968805834ba351e.35205c6cfc956461d8515139f0f8dd5d207a2f336c0c3a83b4bc8dca3518e37b\n",
      "Model config RobertaConfig {\n",
      "  \"architectures\": [\n",
      "    \"RobertaForMaskedLM\"\n",
      "  ],\n",
      "  \"attention_probs_dropout_prob\": 0.1,\n",
      "  \"bos_token_id\": 0,\n",
      "  \"classifier_dropout\": null,\n",
      "  \"eos_token_id\": 2,\n",
      "  \"hidden_act\": \"gelu\",\n",
      "  \"hidden_dropout_prob\": 0.1,\n",
      "  \"hidden_size\": 768,\n",
      "  \"initializer_range\": 0.02,\n",
      "  \"intermediate_size\": 3072,\n",
      "  \"layer_norm_eps\": 1e-05,\n",
      "  \"max_position_embeddings\": 514,\n",
      "  \"model_type\": \"roberta\",\n",
      "  \"num_attention_heads\": 12,\n",
      "  \"num_hidden_layers\": 12,\n",
      "  \"pad_token_id\": 1,\n",
      "  \"position_embedding_type\": \"absolute\",\n",
      "  \"transformers_version\": \"4.11.2\",\n",
      "  \"type_vocab_size\": 1,\n",
      "  \"use_cache\": true,\n",
      "  \"vocab_size\": 50265\n",
      "}\n",
      "\n",
      "loading weights file https://huggingface.co/roberta-base/resolve/main/pytorch_model.bin from cache at /root/.cache/huggingface/transformers/51ba668f7ff34e7cdfa9561e8361747738113878850a7d717dbc69de8683aaad.c7efaa30a0d80b2958b876969faa180e485944a849deee4ad482332de65365a7\n",
      "Some weights of the model checkpoint at roberta-base were not used when initializing RobertaForSequenceClassification: ['lm_head.layer_norm.bias', 'roberta.pooler.dense.weight', 'lm_head.bias', 'roberta.pooler.dense.bias', 'lm_head.dense.weight', 'lm_head.layer_norm.weight', 'lm_head.dense.bias', 'lm_head.decoder.weight']\n",
      "- This IS expected if you are initializing RobertaForSequenceClassification from the checkpoint of a model trained on another task or with another architecture (e.g. initializing a BertForSequenceClassification model from a BertForPreTraining model).\n",
      "- This IS NOT expected if you are initializing RobertaForSequenceClassification from the checkpoint of a model that you expect to be exactly identical (initializing a BertForSequenceClassification model from a BertForSequenceClassification model).\n",
      "Some weights of RobertaForSequenceClassification were not initialized from the model checkpoint at roberta-base and are newly initialized: ['classifier.out_proj.bias', 'classifier.dense.weight', 'classifier.out_proj.weight', 'classifier.dense.bias']\n",
      "You should probably TRAIN this model on a down-stream task to be able to use it for predictions and inference.\n",
      "***** Running training *****\n",
      "  Num examples = 3478\n",
      "  Num Epochs = 15\n",
      "  Instantaneous batch size per device = 8\n",
      "  Total train batch size (w. parallel, distributed & accumulation) = 16\n",
      "  Gradient Accumulation steps = 2\n",
      "  Total optimization steps = 3255\n"
     ]
    },
    {
     "output_type": "display_data",
     "data": {
      "text/html": [
       "\n",
       "    <div>\n",
       "      \n",
       "      <progress value='1714' max='3255' style='width:300px; height:20px; vertical-align: middle;'></progress>\n",
       "      [1714/3255 27:57 < 25:10, 1.02 it/s, Epoch 7.89/15]\n",
       "    </div>\n",
       "    <table border=\"1\" class=\"dataframe\">\n",
       "  <thead>\n",
       "    <tr style=\"text-align: left;\">\n",
       "      <th>Step</th>\n",
       "      <th>Training Loss</th>\n",
       "      <th>Validation Loss</th>\n",
       "      <th>Accuracy</th>\n",
       "      <th>F1 Novel</th>\n",
       "      <th>P Novel</th>\n",
       "      <th>R Novel</th>\n",
       "      <th>F1 Non Novel</th>\n",
       "      <th>P Non Novel</th>\n",
       "      <th>R Non Novel</th>\n",
       "    </tr>\n",
       "  </thead>\n",
       "  <tbody>\n",
       "    <tr>\n",
       "      <td>200</td>\n",
       "      <td>0.627400</td>\n",
       "      <td>0.562248</td>\n",
       "      <td>0.712644</td>\n",
       "      <td>0.641834</td>\n",
       "      <td>0.854962</td>\n",
       "      <td>0.513761</td>\n",
       "      <td>0.760077</td>\n",
       "      <td>0.651316</td>\n",
       "      <td>0.912442</td>\n",
       "    </tr>\n",
       "    <tr>\n",
       "      <td>400</td>\n",
       "      <td>0.501000</td>\n",
       "      <td>0.399783</td>\n",
       "      <td>0.820690</td>\n",
       "      <td>0.812950</td>\n",
       "      <td>0.851759</td>\n",
       "      <td>0.777523</td>\n",
       "      <td>0.827815</td>\n",
       "      <td>0.794492</td>\n",
       "      <td>0.864055</td>\n",
       "    </tr>\n",
       "    <tr>\n",
       "      <td>600</td>\n",
       "      <td>0.355200</td>\n",
       "      <td>0.366205</td>\n",
       "      <td>0.847126</td>\n",
       "      <td>0.856526</td>\n",
       "      <td>0.808554</td>\n",
       "      <td>0.910550</td>\n",
       "      <td>0.836408</td>\n",
       "      <td>0.897098</td>\n",
       "      <td>0.783410</td>\n",
       "    </tr>\n",
       "    <tr>\n",
       "      <td>800</td>\n",
       "      <td>0.300400</td>\n",
       "      <td>0.353447</td>\n",
       "      <td>0.858621</td>\n",
       "      <td>0.852341</td>\n",
       "      <td>0.894207</td>\n",
       "      <td>0.814220</td>\n",
       "      <td>0.864388</td>\n",
       "      <td>0.828753</td>\n",
       "      <td>0.903226</td>\n",
       "    </tr>\n",
       "    <tr>\n",
       "      <td>1000</td>\n",
       "      <td>0.199500</td>\n",
       "      <td>0.400545</td>\n",
       "      <td>0.879310</td>\n",
       "      <td>0.875740</td>\n",
       "      <td>0.904645</td>\n",
       "      <td>0.848624</td>\n",
       "      <td>0.882682</td>\n",
       "      <td>0.856833</td>\n",
       "      <td>0.910138</td>\n",
       "    </tr>\n",
       "    <tr>\n",
       "      <td>1200</td>\n",
       "      <td>0.174600</td>\n",
       "      <td>0.541795</td>\n",
       "      <td>0.881609</td>\n",
       "      <td>0.881200</td>\n",
       "      <td>0.886311</td>\n",
       "      <td>0.876147</td>\n",
       "      <td>0.882016</td>\n",
       "      <td>0.876993</td>\n",
       "      <td>0.887097</td>\n",
       "    </tr>\n",
       "    <tr>\n",
       "      <td>1400</td>\n",
       "      <td>0.134700</td>\n",
       "      <td>0.498447</td>\n",
       "      <td>0.895402</td>\n",
       "      <td>0.897175</td>\n",
       "      <td>0.884187</td>\n",
       "      <td>0.910550</td>\n",
       "      <td>0.893567</td>\n",
       "      <td>0.907363</td>\n",
       "      <td>0.880184</td>\n",
       "    </tr>\n",
       "    <tr>\n",
       "      <td>1600</td>\n",
       "      <td>0.081500</td>\n",
       "      <td>0.494135</td>\n",
       "      <td>0.889655</td>\n",
       "      <td>0.890909</td>\n",
       "      <td>0.882883</td>\n",
       "      <td>0.899083</td>\n",
       "      <td>0.888372</td>\n",
       "      <td>0.896714</td>\n",
       "      <td>0.880184</td>\n",
       "    </tr>\n",
       "  </tbody>\n",
       "</table><p>"
      ],
      "text/plain": [
       "<IPython.core.display.HTML object>"
      ]
     },
     "metadata": {}
    },
    {
     "output_type": "stream",
     "name": "stderr",
     "text": [
      "***** Running Evaluation *****\n",
      "  Num examples = 870\n",
      "  Batch size = 16\n",
      "***** Running Evaluation *****\n",
      "  Num examples = 870\n",
      "  Batch size = 16\n",
      "Saving model checkpoint to ./results/checkpoint-500\n",
      "Configuration saved in ./results/checkpoint-500/config.json\n",
      "Model weights saved in ./results/checkpoint-500/pytorch_model.bin\n",
      "***** Running Evaluation *****\n",
      "  Num examples = 870\n",
      "  Batch size = 16\n",
      "***** Running Evaluation *****\n",
      "  Num examples = 870\n",
      "  Batch size = 16\n",
      "***** Running Evaluation *****\n",
      "  Num examples = 870\n",
      "  Batch size = 16\n",
      "Saving model checkpoint to ./results/checkpoint-1000\n",
      "Configuration saved in ./results/checkpoint-1000/config.json\n",
      "Model weights saved in ./results/checkpoint-1000/pytorch_model.bin\n",
      "***** Running Evaluation *****\n",
      "  Num examples = 870\n",
      "  Batch size = 16\n",
      "***** Running Evaluation *****\n",
      "  Num examples = 870\n",
      "  Batch size = 16\n",
      "Saving model checkpoint to ./results/checkpoint-1500\n",
      "Configuration saved in ./results/checkpoint-1500/config.json\n",
      "Model weights saved in ./results/checkpoint-1500/pytorch_model.bin\n",
      "***** Running Evaluation *****\n",
      "  Num examples = 870\n",
      "  Batch size = 16\n"
     ]
    }
   ],
   "metadata": {}
  },
  {
   "cell_type": "code",
   "execution_count": 9,
   "source": [
    "trainer.evaluate()"
   ],
   "outputs": [
    {
     "output_type": "stream",
     "name": "stderr",
     "text": [
      "***** Running Evaluation *****\n",
      "  Num examples = 870\n",
      "  Batch size = 16\n"
     ]
    },
    {
     "output_type": "display_data",
     "data": {
      "text/html": [
       "\n",
       "    <div>\n",
       "      \n",
       "      <progress value='123' max='55' style='width:300px; height:20px; vertical-align: middle;'></progress>\n",
       "      [55/55 00:35]\n",
       "    </div>\n",
       "    "
      ],
      "text/plain": [
       "<IPython.core.display.HTML object>"
      ]
     },
     "metadata": {}
    },
    {
     "output_type": "execute_result",
     "data": {
      "text/plain": [
       "{'eval_loss': 0.4461168348789215,\n",
       " 'eval_accuracy': 0.9057471264367816,\n",
       " 'eval_f1_novel': 0.9072398190045249,\n",
       " 'eval_P_novel': 0.8950892857142857,\n",
       " 'eval_R_novel': 0.9197247706422018,\n",
       " 'eval_f1_non_novel': 0.9042056074766356,\n",
       " 'eval_P_non_novel': 0.9170616113744076,\n",
       " 'eval_R_non_novel': 0.8917050691244239,\n",
       " 'eval_runtime': 15.8479,\n",
       " 'eval_samples_per_second': 54.897,\n",
       " 'eval_steps_per_second': 3.47,\n",
       " 'epoch': 6.0}"
      ]
     },
     "metadata": {},
     "execution_count": 9
    }
   ],
   "metadata": {}
  },
  {
   "cell_type": "code",
   "execution_count": 10,
   "source": [
    "trainer.evaluate(test_dataset)"
   ],
   "outputs": [
    {
     "output_type": "stream",
     "name": "stderr",
     "text": [
      "***** Running Evaluation *****\n",
      "  Num examples = 1087\n",
      "  Batch size = 16\n"
     ]
    },
    {
     "output_type": "execute_result",
     "data": {
      "text/plain": [
       "{'eval_loss': 0.594714879989624,\n",
       " 'eval_accuracy': 0.8647654093836247,\n",
       " 'eval_f1_novel': 0.8771929824561403,\n",
       " 'eval_P_novel': 0.8578431372549019,\n",
       " 'eval_R_novel': 0.8974358974358975,\n",
       " 'eval_f1_non_novel': 0.8495394063459569,\n",
       " 'eval_P_non_novel': 0.8736842105263158,\n",
       " 'eval_R_non_novel': 0.8266932270916335,\n",
       " 'eval_runtime': 19.7652,\n",
       " 'eval_samples_per_second': 54.996,\n",
       " 'eval_steps_per_second': 3.44,\n",
       " 'epoch': 6.0}"
      ]
     },
     "metadata": {},
     "execution_count": 10
    }
   ],
   "metadata": {}
  },
  {
   "cell_type": "code",
   "execution_count": null,
   "source": [],
   "outputs": [],
   "metadata": {}
  }
 ],
 "metadata": {
  "orig_nbformat": 4,
  "kernelspec": {
   "name": "python2",
   "display_name": "Python 2",
   "language": "python"
  },
  "language_info": {
   "name": "python",
   "version": "3.7.12",
   "mimetype": "text/x-python",
   "codemirror_mode": {
    "name": "ipython",
    "version": 3
   },
   "pygments_lexer": "ipython3",
   "nbconvert_exporter": "python",
   "file_extension": ".py"
  }
 },
 "nbformat": 4,
 "nbformat_minor": 2
}