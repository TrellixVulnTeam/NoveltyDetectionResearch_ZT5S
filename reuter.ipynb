{
 "metadata": {
  "language_info": {
   "codemirror_mode": {
    "name": "ipython",
    "version": 3
   },
   "file_extension": ".py",
   "mimetype": "text/x-python",
   "name": "python",
   "nbconvert_exporter": "python",
   "pygments_lexer": "ipython3",
   "version": "3.7.10-final"
  },
  "orig_nbformat": 2,
  "kernelspec": {
   "name": "python3",
   "display_name": "Python 3.7.10 64-bit",
   "metadata": {
    "interpreter": {
     "hash": "31f2aee4e71d21fbe5cf8b01ff0e069b9275f58929596ceb00d14d90e3e16cd6"
    }
   }
  }
 },
 "nbformat": 4,
 "nbformat_minor": 2,
 "cells": [
  {
   "cell_type": "code",
   "execution_count": 15,
   "metadata": {},
   "outputs": [],
   "source": [
    "from src.datasets.document import *\n",
    "from src.defaults import *\n",
    "import sys\n",
    "old_stdout = sys.stdout\n",
    "load_nli = 'NLI-93'\n",
    "# download_models_from_neptune(load_nli)\n",
    "field = load_field(load_nli)\n",
    "dataset_conf = {'dataset': 'reuters', 'max_num_sent': 60,\"sent_tokenizer\":\"spacy\",\"batch_size\":32,\"device\":\"cuda\"}\n"
   ]
  },
  {
   "cell_type": "code",
   "execution_count": 16,
   "metadata": {},
   "outputs": [],
   "source": [
    "data = document_dataset(dataset_conf,sentence_field = field)"
   ]
  },
  {
   "cell_type": "code",
   "execution_count": 17,
   "metadata": {},
   "outputs": [
    {
     "output_type": "stream",
     "name": "stdout",
     "text": [
      "\n[torchtext.data.batch.Batch of size 32 from REUTERS]\n\t[.text]:[torch.cuda.LongTensor of size 32x60x50 (GPU 0)]\n\t[.label]:[torch.cuda.LongTensor of size 32x10 (GPU 0)]\n"
     ]
    }
   ],
   "source": [
    "for i in data.train_iter:\n",
    "    print(i)\n",
    "    break"
   ]
  },
  {
   "cell_type": "code",
   "execution_count": 4,
   "metadata": {},
   "outputs": [],
   "source": [
    "model_conf = {'results_dir': 'results', 'device': 'cuda', 'dropout': 0.2, 'dataset': 'imdb', 'hidden_size': 300, \"attention_layer_param\":150,\"freeze_encoder\":False,\"num_layers\":1}"
   ]
  },
  {
   "cell_type": "code",
   "execution_count": 5,
   "metadata": {},
   "outputs": [],
   "source": [
    "from src.model.nli_models import *\n",
    "from src.model.novelty_models import *\n",
    "\n",
    "def load_encoder(enc_data):\n",
    "    if enc_data['options'].get(\"attention_layer_param\",0)==0:\n",
    "        model = bilstm_snli(enc_data[\"options\"])\n",
    "    elif enc_data['options'].get(\"r\",0)==0:\n",
    "        model = attn_bilstm_snli(enc_data[\"options\"])\n",
    "    else:\n",
    "        model = struc_attn_snli(enc_data[\"options\"])\n",
    "    return model\n",
    "\n",
    "nli_model_data = load_encoder_data(load_nli)\n",
    "nli_model_data['options'][\"use_glove\"] = False\n",
    "encoder = load_encoder(nli_model_data).encoder\n",
    "model_conf[\"encoder_dim\"] = nli_model_data[\"options\"][\"hidden_size\"]"
   ]
  },
  {
   "cell_type": "code",
   "execution_count": 6,
   "metadata": {},
   "outputs": [],
   "source": [
    "import torch\n",
    "import torch.nn as nn\n",
    "import torch.nn.functional as F\n",
    "import torch.optim as optim\n",
    "import math\n",
    "\n",
    "\n",
    "\n",
    "class Attention(nn.Module):\n",
    "    def __init__(self, conf):\n",
    "        super(Attention, self).__init__()\n",
    "        self.Ws = nn.Linear(\n",
    "            2 * conf[\"hidden_size\"],\n",
    "            conf[\"attention_layer_param\"],\n",
    "            bias=False,\n",
    "        )\n",
    "        self.Wa = nn.Linear(conf[\"attention_layer_param\"], 1, bias=False)\n",
    "\n",
    "    def forward(self, hid):\n",
    "        opt = self.Ws(hid)\n",
    "        opt = torch.tanh(opt)\n",
    "        opt = self.Wa(opt)\n",
    "        opt = F.softmax(opt, dim=1)\n",
    "        return opt\n",
    "\n",
    "\n",
    "class HAN_DOC(nn.Module):\n",
    "    def __init__(self, conf, encoder):\n",
    "        super(HAN_DOC, self).__init__()\n",
    "        self.conf = conf\n",
    "        self.encoder = encoder\n",
    "        if self.conf[\"freeze_encoder\"]:\n",
    "            self.encoder.requires_grad_(False)\n",
    "\n",
    "        self.translate = nn.Linear(\n",
    "            2 * self.conf[\"encoder_dim\"], self.conf[\"hidden_size\"]\n",
    "        )\n",
    "        self.act = nn.ReLU()\n",
    "        self.dropout = nn.Dropout(conf[\"dropout\"])\n",
    "        self.template = nn.Parameter(torch.zeros((1)), requires_grad=True)\n",
    "        self.lstm_layer = nn.LSTM(\n",
    "            input_size=self.conf[\"hidden_size\"],\n",
    "            hidden_size=self.conf[\"hidden_size\"],\n",
    "            num_layers=self.conf[\"num_layers\"],\n",
    "            bidirectional=True,\n",
    "        )\n",
    "        self.attention = Attention(conf)\n",
    "\n",
    "    def forward(self, inp):\n",
    "        batch_size, num_sent, max_len = inp.shape\n",
    "        x = inp.view(-1, max_len)\n",
    "\n",
    "        x_padded_idx = x.sum(dim=1) != 0\n",
    "        x_enc = []\n",
    "        for sub_batch in x[x_padded_idx].split(64):\n",
    "            x_enc.append(self.encoder(sub_batch, None))\n",
    "        x_enc = torch.cat(x_enc, dim=0)\n",
    "\n",
    "        x_enc_t = torch.zeros((batch_size * num_sent, x_enc.size(1))).to(\n",
    "            self.template.device\n",
    "        )\n",
    "\n",
    "        x_enc_t[x_padded_idx] = x_enc\n",
    "        x_enc_t = x_enc_t.view(batch_size, num_sent, -1)\n",
    "\n",
    "        embedded = self.dropout(self.translate(x_enc_t))\n",
    "        embedded = self.act(embedded)\n",
    "\n",
    "        all_, (_, _) = self.lstm_layer(embedded)\n",
    "        attn = self.attention(all_)\n",
    "\n",
    "        cont = torch.bmm(attn.permute(0, 2, 1), all_)\n",
    "        cont = cont.squeeze(1)\n",
    "        return cont\n",
    "\n",
    "\n",
    "class HAN_DOC_Classifier(nn.Module):\n",
    "    def __init__(self,conf,encoder):\n",
    "        super().__init__()\n",
    "        self.conf = conf\n",
    "        self.han_doc = HAN_DOC(conf,encoder)\n",
    "\n",
    "        self.act = nn.ReLU()\n",
    "        self.dropout = nn.Dropout(conf[\"dropout\"])\n",
    "        self.fc = nn.Linear(2 * conf[\"hidden_size\"], 10)\n",
    "\n",
    "    def forward(self, x0):\n",
    "        x0_enc = self.han_doc(x0)\n",
    "        cont = self.dropout(self.act(x0_enc))\n",
    "        cont = self.fc(cont)\n",
    "        return cont\n"
   ]
  },
  {
   "cell_type": "code",
   "execution_count": 7,
   "metadata": {},
   "outputs": [],
   "source": [
    "model = HAN_DOC_Classifier(model_conf,encoder)"
   ]
  },
  {
   "cell_type": "code",
   "execution_count": 8,
   "metadata": {},
   "outputs": [
    {
     "output_type": "execute_result",
     "data": {
      "text/plain": [
       "14808461"
      ]
     },
     "metadata": {},
     "execution_count": 8
    }
   ],
   "source": [
    "sum(p.numel() for p in model.parameters() if p.requires_grad)"
   ]
  },
  {
   "cell_type": "code",
   "execution_count": 9,
   "metadata": {},
   "outputs": [
    {
     "output_type": "stream",
     "name": "stdout",
     "text": [
      "Loss: 91.73408880829811\n",
      "-------------\n",
      "Val Loss: 31.3567091524601\n",
      "-------------\n",
      "Loss: 89.9389337003231\n",
      "-------------\n",
      "Val Loss: 31.342998579144478\n",
      "-------------\n",
      "Loss: 89.93985575437546\n",
      "-------------\n",
      "Val Loss: 31.35296420753002\n",
      "-------------\n",
      "Loss: 89.97350004315376\n",
      "-------------\n",
      "Val Loss: 31.425887420773506\n",
      "-------------\n",
      "Loss: 89.88115161657333\n",
      "-------------\n",
      "Val Loss: 31.475493922829628\n",
      "-------------\n",
      "Loss: 89.90036675333977\n",
      "-------------\n",
      "Val Loss: 31.48111118376255\n",
      "-------------\n",
      "Loss: 89.9422544836998\n",
      "-------------\n",
      "Val Loss: 31.322191655635834\n",
      "-------------\n",
      "Val Loss: 31.322191655635834\n",
      "-------------\n",
      "This run of documentReuters ran for 0:13:05 and logs are available locally at: /root/.hyperdash/logs/documentreuters/documentreuters_2021-03-04t05-17-33-516560.log\n",
      "Finished Training\n"
     ]
    }
   ],
   "source": [
    "\n",
    "from hyperdash import Experiment\n",
    "\n",
    "sys.stdout = old_stdout\n",
    "\n",
    "exp = Experiment(\"documentReuters\",api_key_getter = get_hyperdash_api)\n",
    "optimizer = optim.AdamW(model.parameters(), lr=1e-3)\n",
    "criterion = nn.BCELoss()\n",
    "device = torch.device(\"cuda\")\n",
    "\n",
    "model.to(device)\n",
    "\n",
    "\n",
    "def train(model,dl,optimizer,criterion):\n",
    "    model.train()\n",
    "    iterator_size = len(dl)\n",
    "    n_correct, n_total,running_loss = 0, 0,0\n",
    "\n",
    "    for i, data in enumerate(dl, 0):\n",
    "        inputs, labels = data.text,data.label\n",
    "\n",
    "        batch_size = labels.shape[0]\n",
    "        # zero the parameter gradients\n",
    "        optimizer.zero_grad()\n",
    "\n",
    "        # forward + backward + optimize\n",
    "        outputs = model(inputs)\n",
    "        loss = criterion(torch.sigmoid(outputs), labels.to(torch.float))\n",
    "    \n",
    "\n",
    "        exp.metric('train loss',loss.item(),log=False)\n",
    "        print(f\"loss = {loss.item()}\",end = '\\r')\n",
    "        loss.backward()\n",
    "        optimizer.step()\n",
    "        running_loss += loss.item()\n",
    "    \n",
    "    \n",
    "    \n",
    "    exp.metric('train running loss',running_loss/iterator_size,log=False)\n",
    "    print('Loss: {}'.format(running_loss))\n",
    "    print(\"-------------\")\n",
    "\n",
    "\n",
    "def validate(model,dl,criterion):\n",
    "\n",
    "    iterator_size = len(dl)\n",
    "    n_correct, n_total,running_loss = 0, 0,0\n",
    "    model.eval()\n",
    "    with torch.no_grad():\n",
    "        for i, data in enumerate(dl, 0):\n",
    "            inputs, labels = data.text,data.label\n",
    "            batch_size = labels.shape[0]\n",
    "            # forward \n",
    "            outputs = model(inputs)\n",
    "            loss = criterion(torch.sigmoid(outputs), labels.to(torch.float))\n",
    "            \n",
    "            exp.metric('val loss',loss.item(),log=False)\n",
    "            print(f\"loss = {loss.item()}\",end = '\\r')\n",
    "            running_loss += loss.item()\n",
    "        \n",
    "        \n",
    "        \n",
    "        exp.metric('val running loss',running_loss/iterator_size, log=False)\n",
    "        print('Val Loss: {}'.format(running_loss))\n",
    "        print(\"-------------\")\n",
    "\n",
    "try:\n",
    "\n",
    "    # loop over the dataset multiple times\n",
    "    for epoch in range(7):\n",
    "        train(model,data.train_iter,optimizer,criterion)\n",
    "        validate(model,data.test_iter,criterion)\n",
    "    validate(model,data.test_iter,criterion)\n",
    "    exp.end()\n",
    "    print('Finished Training')\n",
    "except KeyboardInterrupt:\n",
    "    validate(model,testloader,criterion)\n",
    "    exp.end()"
   ]
  },
  {
   "cell_type": "code",
   "execution_count": 18,
   "metadata": {},
   "outputs": [],
   "source": [
    "model.eval()\n",
    "all_opts = torch.empty((0,10))\n",
    "all_lab = torch.empty((0,10))\n",
    "with torch.no_grad():\n",
    "    for i, d in enumerate(data.test_iter, 0):\n",
    "        inputs, labels = d.text,d.label\n",
    "        outputs = torch.sigmoid(model(inputs))\n",
    "        all_opts = torch.cat([all_opts,outputs.cpu()],dim=0)\n",
    "        all_lab = torch.cat([all_lab,labels.cpu()],dim=0)\n",
    "\n",
    "        \n",
    "            "
   ]
  },
  {
   "cell_type": "code",
   "execution_count": 38,
   "metadata": {},
   "outputs": [],
   "source": [
    "from sklearn.metrics import accuracy_score,classification_report\n"
   ]
  },
  {
   "cell_type": "code",
   "execution_count": 44,
   "metadata": {},
   "outputs": [
    {
     "output_type": "stream",
     "name": "stdout",
     "text": [
      "              precision    recall  f1-score   support\n\n           0       0.00      0.00      0.00         0\n           1       0.00      0.00      0.00         0\n           2       0.00      0.00      0.00         0\n           3       0.00      0.00      0.00         0\n           4       0.00      0.00      0.00         0\n           5       0.00      0.00      0.00         0\n           6       0.00      0.00      0.00         0\n           7       0.00      0.00      0.00         0\n           8       0.00      0.00      0.00         0\n           9       1.00      0.72      0.84      2938\n\n   micro avg       0.41      0.72      0.52      2938\n   macro avg       0.10      0.07      0.08      2938\nweighted avg       1.00      0.72      0.84      2938\n samples avg       0.40      0.72      0.51      2938\n\n"
     ]
    }
   ],
   "source": [
    "print(classification_report(np.round(all_opts),all_lab))"
   ]
  },
  {
   "cell_type": "code",
   "execution_count": null,
   "metadata": {},
   "outputs": [],
   "source": []
  }
 ]
}